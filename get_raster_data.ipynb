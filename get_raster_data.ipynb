{
 "cells": [
  {
   "cell_type": "code",
   "execution_count": 8,
   "metadata": {},
   "outputs": [],
   "source": [
    "import ee\n",
    "\n",
    "# Initialize the Earth Engine module.\n",
    "ee.Initialize()"
   ]
  },
  {
   "cell_type": "code",
   "execution_count": 15,
   "metadata": {},
   "outputs": [],
   "source": [
    "\n",
    "aoi = ee.Geometry.Polygon([[16.423269379713, 48.484524861983],\n",
    "                          [16.423269379713, 48.125585982779],\n",
    "                          [16.979571008400, 48.125585982779],\n",
    "                          [16.979571008400, 48.484524861983]])"
   ]
  },
  {
   "cell_type": "code",
   "execution_count": 16,
   "metadata": {},
   "outputs": [],
   "source": [
    "sen2_ic = ee.ImageCollection(ee.ImageCollection('COPERNICUS/S2_SR')\n",
    "                       .filterBounds(aoi) \n",
    "                       .filterDate(ee.Date('2018-06-16'), ee.Date('2018-06-18'))\n",
    "                       .sort('GRANULE_ID', False))"
   ]
  },
  {
   "cell_type": "code",
   "execution_count": 17,
   "metadata": {},
   "outputs": [],
   "source": [
    "imageS2 = ee.Image(sen2_ic.first()).clip(aoi).select('B.*')"
   ]
  },
  {
   "cell_type": "code",
   "execution_count": 18,
   "metadata": {},
   "outputs": [
    {
     "data": {
      "text/plain": [
       "['B1', 'B2', 'B3', 'B4', 'B5', 'B6', 'B7', 'B8', 'B8A', 'B9', 'B11', 'B12']"
      ]
     },
     "execution_count": 18,
     "metadata": {},
     "output_type": "execute_result"
    }
   ],
   "source": [
    "# list band names\n",
    "imageS2.bandNames().getInfo()"
   ]
  },
  {
   "cell_type": "code",
   "execution_count": 24,
   "metadata": {},
   "outputs": [],
   "source": [
    "# download via google drive\n",
    "task = ee.batch.Export.image.toDrive(image=imageS2,\n",
    "                                     description='sentinel2_20180617_march',\n",
    "                                     region=aoi,\n",
    "                                     fileNamePrefix='export_march',\n",
    "                                     crs='EPSG:32633',\n",
    "                                     fileFormat='GeoTIFF',\n",
    "                                     maxPixels=1800000000)\n",
    "task.start()"
   ]
  },
  {
   "cell_type": "code",
   "execution_count": 55,
   "metadata": {},
   "outputs": [
    {
     "data": {
      "text/plain": [
       "{'state': 'COMPLETED',\n",
       " 'description': 'sentinel2_20180617_march',\n",
       " 'creation_timestamp_ms': 1623319731152,\n",
       " 'update_timestamp_ms': 1623320883928,\n",
       " 'start_timestamp_ms': 1623319751698,\n",
       " 'task_type': 'EXPORT_IMAGE',\n",
       " 'destination_uris': ['https://drive.google.com/',\n",
       "  'https://drive.google.com/',\n",
       "  'https://drive.google.com/',\n",
       "  'https://drive.google.com/',\n",
       "  'https://drive.google.com/',\n",
       "  'https://drive.google.com/',\n",
       "  'https://drive.google.com/',\n",
       "  'https://drive.google.com/',\n",
       "  'https://drive.google.com/',\n",
       "  'https://drive.google.com/',\n",
       "  'https://drive.google.com/',\n",
       "  'https://drive.google.com/',\n",
       "  'https://drive.google.com/',\n",
       "  'https://drive.google.com/',\n",
       "  'https://drive.google.com/',\n",
       "  'https://drive.google.com/'],\n",
       " 'attempt': 1,\n",
       " 'id': 'RFN3B4JSR2NEXFPADOV7AWO5',\n",
       " 'name': 'projects/earthengine-legacy/operations/RFN3B4JSR2NEXFPADOV7AWO5'}"
      ]
     },
     "execution_count": 55,
     "metadata": {},
     "output_type": "execute_result"
    }
   ],
   "source": [
    "task.status()"
   ]
  },
  {
   "cell_type": "code",
   "execution_count": null,
   "metadata": {},
   "outputs": [],
   "source": [
    "# download via google drive\n",
    "task = ee.batch.Export.image.toDrive(image=imageS2.select('VV'),\n",
    "                                     description='sentinel1_20180909_tamsweg',\n",
    "                                     region=aoi_tams,\n",
    "                                     fileNamePrefix='export_tams',\n",
    "                                     crs='EPSG:31287',\n",
    "                                     fileFormat='GeoTIFF')\n",
    "task.start()"
   ]
  },
  {
   "cell_type": "code",
   "execution_count": null,
   "metadata": {},
   "outputs": [],
   "source": []
  },
  {
   "cell_type": "code",
   "execution_count": null,
   "metadata": {},
   "outputs": [],
   "source": []
  },
  {
   "cell_type": "code",
   "execution_count": null,
   "metadata": {},
   "outputs": [],
   "source": [
    "# specify extend\n",
    "geoJSON = {\n",
    "  \"type\": \"FeatureCollection\",\n",
    "  \"features\": [\n",
    "    {\n",
    "      \"type\": \"Feature\",\n",
    "      \"properties\": {},\n",
    "      \"geometry\": {\n",
    "        \"type\": \"Polygon\",\n",
    "        \"coordinates\": [\n",
    "          [\n",
    "            [\n",
    "              16.423269379713,\n",
    "              48.484524861983\n",
    "            ],\n",
    "            [\n",
    "              16.423269379713,\n",
    "              48.125585982779\n",
    "            ],\n",
    "            [\n",
    "              16.423269379713,\n",
    "              48.125585982779\n",
    "            ],\n",
    "            [\n",
    "              16.423269379713,\n",
    "              48.484524861983\n",
    "            ],\n",
    "            [\n",
    "              16.423269379713,\n",
    "              48.484524861983\n",
    "            ]\n",
    "          ]\n",
    "        ]\n",
    "      }\n",
    "    }\n",
    "  ]\n",
    "}\n",
    "\n",
    "# get coordinates\n",
    "coords = geoJSON['features'][0]['geometry']['coordinates']\n",
    "# create ee.Geometry()\n",
    "aoi = ee.Geometry.Polygon(coords)"
   ]
  }
 ],
 "metadata": {
  "kernelspec": {
   "display_name": "googleee",
   "language": "python",
   "name": "googleee"
  },
  "language_info": {
   "codemirror_mode": {
    "name": "ipython",
    "version": 3
   },
   "file_extension": ".py",
   "mimetype": "text/x-python",
   "name": "python",
   "nbconvert_exporter": "python",
   "pygments_lexer": "ipython3",
   "version": "3.9.4"
  }
 },
 "nbformat": 4,
 "nbformat_minor": 4
}
