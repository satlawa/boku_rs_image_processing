{
 "cells": [
  {
   "cell_type": "code",
   "execution_count": 1,
   "metadata": {},
   "outputs": [],
   "source": [
    "from osgeo import gdal\n",
    "import sys\n",
    "import os\n",
    "import geopandas as gpd\n",
    "import pandas as pd\n",
    "import numpy as np"
   ]
  },
  {
   "cell_type": "code",
   "execution_count": 40,
   "metadata": {},
   "outputs": [],
   "source": [
    "##########################################\n",
    "### clip raster by study area (vector) ###\n",
    "##########################################"
   ]
  },
  {
   "cell_type": "code",
   "execution_count": 18,
   "metadata": {},
   "outputs": [],
   "source": [
    "path_raster = \"/media/philipp/ed7d22ba-5a3b-4d31-bf6c-6add6e106b3d/crops/s2_raster/march/S2A_20180322/B02_10.jp2\"\n",
    "path_vector = \"/media/philipp/ed7d22ba-5a3b-4d31-bf6c-6add6e106b3d/crops/temp/study_area/boundry.shp\"\n",
    "path_out = \"/media/philipp/ed7d22ba-5a3b-4d31-bf6c-6add6e106b3d/crops/s2_raster/march_clip/S2A_20180322/B02_10.jp2\""
   ]
  },
  {
   "cell_type": "code",
   "execution_count": 33,
   "metadata": {},
   "outputs": [],
   "source": [
    "path_in = \"/media/philipp/ed7d22ba-5a3b-4d31-bf6c-6add6e106b3d/crops/s2_raster/march/\"\n",
    "path_out = \"/media/philipp/ed7d22ba-5a3b-4d31-bf6c-6add6e106b3d/crops/s2_raster/march_clip/\""
   ]
  },
  {
   "cell_type": "code",
   "execution_count": 34,
   "metadata": {},
   "outputs": [
    {
     "name": "stdout",
     "output_type": "stream",
     "text": [
      "*********************\n",
      "S2A_20180322\n",
      "['B02_10.jp2', 'B03_10.jp2', 'B04_10.jp2', 'B05_20.jp2', 'B06_20.jp2', 'B07_20.jp2', 'B08A_20.jp2', 'B08_10.jp2', 'B11_20.jp2', 'B12_20.jp2']\n",
      "*********************\n",
      "S2A_20180421\n",
      "['B02_10.jp2', 'B03_10.jp2', 'B04_10.jp2', 'B05_20.jp2', 'B06_20.jp2', 'B07_20.jp2', 'B08A_20.jp2', 'B08_10.jp2', 'B11_20.jp2', 'B12_20.jp2']\n",
      "*********************\n",
      "S2A_20180513\n",
      "['B02_10.jp2', 'B03_10.jp2', 'B04_10.jp2', 'B05_20.jp2', 'B06_20.jp2', 'B07_20.jp2', 'B08A_20.jp2', 'B08_10.jp2', 'B11_20.jp2', 'B12_20.jp2']\n",
      "*********************\n",
      "S2A_20180617\n",
      "['B02_10.jp2', 'B03_10.jp2', 'B04_10.jp2', 'B05_20.jp2', 'B06_20.jp2', 'B07_20.jp2', 'B08A_20.jp2', 'B08_10.jp2', 'B11_20.jp2', 'B12_20.jp2']\n",
      "*********************\n",
      "S2A_20180702\n",
      "['B02_10.jp2', 'B03_10.jp2', 'B04_10.jp2', 'B05_20.jp2', 'B06_20.jp2', 'B07_20.jp2', 'B08A_20.jp2', 'B08_10.jp2', 'B11_20.jp2', 'B12_20.jp2']\n",
      "*********************\n",
      "S2A_20180720\n",
      "['B02_10.jp2', 'B03_10.jp2', 'B04_10.jp2', 'B05_20.jp2', 'B06_20.jp2', 'B07_20.jp2', 'B08A_20.jp2', 'B08_10.jp2', 'B11_20.jp2', 'B12_20.jp2']\n",
      "*********************\n",
      "S2A_20180809\n",
      "['B02_10.jp2', 'B03_10.jp2', 'B04_10.jp2', 'B05_20.jp2', 'B06_20.jp2', 'B07_20.jp2', 'B08A_20.jp2', 'B08_10.jp2', 'B11_20.jp2', 'B12_20.jp2']\n",
      "*********************\n",
      "S2A_20180821\n",
      "['B02_10.jp2', 'B03_10.jp2', 'B04_10.jp2', 'B05_20.jp2', 'B06_20.jp2', 'B07_20.jp2', 'B08A_20.jp2', 'B08_10.jp2', 'B11_20.jp2', 'B12_20.jp2']\n",
      "*********************\n",
      "S2A_20180920\n",
      "['B02_10.jp2', 'B03_10.jp2', 'B04_10.jp2', 'B05_20.jp2', 'B06_20.jp2', 'B07_20.jp2', 'B08A_20.jp2', 'B08_10.jp2', 'B11_20.jp2', 'B12_20.jp2']\n"
     ]
    }
   ],
   "source": [
    "dirs_rast = sorted(os.listdir(path_in))\n",
    "\n",
    "for dir_rast in dirs_rast[2:]:\n",
    "    print('*********************')\n",
    "    print(dir_rast)\n",
    "    print(sorted(os.listdir(path_in+dir_rast))[:10])\n",
    "    #poi = extract_values(poi, path_raster+dir_rast+'/')"
   ]
  },
  {
   "cell_type": "code",
   "execution_count": 35,
   "metadata": {},
   "outputs": [],
   "source": [
    "# load vector - study area boundries\n",
    "vect = gpd.read_file(path_vector)\n",
    "# get extend\n",
    "extend = vect.loc[0,'geometry'].bounds"
   ]
  },
  {
   "cell_type": "code",
   "execution_count": 36,
   "metadata": {},
   "outputs": [
    {
     "data": {
      "text/plain": [
       "(602197.2084267415, 5330943.329159929, 647517.2084267415, 5373373.329159929)"
      ]
     },
     "execution_count": 36,
     "metadata": {},
     "output_type": "execute_result"
    }
   ],
   "source": [
    "extend"
   ]
  },
  {
   "cell_type": "code",
   "execution_count": 39,
   "metadata": {},
   "outputs": [
    {
     "name": "stdout",
     "output_type": "stream",
     "text": [
      "*********************\n",
      "S2A_20180322\n",
      "*********************\n",
      "S2A_20180421\n",
      "*********************\n",
      "S2A_20180513\n",
      "*********************\n",
      "S2A_20180617\n",
      "*********************\n",
      "S2A_20180702\n",
      "*********************\n",
      "S2A_20180720\n",
      "*********************\n",
      "S2A_20180809\n",
      "*********************\n",
      "S2A_20180821\n",
      "*********************\n",
      "S2A_20180920\n"
     ]
    }
   ],
   "source": [
    "dir_dates = sorted(os.listdir(path_in))\n",
    "\n",
    "# loop over dates\n",
    "for dir_date in dir_dates[2:]:\n",
    "    print('*********************')\n",
    "    print(dir_date)\n",
    "    dir_bands = sorted(os.listdir(path+dir_date))[:10]\n",
    "    \n",
    "    # loop over bands\n",
    "    for dir_band in dir_bands:\n",
    "        rast_in = \"{}{}/{}\".format(path_in,dir_date,dir_band)\n",
    "        rast_out = \"{}{}/{}\".format(path_out,dir_date,dir_band)\n",
    "        \n",
    "        # construct bash command\n",
    "        bash_command = \"gdal_translate -projwin {} {} {} {} -a_nodata 0.0 -of GTiff {} {}\".format(extend[0], extend[3], extend[2], extend[1], rast_in, rast_out)\n",
    "        # execute command\n",
    "        os.system(bash_command)"
   ]
  },
  {
   "cell_type": "code",
   "execution_count": null,
   "metadata": {},
   "outputs": [],
   "source": [
    "###############################"
   ]
  },
  {
   "cell_type": "code",
   "execution_count": null,
   "metadata": {},
   "outputs": [],
   "source": []
  },
  {
   "cell_type": "code",
   "execution_count": null,
   "metadata": {},
   "outputs": [],
   "source": []
  },
  {
   "cell_type": "code",
   "execution_count": null,
   "metadata": {},
   "outputs": [],
   "source": []
  },
  {
   "cell_type": "code",
   "execution_count": 16,
   "metadata": {},
   "outputs": [],
   "source": [
    "# create nupy template\n",
    "x = np.zeros([4244,4533], dtype='uint8')"
   ]
  },
  {
   "cell_type": "code",
   "execution_count": 18,
   "metadata": {},
   "outputs": [
    {
     "data": {
      "text/plain": [
       "(4244, 4533)"
      ]
     },
     "execution_count": 18,
     "metadata": {},
     "output_type": "execute_result"
    }
   ],
   "source": [
    "x.shape"
   ]
  },
  {
   "cell_type": "code",
   "execution_count": null,
   "metadata": {},
   "outputs": [],
   "source": [
    "Guten Abend Christian,\n",
    "ich bin an den RAM-Modulen interessiert. Sind diese noch verfügbar? Wie würde die Geldüberweisung funktionieren bei Versand?"
   ]
  },
  {
   "cell_type": "code",
   "execution_count": null,
   "metadata": {},
   "outputs": [],
   "source": [
    "boundries = gpd."
   ]
  },
  {
   "cell_type": "code",
   "execution_count": null,
   "metadata": {},
   "outputs": [],
   "source": [
    "clip_by_grid(path_vector, path_raster, )"
   ]
  },
  {
   "cell_type": "code",
   "execution_count": 7,
   "metadata": {},
   "outputs": [],
   "source": [
    "def clip_by_grid(path_in_grid, path_in_raster, path_out_dir, data_type='ortho'):\n",
    "    '''\n",
    "    clip raster by grid\n",
    "\n",
    "    input:\n",
    "        path_in_grid (string) - path to vector (.shp) file containing polygons\n",
    "        path_in_raster (string) - path to raster (.tif) that needs to be cutted\n",
    "        path_out_dir (string) -\n",
    "        data_type (string) - name of type (exp. 'ortho', 'dsm', 'dtm', 'slope')\n",
    "    '''\n",
    "\n",
    "    # load vector file\n",
    "    grid = geopandas.read_file(path_in_grid)\n",
    "\n",
    "    if (data_type == 'ortho') or (data_type == 'prediction'):\n",
    "        sufix = ''\n",
    "    else:\n",
    "        sufix = '_1m'\n",
    "\n",
    "    # variables for keeping track of the progress\n",
    "    size = grid.shape[0]\n",
    "    percentage = 0\n",
    "\n",
    "    # loop over all the polygons\n",
    "    for i in range(size):\n",
    "        # keep track of the progress\n",
    "        if i % (size // 10) == 0:\n",
    "            print('{}%'.format(percentage))\n",
    "            percentage += 10\n",
    "        # get extend\n",
    "        extend = grid.loc[i,'geometry'].bounds\n",
    "        # set paths\n",
    "        path_out = \"{}{}{}/tile_{}_{}.tif\".format(path_out_dir, data_type, sufix, data_type, grid.loc[i,'id'])\n",
    "\n",
    "        # construct bash command\n",
    "        bash_command = \"gdal_translate -projwin {} {} {} {} -a_nodata 0.0 -of GTiff {} {}\".format(extend[0], extend[3], extend[2], extend[1], path_in_raster, path_out)\n",
    "        # execute command\n",
    "        os.system(bash_command)\n",
    "\n",
    "    print(\"finished cilpping\")"
   ]
  },
  {
   "cell_type": "code",
   "execution_count": null,
   "metadata": {},
   "outputs": [],
   "source": []
  },
  {
   "cell_type": "code",
   "execution_count": 13,
   "metadata": {},
   "outputs": [
    {
     "data": {
      "text/plain": [
       "4244.0"
      ]
     },
     "execution_count": 13,
     "metadata": {},
     "output_type": "execute_result"
    }
   ],
   "source": [
    "19238052/4533"
   ]
  },
  {
   "cell_type": "code",
   "execution_count": null,
   "metadata": {},
   "outputs": [],
   "source": []
  },
  {
   "cell_type": "code",
   "execution_count": 1,
   "metadata": {},
   "outputs": [],
   "source": [
    "\n",
    "# Extent\n",
    "extend = [605726.1051020468585193, 5332748.8710450790822506, 646739.8407182103255764, 5370219.1156320208683610]"
   ]
  },
  {
   "cell_type": "code",
   "execution_count": 3,
   "metadata": {},
   "outputs": [
    {
     "data": {
      "text/plain": [
       "41013.73561616347"
      ]
     },
     "execution_count": 3,
     "metadata": {},
     "output_type": "execute_result"
    }
   ],
   "source": [
    "extend[2]-extend[0]"
   ]
  },
  {
   "cell_type": "code",
   "execution_count": 4,
   "metadata": {},
   "outputs": [
    {
     "data": {
      "text/plain": [
       "37470.244586941786"
      ]
     },
     "execution_count": 4,
     "metadata": {},
     "output_type": "execute_result"
    }
   ],
   "source": [
    "extend[3]-extend[1]"
   ]
  },
  {
   "cell_type": "code",
   "execution_count": null,
   "metadata": {},
   "outputs": [],
   "source": [
    "def tif2array(self, file_path, dtype=np.uint8):\n",
    "    \"\"\"\n",
    "    read GeoTiff and convert to numpy.ndarray.\n",
    "    inputs:\n",
    "        file_path (str) : file path of the input GeoTiff file\n",
    "    return:\n",
    "        image(np.array) : image for each bands\n",
    "        dataset : for gdal's data drive\n",
    "    \"\"\"\n",
    "    dataset = gdal.Open(file_path, gdal.GA_ReadOnly)\n",
    "\n",
    "    if dataset is None:\n",
    "        return None\n",
    "\n",
    "    # Allocate our array using the first band's datatype\n",
    "    image_datatype = dataset.GetRasterBand(1).DataType\n",
    "    image = np.zeros((dataset.RasterYSize, dataset.RasterXSize, dataset.RasterCount),\n",
    "                     dtype=dtype)\n",
    "\n",
    "    # Loop over all bands in dataset\n",
    "    for b in range(dataset.RasterCount):\n",
    "        # Remember, GDAL index is on 1, but Python is on 0 -- so we add 1 for our GDAL calls\n",
    "        band = dataset.GetRasterBand(b + 1)\n",
    "        # Read in the band's data into the third dimension of our array\n",
    "        image[:, :, b] = band.ReadAsArray()#buf_type=gdalconst.GDT_Byte)\n",
    "\n",
    "    #image = image[2:-2,2:-2,:]\n",
    "\n",
    "    return image"
   ]
  },
  {
   "cell_type": "code",
   "execution_count": null,
   "metadata": {},
   "outputs": [],
   "source": [
    "# create numpy array"
   ]
  },
  {
   "cell_type": "code",
   "execution_count": null,
   "metadata": {},
   "outputs": [],
   "source": [
    "# classify"
   ]
  },
  {
   "cell_type": "code",
   "execution_count": null,
   "metadata": {},
   "outputs": [],
   "source": [
    "# create image"
   ]
  }
 ],
 "metadata": {
  "kernelspec": {
   "display_name": "geo",
   "language": "python",
   "name": "geo"
  },
  "language_info": {
   "codemirror_mode": {
    "name": "ipython",
    "version": 3
   },
   "file_extension": ".py",
   "mimetype": "text/x-python",
   "name": "python",
   "nbconvert_exporter": "python",
   "pygments_lexer": "ipython3",
   "version": "3.8.2"
  }
 },
 "nbformat": 4,
 "nbformat_minor": 4
}
