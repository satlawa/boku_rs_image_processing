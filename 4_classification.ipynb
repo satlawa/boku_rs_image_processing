{
 "cells": [
  {
   "cell_type": "code",
   "execution_count": 1,
   "metadata": {},
   "outputs": [],
   "source": [
    "from osgeo import gdal\n",
    "import sys\n",
    "import os\n",
    "import geopandas as gpd\n",
    "import pandas as pd\n",
    "import numpy as np"
   ]
  },
  {
   "cell_type": "code",
   "execution_count": 2,
   "metadata": {},
   "outputs": [],
   "source": [
    "##########################################\n",
    "### clip raster by study area (vector) ###\n",
    "##########################################"
   ]
  },
  {
   "cell_type": "code",
   "execution_count": 3,
   "metadata": {},
   "outputs": [],
   "source": [
    "path_raster = \"/media/philipp/ed7d22ba-5a3b-4d31-bf6c-6add6e106b3d/crops/s2_raster/march/S2A_20180322/B02_10.jp2\"\n",
    "path_vector = \"/media/philipp/ed7d22ba-5a3b-4d31-bf6c-6add6e106b3d/crops/temp/study_area/boundry.shp\"\n",
    "path_out = \"/media/philipp/ed7d22ba-5a3b-4d31-bf6c-6add6e106b3d/crops/s2_raster/march_clip/S2A_20180322/B02_10.jp2\""
   ]
  },
  {
   "cell_type": "code",
   "execution_count": 4,
   "metadata": {},
   "outputs": [],
   "source": [
    "path_in = \"/media/philipp/ed7d22ba-5a3b-4d31-bf6c-6add6e106b3d/crops/s2_raster/march/\"\n",
    "path_out = \"/media/philipp/ed7d22ba-5a3b-4d31-bf6c-6add6e106b3d/crops/s2_raster/march_clip/\""
   ]
  },
  {
   "cell_type": "code",
   "execution_count": 34,
   "metadata": {},
   "outputs": [
    {
     "name": "stdout",
     "output_type": "stream",
     "text": [
      "*********************\n",
      "S2A_20180322\n",
      "['B02_10.jp2', 'B03_10.jp2', 'B04_10.jp2', 'B05_20.jp2', 'B06_20.jp2', 'B07_20.jp2', 'B08A_20.jp2', 'B08_10.jp2', 'B11_20.jp2', 'B12_20.jp2']\n",
      "*********************\n",
      "S2A_20180421\n",
      "['B02_10.jp2', 'B03_10.jp2', 'B04_10.jp2', 'B05_20.jp2', 'B06_20.jp2', 'B07_20.jp2', 'B08A_20.jp2', 'B08_10.jp2', 'B11_20.jp2', 'B12_20.jp2']\n",
      "*********************\n",
      "S2A_20180513\n",
      "['B02_10.jp2', 'B03_10.jp2', 'B04_10.jp2', 'B05_20.jp2', 'B06_20.jp2', 'B07_20.jp2', 'B08A_20.jp2', 'B08_10.jp2', 'B11_20.jp2', 'B12_20.jp2']\n",
      "*********************\n",
      "S2A_20180617\n",
      "['B02_10.jp2', 'B03_10.jp2', 'B04_10.jp2', 'B05_20.jp2', 'B06_20.jp2', 'B07_20.jp2', 'B08A_20.jp2', 'B08_10.jp2', 'B11_20.jp2', 'B12_20.jp2']\n",
      "*********************\n",
      "S2A_20180702\n",
      "['B02_10.jp2', 'B03_10.jp2', 'B04_10.jp2', 'B05_20.jp2', 'B06_20.jp2', 'B07_20.jp2', 'B08A_20.jp2', 'B08_10.jp2', 'B11_20.jp2', 'B12_20.jp2']\n",
      "*********************\n",
      "S2A_20180720\n",
      "['B02_10.jp2', 'B03_10.jp2', 'B04_10.jp2', 'B05_20.jp2', 'B06_20.jp2', 'B07_20.jp2', 'B08A_20.jp2', 'B08_10.jp2', 'B11_20.jp2', 'B12_20.jp2']\n",
      "*********************\n",
      "S2A_20180809\n",
      "['B02_10.jp2', 'B03_10.jp2', 'B04_10.jp2', 'B05_20.jp2', 'B06_20.jp2', 'B07_20.jp2', 'B08A_20.jp2', 'B08_10.jp2', 'B11_20.jp2', 'B12_20.jp2']\n",
      "*********************\n",
      "S2A_20180821\n",
      "['B02_10.jp2', 'B03_10.jp2', 'B04_10.jp2', 'B05_20.jp2', 'B06_20.jp2', 'B07_20.jp2', 'B08A_20.jp2', 'B08_10.jp2', 'B11_20.jp2', 'B12_20.jp2']\n",
      "*********************\n",
      "S2A_20180920\n",
      "['B02_10.jp2', 'B03_10.jp2', 'B04_10.jp2', 'B05_20.jp2', 'B06_20.jp2', 'B07_20.jp2', 'B08A_20.jp2', 'B08_10.jp2', 'B11_20.jp2', 'B12_20.jp2']\n"
     ]
    }
   ],
   "source": [
    "dirs_rast = sorted(os.listdir(path_in))\n",
    "\n",
    "for dir_rast in dirs_rast[2:]:\n",
    "    print('*********************')\n",
    "    print(dir_rast)\n",
    "    print(sorted(os.listdir(path_in+dir_rast))[:10])\n",
    "    #poi = extract_values(poi, path_raster+dir_rast+'/')"
   ]
  },
  {
   "cell_type": "code",
   "execution_count": 35,
   "metadata": {},
   "outputs": [],
   "source": [
    "# load vector - study area boundries\n",
    "vect = gpd.read_file(path_vector)\n",
    "# get extend\n",
    "extend = vect.loc[0,'geometry'].bounds"
   ]
  },
  {
   "cell_type": "code",
   "execution_count": 36,
   "metadata": {},
   "outputs": [
    {
     "data": {
      "text/plain": [
       "(602197.2084267415, 5330943.329159929, 647517.2084267415, 5373373.329159929)"
      ]
     },
     "execution_count": 36,
     "metadata": {},
     "output_type": "execute_result"
    }
   ],
   "source": [
    "extend"
   ]
  },
  {
   "cell_type": "code",
   "execution_count": 39,
   "metadata": {},
   "outputs": [
    {
     "name": "stdout",
     "output_type": "stream",
     "text": [
      "*********************\n",
      "S2A_20180322\n",
      "*********************\n",
      "S2A_20180421\n",
      "*********************\n",
      "S2A_20180513\n",
      "*********************\n",
      "S2A_20180617\n",
      "*********************\n",
      "S2A_20180702\n",
      "*********************\n",
      "S2A_20180720\n",
      "*********************\n",
      "S2A_20180809\n",
      "*********************\n",
      "S2A_20180821\n",
      "*********************\n",
      "S2A_20180920\n"
     ]
    }
   ],
   "source": [
    "dir_dates = sorted(os.listdir(path_in))\n",
    "\n",
    "# loop over dates\n",
    "for dir_date in dir_dates[2:]:\n",
    "    print('*********************')\n",
    "    print(dir_date)\n",
    "    dir_bands = sorted(os.listdir(path+dir_date))[:10]\n",
    "    \n",
    "    # loop over bands\n",
    "    for dir_band in dir_bands:\n",
    "        rast_in = \"{}{}/{}\".format(path_in,dir_date,dir_band)\n",
    "        rast_out = \"{}{}/{}\".format(path_out,dir_date,dir_band)\n",
    "        \n",
    "        # construct bash command\n",
    "        bash_command = \"gdal_translate -projwin {} {} {} {} -a_nodata 0.0 -of GTiff {} {}\".format(extend[0], extend[3], extend[2], extend[1], rast_in, rast_out)\n",
    "        # execute command\n",
    "        os.system(bash_command)"
   ]
  },
  {
   "cell_type": "code",
   "execution_count": null,
   "metadata": {},
   "outputs": [],
   "source": [
    "###############################"
   ]
  },
  {
   "cell_type": "code",
   "execution_count": 5,
   "metadata": {},
   "outputs": [],
   "source": [
    "def tif2array(file_path, dtype=np.uint8):\n",
    "    \"\"\"\n",
    "    read GeoTiff and convert to numpy.ndarray.\n",
    "    inputs:\n",
    "        file_path (str) : file path of the input GeoTiff file\n",
    "    return:\n",
    "        image(np.array) : image for each bands\n",
    "        dataset : for gdal's data drive\n",
    "    \"\"\"\n",
    "    dataset = gdal.Open(file_path, gdal.GA_ReadOnly)\n",
    "\n",
    "    if dataset is None:\n",
    "        return None\n",
    "\n",
    "    # Allocate our array using the first band's datatype\n",
    "    image_datatype = dataset.GetRasterBand(1).DataType\n",
    "    image = np.zeros((dataset.RasterYSize, dataset.RasterXSize, dataset.RasterCount),\n",
    "                     dtype=dtype)\n",
    "\n",
    "    # Loop over all bands in dataset\n",
    "    for b in range(dataset.RasterCount):\n",
    "        # Remember, GDAL index is on 1, but Python is on 0 -- so we add 1 for our GDAL calls\n",
    "        band = dataset.GetRasterBand(b + 1)\n",
    "        # Read in the band's data into the third dimension of our array\n",
    "        image[:, :, b] = band.ReadAsArray()#buf_type=gdalconst.GDT_Byte)\n",
    "\n",
    "    #image = image[2:-2,2:-2,:]\n",
    "\n",
    "    return image"
   ]
  },
  {
   "cell_type": "code",
   "execution_count": 44,
   "metadata": {},
   "outputs": [
    {
     "name": "stdout",
     "output_type": "stream",
     "text": [
      "*********************\n",
      "0 S2A_20180322\n",
      "*********************\n",
      "10 S2A_20180421\n",
      "*********************\n",
      "20 S2A_20180513\n",
      "*********************\n",
      "30 S2A_20180617\n",
      "*********************\n",
      "40 S2A_20180702\n",
      "*********************\n",
      "50 S2A_20180720\n",
      "*********************\n",
      "60 S2A_20180809\n",
      "*********************\n",
      "70 S2A_20180821\n",
      "*********************\n",
      "80 S2A_20180920\n"
     ]
    }
   ],
   "source": [
    "# create array for storing rearranged data\n",
    "data = np.zeros([19229276,90], np.uint16)\n",
    "i = 0\n",
    "\n",
    "# get directories of aqusition dates\n",
    "dir_dates = sorted(os.listdir(path_out))\n",
    "\n",
    "# loop over dates\n",
    "for dir_date in dir_dates:\n",
    "    print('*********************')\n",
    "    print(i, dir_date)\n",
    "    # get filenames of bands\n",
    "    dir_bands = sorted(os.listdir(path_out+dir_date))\n",
    "    \n",
    "    # loop over bands\n",
    "    for dir_band in dir_bands:\n",
    "        # create path\n",
    "        rast = \"{}{}/{}\".format(path_out,dir_date,dir_band)\n",
    "        # load and convert to numpy array\n",
    "        x = tif2array(rast, dtype=np.uint16)\n",
    "        # if resolution is 20m -> rescale to 10m\n",
    "        start = dir_band.find('_')\n",
    "        if dir_band[start+1:start+3] == '20':\n",
    "            x = np.repeat(x, 2, axis=0)\n",
    "            x = np.repeat(x, 2, axis=1)\n",
    "            x = x[:-1,:]\n",
    "        data[:,i] = x.flatten()\n",
    "        \n",
    "        i += 1\n",
    "        del x\n",
    "        # construct bash command\n",
    "    #    bash_command = \"gdal_translate -projwin {} {} {} {} -a_nodata 0.0 -of GTiff {} {}\".format(extend[0], extend[3], extend[2], extend[1], rast_in, rast_out)\n",
    "        # execute command\n",
    "    #    os.system(bash_command)"
   ]
  },
  {
   "cell_type": "code",
   "execution_count": 49,
   "metadata": {},
   "outputs": [
    {
     "data": {
      "text/plain": [
       "array([[ 405,  535,  727, ..., 3600, 1919, 1060],\n",
       "       [ 433,  562,  754, ..., 3419, 1919, 1060],\n",
       "       [ 461,  589,  770, ..., 3323, 1950, 1127],\n",
       "       ...,\n",
       "       [ 354,  378,  455, ..., 2879, 1499,  660],\n",
       "       [ 398,  394,  507, ..., 2974, 1535,  665],\n",
       "       [ 344,  346,  431, ..., 2041, 1535,  665]], dtype=uint16)"
      ]
     },
     "execution_count": 49,
     "metadata": {},
     "output_type": "execute_result"
    }
   ],
   "source": [
    "data"
   ]
  },
  {
   "cell_type": "code",
   "execution_count": 48,
   "metadata": {},
   "outputs": [],
   "source": [
    "data.tofile('/media/philipp/ed7d22ba-5a3b-4d31-bf6c-6add6e106b3d/crops/s2_raster/data/class_data.csv', sep = ',')"
   ]
  },
  {
   "cell_type": "code",
   "execution_count": 50,
   "metadata": {},
   "outputs": [],
   "source": [
    "np.save('/media/philipp/ed7d22ba-5a3b-4d31-bf6c-6add6e106b3d/crops/s2_raster/data/class_data_numpy.csv', data)"
   ]
  },
  {
   "cell_type": "code",
   "execution_count": null,
   "metadata": {},
   "outputs": [],
   "source": []
  },
  {
   "cell_type": "code",
   "execution_count": null,
   "metadata": {},
   "outputs": [],
   "source": []
  },
  {
   "cell_type": "code",
   "execution_count": 1,
   "metadata": {},
   "outputs": [],
   "source": [
    "\n",
    "# Extent\n",
    "extend = [605726.1051020468585193, 5332748.8710450790822506, 646739.8407182103255764, 5370219.1156320208683610]"
   ]
  },
  {
   "cell_type": "code",
   "execution_count": 3,
   "metadata": {},
   "outputs": [
    {
     "data": {
      "text/plain": [
       "41013.73561616347"
      ]
     },
     "execution_count": 3,
     "metadata": {},
     "output_type": "execute_result"
    }
   ],
   "source": [
    "extend[2]-extend[0]"
   ]
  },
  {
   "cell_type": "code",
   "execution_count": 4,
   "metadata": {},
   "outputs": [
    {
     "data": {
      "text/plain": [
       "37470.244586941786"
      ]
     },
     "execution_count": 4,
     "metadata": {},
     "output_type": "execute_result"
    }
   ],
   "source": [
    "extend[3]-extend[1]"
   ]
  },
  {
   "cell_type": "code",
   "execution_count": null,
   "metadata": {},
   "outputs": [],
   "source": [
    "def tif2array(self, file_path, dtype=np.uint8):\n",
    "    \"\"\"\n",
    "    read GeoTiff and convert to numpy.ndarray.\n",
    "    inputs:\n",
    "        file_path (str) : file path of the input GeoTiff file\n",
    "    return:\n",
    "        image(np.array) : image for each bands\n",
    "        dataset : for gdal's data drive\n",
    "    \"\"\"\n",
    "    dataset = gdal.Open(file_path, gdal.GA_ReadOnly)\n",
    "\n",
    "    if dataset is None:\n",
    "        return None\n",
    "\n",
    "    # Allocate our array using the first band's datatype\n",
    "    image_datatype = dataset.GetRasterBand(1).DataType\n",
    "    image = np.zeros((dataset.RasterYSize, dataset.RasterXSize, dataset.RasterCount),\n",
    "                     dtype=dtype)\n",
    "\n",
    "    # Loop over all bands in dataset\n",
    "    for b in range(dataset.RasterCount):\n",
    "        # Remember, GDAL index is on 1, but Python is on 0 -- so we add 1 for our GDAL calls\n",
    "        band = dataset.GetRasterBand(b + 1)\n",
    "        # Read in the band's data into the third dimension of our array\n",
    "        image[:, :, b] = band.ReadAsArray()#buf_type=gdalconst.GDT_Byte)\n",
    "\n",
    "    #image = image[2:-2,2:-2,:]\n",
    "\n",
    "    return image"
   ]
  },
  {
   "cell_type": "code",
   "execution_count": null,
   "metadata": {},
   "outputs": [],
   "source": [
    "# create numpy array"
   ]
  },
  {
   "cell_type": "code",
   "execution_count": null,
   "metadata": {},
   "outputs": [],
   "source": [
    "# classify"
   ]
  },
  {
   "cell_type": "code",
   "execution_count": null,
   "metadata": {},
   "outputs": [],
   "source": [
    "# create image"
   ]
  }
 ],
 "metadata": {
  "kernelspec": {
   "display_name": "geo",
   "language": "python",
   "name": "geo"
  },
  "language_info": {
   "codemirror_mode": {
    "name": "ipython",
    "version": 3
   },
   "file_extension": ".py",
   "mimetype": "text/x-python",
   "name": "python",
   "nbconvert_exporter": "python",
   "pygments_lexer": "ipython3",
   "version": "3.8.2"
  }
 },
 "nbformat": 4,
 "nbformat_minor": 4
}
