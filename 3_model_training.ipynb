{
 "cells": [
  {
   "cell_type": "code",
   "execution_count": 1,
   "metadata": {},
   "outputs": [],
   "source": [
    "# Nice Formatting within Jupyter Notebook\n",
    "%matplotlib inline\n",
    "#from IPython.display import display # Allows multiple displays from a single code-cell\n",
    "\n",
    "# System functionality\n",
    "import sys\n",
    "sys.path.append('..')\n",
    "\n",
    "# Import Here any Additional modules you use. To import utilities we provide, use something like:\n",
    "#   from utils.plotter import plot_hinton\n",
    "\n",
    "# Your Code goes here:\n",
    "#from __future__ import division, print_function # Imports from __future__ since we're running Python 2\n",
    "import os\n",
    "import numpy as np \n",
    "import pandas as pd\n",
    "import matplotlib.pyplot as plt\n",
    "import seaborn as sns\n",
    "import sklearn\n",
    "from sklearn.utils import shuffle\n",
    "from sklearn.model_selection import train_test_split #, KFold\n",
    "from sklearn.linear_model import LogisticRegression, LogisticRegressionCV\n",
    "from sklearn.svm import SVC\n",
    "from sklearn.ensemble import RandomForestClassifier\n",
    "from sklearn.tree import DecisionTreeClassifier\n",
    "from sklearn.naive_bayes import GaussianNB\n",
    "from sklearn.neighbors import KNeighborsClassifier\n",
    "from sklearn.metrics import accuracy_score\n",
    "from sklearn.metrics import confusion_matrix\n",
    "#from sklearn import preprocessing\n",
    "from numpy import unravel_index\n",
    "from matplotlib.colors import ListedColormap\n",
    "from numpy import linspace\n",
    "%matplotlib inline\n",
    "\n",
    "from sklearn.decomposition import PCA\n",
    "from sklearn.discriminant_analysis import LinearDiscriminantAnalysis\n",
    "\n",
    "from sklearn.metrics import log_loss\n",
    "from sklearn.model_selection import KFold\n",
    "from sklearn.preprocessing import StandardScaler\n",
    "from sklearn.neural_network import MLPClassifier\n",
    "from sklearn.model_selection import train_test_split, cross_val_score, GridSearchCV"
   ]
  },
  {
   "cell_type": "code",
   "execution_count": 3,
   "metadata": {},
   "outputs": [
    {
     "name": "stdout",
     "output_type": "stream",
     "text": [
      "Train: number of instances: 23927, number of attributes: 101\n",
      "Test: number of instances: 4584, number of attributes: 101\n"
     ]
    }
   ],
   "source": [
    "#####################\n",
    "###   load data   ###\n",
    "#####################\n",
    "\n",
    "# load datasets\n",
    "data_path = \"/home/philipp/Documents/boku/remote_sensing_and_image_processing/final_ass/train_data_LAI_ext.csv\"\n",
    "train = pd.read_csv(data_path, delimiter = ',', index_col=0)\n",
    "data_path = \"/home/philipp/Documents/boku/remote_sensing_and_image_processing/final_ass/test_data.csv\"\n",
    "test = pd.read_csv(data_path, delimiter = ',', index_col=0)\n",
    "\n",
    "train = shuffle(train, random_state=399)\n",
    "\n",
    "X_train = train.drop(['crop_id','geometry'], axis=1).values\n",
    "y_train = train['crop_id'].values\n",
    "X_test = test.drop(['crop_id','geometry'], axis=1).values\n",
    "y_test = test['crop_id'].values\n",
    "\n",
    "print(\"Train: number of instances: {}, number of attributes: {}\".format(train.shape[0], train.shape[1]))\n",
    "print(\"Test: number of instances: {}, number of attributes: {}\".format(test.shape[0], test.shape[1]))"
   ]
  },
  {
   "cell_type": "code",
   "execution_count": 4,
   "metadata": {},
   "outputs": [
    {
     "name": "stdout",
     "output_type": "stream",
     "text": [
      "       crop_id                                     geometry  B02_0322  \\\n",
      "3176         2  POINT (637759.1889929901 5347053.846079555)       612   \n",
      "12822       10   POINT (629080.4447021568 5353786.99907408)       499   \n",
      "10535        5  POINT (635432.9099537274 5347895.686695563)       978   \n",
      "4295         6  POINT (621032.3637216241 5336976.096246178)       439   \n",
      "4419         6  POINT (620882.5791343282 5335696.427355875)       485   \n",
      "19420       16    POINT (620427.96690282 5361817.013792816)       515   \n",
      "10754        5  POINT (616312.3717091422 5337878.037065835)       547   \n",
      "\n",
      "       B03_0322  B04_0322  B05_0322  B06_0322  B07_0322  B08A_0322  B08_0322  \\\n",
      "3176        786      1103      1294      1436      1595       1898      1785   \n",
      "12822       598       859       962      1059      1151       1329      1263   \n",
      "10535      1193      1609      1776      1910      2018       2192      2140   \n",
      "4295        506       626       834      1006      1038       1178       954   \n",
      "4419        538       646       753       867       904        930       904   \n",
      "19420       756       719      1388      2414      2706       2964      2788   \n",
      "10754       651       804       904       950      1072       1099      1046   \n",
      "\n",
      "       ...  B03_0920  B04_0920  B05_0920  B06_0920  B07_0920  B08A_0920  \\\n",
      "3176   ...       661       507      1035      2345      2702       3050   \n",
      "12822  ...      1288      1494      1885      2454      2646       2808   \n",
      "10535  ...      1350      1716      1994      2189      2308       2418   \n",
      "4295   ...      1210      1481      1776      1943      2018       2263   \n",
      "4419   ...      1166      1372      1569      1570      1695       1892   \n",
      "19420  ...       830       738      1312      2688      3093       3336   \n",
      "10754  ...      1248      1289      2573      3561      3740       4196   \n",
      "\n",
      "       B08_0920  B11_0920  B12_0920  LAI_0920  \n",
      "3176       2905      1811      1008      1406  \n",
      "12822      2549      3346      2986       294  \n",
      "10535      2302      3274      3145       215  \n",
      "4295       1931      3010      2849       188  \n",
      "4419       1666      2425      2270        83  \n",
      "19420      3044      2584      1664       891  \n",
      "10754      3893      2491      1406      1081  \n",
      "\n",
      "[7 rows x 101 columns]\n"
     ]
    },
    {
     "data": {
      "text/html": [
       "<div>\n",
       "<style scoped>\n",
       "    .dataframe tbody tr th:only-of-type {\n",
       "        vertical-align: middle;\n",
       "    }\n",
       "\n",
       "    .dataframe tbody tr th {\n",
       "        vertical-align: top;\n",
       "    }\n",
       "\n",
       "    .dataframe thead th {\n",
       "        text-align: right;\n",
       "    }\n",
       "</style>\n",
       "<table border=\"1\" class=\"dataframe\">\n",
       "  <thead>\n",
       "    <tr style=\"text-align: right;\">\n",
       "      <th></th>\n",
       "      <th>crop_id</th>\n",
       "      <th>B02_0322</th>\n",
       "      <th>B03_0322</th>\n",
       "      <th>B04_0322</th>\n",
       "      <th>B05_0322</th>\n",
       "      <th>B06_0322</th>\n",
       "      <th>B07_0322</th>\n",
       "      <th>B08A_0322</th>\n",
       "      <th>B08_0322</th>\n",
       "      <th>B11_0322</th>\n",
       "      <th>...</th>\n",
       "      <th>B03_0920</th>\n",
       "      <th>B04_0920</th>\n",
       "      <th>B05_0920</th>\n",
       "      <th>B06_0920</th>\n",
       "      <th>B07_0920</th>\n",
       "      <th>B08A_0920</th>\n",
       "      <th>B08_0920</th>\n",
       "      <th>B11_0920</th>\n",
       "      <th>B12_0920</th>\n",
       "      <th>LAI_0920</th>\n",
       "    </tr>\n",
       "  </thead>\n",
       "  <tbody>\n",
       "    <tr>\n",
       "      <th>count</th>\n",
       "      <td>23927.000000</td>\n",
       "      <td>23927.000000</td>\n",
       "      <td>23927.000000</td>\n",
       "      <td>23927.000000</td>\n",
       "      <td>23927.000000</td>\n",
       "      <td>23927.000000</td>\n",
       "      <td>23927.000000</td>\n",
       "      <td>23927.000000</td>\n",
       "      <td>23927.000000</td>\n",
       "      <td>23927.000000</td>\n",
       "      <td>...</td>\n",
       "      <td>23927.000000</td>\n",
       "      <td>23927.000000</td>\n",
       "      <td>23927.000000</td>\n",
       "      <td>23927.000000</td>\n",
       "      <td>23927.000000</td>\n",
       "      <td>23927.000000</td>\n",
       "      <td>23927.000000</td>\n",
       "      <td>23927.000000</td>\n",
       "      <td>23927.000000</td>\n",
       "      <td>23927.000000</td>\n",
       "    </tr>\n",
       "    <tr>\n",
       "      <th>mean</th>\n",
       "      <td>8.482050</td>\n",
       "      <td>581.711289</td>\n",
       "      <td>708.570569</td>\n",
       "      <td>868.689514</td>\n",
       "      <td>1105.141806</td>\n",
       "      <td>1406.050612</td>\n",
       "      <td>1542.769048</td>\n",
       "      <td>1709.121829</td>\n",
       "      <td>1627.660384</td>\n",
       "      <td>2083.109249</td>\n",
       "      <td>...</td>\n",
       "      <td>1036.234756</td>\n",
       "      <td>1145.357964</td>\n",
       "      <td>1533.938145</td>\n",
       "      <td>2205.859322</td>\n",
       "      <td>2423.168722</td>\n",
       "      <td>2644.641367</td>\n",
       "      <td>2453.345844</td>\n",
       "      <td>2783.795419</td>\n",
       "      <td>2290.480503</td>\n",
       "      <td>522.687090</td>\n",
       "    </tr>\n",
       "    <tr>\n",
       "      <th>std</th>\n",
       "      <td>4.884215</td>\n",
       "      <td>111.302379</td>\n",
       "      <td>145.294160</td>\n",
       "      <td>192.816073</td>\n",
       "      <td>229.600579</td>\n",
       "      <td>474.906125</td>\n",
       "      <td>528.019260</td>\n",
       "      <td>549.404809</td>\n",
       "      <td>553.329138</td>\n",
       "      <td>386.483592</td>\n",
       "      <td>...</td>\n",
       "      <td>329.360170</td>\n",
       "      <td>478.369615</td>\n",
       "      <td>432.459862</td>\n",
       "      <td>776.586097</td>\n",
       "      <td>897.747254</td>\n",
       "      <td>900.895960</td>\n",
       "      <td>894.823978</td>\n",
       "      <td>573.800521</td>\n",
       "      <td>722.710582</td>\n",
       "      <td>692.705114</td>\n",
       "    </tr>\n",
       "    <tr>\n",
       "      <th>min</th>\n",
       "      <td>1.000000</td>\n",
       "      <td>279.000000</td>\n",
       "      <td>295.000000</td>\n",
       "      <td>375.000000</td>\n",
       "      <td>440.000000</td>\n",
       "      <td>497.000000</td>\n",
       "      <td>552.000000</td>\n",
       "      <td>665.000000</td>\n",
       "      <td>612.000000</td>\n",
       "      <td>987.000000</td>\n",
       "      <td>...</td>\n",
       "      <td>329.000000</td>\n",
       "      <td>227.000000</td>\n",
       "      <td>535.000000</td>\n",
       "      <td>734.000000</td>\n",
       "      <td>764.000000</td>\n",
       "      <td>891.000000</td>\n",
       "      <td>719.000000</td>\n",
       "      <td>1048.000000</td>\n",
       "      <td>478.000000</td>\n",
       "      <td>-223.000000</td>\n",
       "    </tr>\n",
       "    <tr>\n",
       "      <th>25%</th>\n",
       "      <td>3.000000</td>\n",
       "      <td>509.000000</td>\n",
       "      <td>616.000000</td>\n",
       "      <td>748.000000</td>\n",
       "      <td>946.000000</td>\n",
       "      <td>1078.500000</td>\n",
       "      <td>1184.000000</td>\n",
       "      <td>1339.000000</td>\n",
       "      <td>1252.000000</td>\n",
       "      <td>1829.000000</td>\n",
       "      <td>...</td>\n",
       "      <td>795.000000</td>\n",
       "      <td>791.000000</td>\n",
       "      <td>1225.000000</td>\n",
       "      <td>1594.000000</td>\n",
       "      <td>1724.000000</td>\n",
       "      <td>1928.000000</td>\n",
       "      <td>1747.000000</td>\n",
       "      <td>2428.000000</td>\n",
       "      <td>1730.000000</td>\n",
       "      <td>113.000000</td>\n",
       "    </tr>\n",
       "    <tr>\n",
       "      <th>50%</th>\n",
       "      <td>8.000000</td>\n",
       "      <td>569.000000</td>\n",
       "      <td>693.000000</td>\n",
       "      <td>847.000000</td>\n",
       "      <td>1084.000000</td>\n",
       "      <td>1287.000000</td>\n",
       "      <td>1409.000000</td>\n",
       "      <td>1586.000000</td>\n",
       "      <td>1492.000000</td>\n",
       "      <td>2113.000000</td>\n",
       "      <td>...</td>\n",
       "      <td>956.000000</td>\n",
       "      <td>1125.000000</td>\n",
       "      <td>1431.000000</td>\n",
       "      <td>2057.000000</td>\n",
       "      <td>2232.000000</td>\n",
       "      <td>2467.000000</td>\n",
       "      <td>2265.000000</td>\n",
       "      <td>2735.000000</td>\n",
       "      <td>2393.000000</td>\n",
       "      <td>260.000000</td>\n",
       "    </tr>\n",
       "    <tr>\n",
       "      <th>75%</th>\n",
       "      <td>12.000000</td>\n",
       "      <td>635.000000</td>\n",
       "      <td>782.000000</td>\n",
       "      <td>965.000000</td>\n",
       "      <td>1245.000000</td>\n",
       "      <td>1627.000000</td>\n",
       "      <td>1772.500000</td>\n",
       "      <td>1951.000000</td>\n",
       "      <td>1862.000000</td>\n",
       "      <td>2349.000000</td>\n",
       "      <td>...</td>\n",
       "      <td>1186.000000</td>\n",
       "      <td>1419.000000</td>\n",
       "      <td>1746.000000</td>\n",
       "      <td>2657.000000</td>\n",
       "      <td>2932.000000</td>\n",
       "      <td>3180.500000</td>\n",
       "      <td>2963.000000</td>\n",
       "      <td>3118.000000</td>\n",
       "      <td>2765.000000</td>\n",
       "      <td>671.000000</td>\n",
       "    </tr>\n",
       "    <tr>\n",
       "      <th>max</th>\n",
       "      <td>16.000000</td>\n",
       "      <td>1486.000000</td>\n",
       "      <td>1551.000000</td>\n",
       "      <td>1963.000000</td>\n",
       "      <td>2141.000000</td>\n",
       "      <td>3945.000000</td>\n",
       "      <td>4418.000000</td>\n",
       "      <td>4598.000000</td>\n",
       "      <td>4544.000000</td>\n",
       "      <td>3944.000000</td>\n",
       "      <td>...</td>\n",
       "      <td>2948.000000</td>\n",
       "      <td>3399.000000</td>\n",
       "      <td>3763.000000</td>\n",
       "      <td>5363.000000</td>\n",
       "      <td>6430.000000</td>\n",
       "      <td>6575.000000</td>\n",
       "      <td>6203.000000</td>\n",
       "      <td>5149.000000</td>\n",
       "      <td>4936.000000</td>\n",
       "      <td>5760.000000</td>\n",
       "    </tr>\n",
       "  </tbody>\n",
       "</table>\n",
       "<p>8 rows × 100 columns</p>\n",
       "</div>"
      ],
      "text/plain": [
       "            crop_id      B02_0322      B03_0322      B04_0322      B05_0322  \\\n",
       "count  23927.000000  23927.000000  23927.000000  23927.000000  23927.000000   \n",
       "mean       8.482050    581.711289    708.570569    868.689514   1105.141806   \n",
       "std        4.884215    111.302379    145.294160    192.816073    229.600579   \n",
       "min        1.000000    279.000000    295.000000    375.000000    440.000000   \n",
       "25%        3.000000    509.000000    616.000000    748.000000    946.000000   \n",
       "50%        8.000000    569.000000    693.000000    847.000000   1084.000000   \n",
       "75%       12.000000    635.000000    782.000000    965.000000   1245.000000   \n",
       "max       16.000000   1486.000000   1551.000000   1963.000000   2141.000000   \n",
       "\n",
       "           B06_0322      B07_0322     B08A_0322      B08_0322      B11_0322  \\\n",
       "count  23927.000000  23927.000000  23927.000000  23927.000000  23927.000000   \n",
       "mean    1406.050612   1542.769048   1709.121829   1627.660384   2083.109249   \n",
       "std      474.906125    528.019260    549.404809    553.329138    386.483592   \n",
       "min      497.000000    552.000000    665.000000    612.000000    987.000000   \n",
       "25%     1078.500000   1184.000000   1339.000000   1252.000000   1829.000000   \n",
       "50%     1287.000000   1409.000000   1586.000000   1492.000000   2113.000000   \n",
       "75%     1627.000000   1772.500000   1951.000000   1862.000000   2349.000000   \n",
       "max     3945.000000   4418.000000   4598.000000   4544.000000   3944.000000   \n",
       "\n",
       "       ...      B03_0920      B04_0920      B05_0920      B06_0920  \\\n",
       "count  ...  23927.000000  23927.000000  23927.000000  23927.000000   \n",
       "mean   ...   1036.234756   1145.357964   1533.938145   2205.859322   \n",
       "std    ...    329.360170    478.369615    432.459862    776.586097   \n",
       "min    ...    329.000000    227.000000    535.000000    734.000000   \n",
       "25%    ...    795.000000    791.000000   1225.000000   1594.000000   \n",
       "50%    ...    956.000000   1125.000000   1431.000000   2057.000000   \n",
       "75%    ...   1186.000000   1419.000000   1746.000000   2657.000000   \n",
       "max    ...   2948.000000   3399.000000   3763.000000   5363.000000   \n",
       "\n",
       "           B07_0920     B08A_0920      B08_0920      B11_0920      B12_0920  \\\n",
       "count  23927.000000  23927.000000  23927.000000  23927.000000  23927.000000   \n",
       "mean    2423.168722   2644.641367   2453.345844   2783.795419   2290.480503   \n",
       "std      897.747254    900.895960    894.823978    573.800521    722.710582   \n",
       "min      764.000000    891.000000    719.000000   1048.000000    478.000000   \n",
       "25%     1724.000000   1928.000000   1747.000000   2428.000000   1730.000000   \n",
       "50%     2232.000000   2467.000000   2265.000000   2735.000000   2393.000000   \n",
       "75%     2932.000000   3180.500000   2963.000000   3118.000000   2765.000000   \n",
       "max     6430.000000   6575.000000   6203.000000   5149.000000   4936.000000   \n",
       "\n",
       "           LAI_0920  \n",
       "count  23927.000000  \n",
       "mean     522.687090  \n",
       "std      692.705114  \n",
       "min     -223.000000  \n",
       "25%      113.000000  \n",
       "50%      260.000000  \n",
       "75%      671.000000  \n",
       "max     5760.000000  \n",
       "\n",
       "[8 rows x 100 columns]"
      ]
     },
     "execution_count": 4,
     "metadata": {},
     "output_type": "execute_result"
    }
   ],
   "source": [
    "##########################\n",
    "###   exploring data   ###\n",
    "##########################\n",
    "\n",
    "print(train.head(7))\n",
    "\n",
    "train.describe()"
   ]
  },
  {
   "cell_type": "code",
   "execution_count": 5,
   "metadata": {},
   "outputs": [],
   "source": [
    "############################\n",
    "###   standardize data   ###\n",
    "############################\n",
    "\n",
    "scaler = StandardScaler()\n",
    "scaler.fit(X_train)\n",
    "\n",
    "X_train = scaler.transform(X_train)\n",
    "X_test = scaler.transform(X_test)"
   ]
  },
  {
   "cell_type": "code",
   "execution_count": null,
   "metadata": {},
   "outputs": [],
   "source": [
    "##########################\n",
    "##########################\n",
    "###                    ###\n",
    "###   Classification   ###\n",
    "###                    ###\n",
    "##########################\n",
    "##########################"
   ]
  },
  {
   "cell_type": "code",
   "execution_count": null,
   "metadata": {},
   "outputs": [],
   "source": [
    "##########################################\n",
    "###   RFC - Random Forest Classifier   ###\n",
    "##########################################"
   ]
  },
  {
   "cell_type": "code",
   "execution_count": 9,
   "metadata": {},
   "outputs": [
    {
     "name": "stdout",
     "output_type": "stream",
     "text": [
      "0.7816666666666667 [0.775      0.80833333 0.81666667 0.775      0.775      0.75833333\n",
      " 0.81666667 0.75       0.79166667 0.75      ]\n"
     ]
    }
   ],
   "source": [
    "clf = RandomForestClassifier(n_estimators=10, max_depth=None, min_samples_split=2, random_state=399, n_jobs=8)\n",
    "scores = cross_val_score(clf, X_train, y_train, cv=10)\n",
    "print(np.mean(scores), scores)"
   ]
  },
  {
   "cell_type": "code",
   "execution_count": 6,
   "metadata": {},
   "outputs": [
    {
     "name": "stdout",
     "output_type": "stream",
     "text": [
      "0.9662308509909756 [0.97033013 0.96698705 0.96155453 0.9653155  0.96030088 0.96573339\n",
      " 0.96782282 0.96906355 0.96948161 0.96571906]\n"
     ]
    }
   ],
   "source": [
    "clf = RandomForestClassifier(n_estimators=10, max_depth=None, min_samples_split=2, random_state=399, n_jobs=8)\n",
    "scores = cross_val_score(clf, X_train, y_train, cv=10)\n",
    "print(np.mean(scores), scores)"
   ]
  },
  {
   "cell_type": "code",
   "execution_count": 10,
   "metadata": {},
   "outputs": [],
   "source": [
    "param_grid = [\n",
    "    {'n_estimators': [1, 10, 100, 1000], 'criterion': ['gini', 'entropy'], \\\n",
    "     'max_depth': [None, 10, 100, 1000], 'max_features': ['sqrt', 'log2', None], },\n",
    " ]"
   ]
  },
  {
   "cell_type": "code",
   "execution_count": 11,
   "metadata": {},
   "outputs": [
    {
     "data": {
      "text/plain": [
       "GridSearchCV(cv=10, estimator=RandomForestClassifier(), n_jobs=8,\n",
       "             param_grid=[{'criterion': ['gini', 'entropy'],\n",
       "                          'max_depth': [None, 10, 100, 1000],\n",
       "                          'max_features': ['sqrt', 'log2', None],\n",
       "                          'n_estimators': [1, 10, 100, 1000]}])"
      ]
     },
     "execution_count": 11,
     "metadata": {},
     "output_type": "execute_result"
    }
   ],
   "source": [
    "clf = GridSearchCV(RandomForestClassifier(), param_grid, cv=10, n_jobs=8)\n",
    "clf.fit(X_train, y_train)"
   ]
  },
  {
   "cell_type": "code",
   "execution_count": 12,
   "metadata": {
    "scrolled": true
   },
   "outputs": [
    {
     "name": "stdout",
     "output_type": "stream",
     "text": [
      "------------------------------------------------------------------------------------------------------\n",
      "\n",
      "Best parameters set found on development set:  {'criterion': 'gini', 'max_depth': 1000, 'max_features': 'sqrt', 'n_estimators': 1000}\n",
      "\n",
      "Best mean cross-validated score: 0.8391666666666666\n",
      "\n",
      "------------------------------------------------------------------------------------------------------\n",
      "Grid scores for SVM:\n",
      "\n",
      "0.600 (+/-0.076) for {'criterion': 'gini', 'max_depth': None, 'max_features': 'sqrt', 'n_estimators': 1}\n",
      "0.773 (+/-0.043) for {'criterion': 'gini', 'max_depth': None, 'max_features': 'sqrt', 'n_estimators': 10}\n",
      "0.824 (+/-0.053) for {'criterion': 'gini', 'max_depth': None, 'max_features': 'sqrt', 'n_estimators': 100}\n",
      "0.837 (+/-0.061) for {'criterion': 'gini', 'max_depth': None, 'max_features': 'sqrt', 'n_estimators': 1000}\n",
      "0.592 (+/-0.095) for {'criterion': 'gini', 'max_depth': None, 'max_features': 'log2', 'n_estimators': 1}\n",
      "0.774 (+/-0.051) for {'criterion': 'gini', 'max_depth': None, 'max_features': 'log2', 'n_estimators': 10}\n",
      "0.829 (+/-0.072) for {'criterion': 'gini', 'max_depth': None, 'max_features': 'log2', 'n_estimators': 100}\n",
      "0.836 (+/-0.060) for {'criterion': 'gini', 'max_depth': None, 'max_features': 'log2', 'n_estimators': 1000}\n",
      "0.633 (+/-0.048) for {'criterion': 'gini', 'max_depth': None, 'max_features': None, 'n_estimators': 1}\n",
      "0.777 (+/-0.069) for {'criterion': 'gini', 'max_depth': None, 'max_features': None, 'n_estimators': 10}\n",
      "0.820 (+/-0.071) for {'criterion': 'gini', 'max_depth': None, 'max_features': None, 'n_estimators': 100}\n",
      "0.821 (+/-0.073) for {'criterion': 'gini', 'max_depth': None, 'max_features': None, 'n_estimators': 1000}\n",
      "0.583 (+/-0.079) for {'criterion': 'gini', 'max_depth': 10, 'max_features': 'sqrt', 'n_estimators': 1}\n",
      "0.784 (+/-0.075) for {'criterion': 'gini', 'max_depth': 10, 'max_features': 'sqrt', 'n_estimators': 10}\n",
      "0.821 (+/-0.071) for {'criterion': 'gini', 'max_depth': 10, 'max_features': 'sqrt', 'n_estimators': 100}\n",
      "0.831 (+/-0.060) for {'criterion': 'gini', 'max_depth': 10, 'max_features': 'sqrt', 'n_estimators': 1000}\n",
      "0.573 (+/-0.078) for {'criterion': 'gini', 'max_depth': 10, 'max_features': 'log2', 'n_estimators': 1}\n",
      "0.772 (+/-0.059) for {'criterion': 'gini', 'max_depth': 10, 'max_features': 'log2', 'n_estimators': 10}\n",
      "0.832 (+/-0.072) for {'criterion': 'gini', 'max_depth': 10, 'max_features': 'log2', 'n_estimators': 100}\n",
      "0.831 (+/-0.074) for {'criterion': 'gini', 'max_depth': 10, 'max_features': 'log2', 'n_estimators': 1000}\n",
      "0.640 (+/-0.081) for {'criterion': 'gini', 'max_depth': 10, 'max_features': None, 'n_estimators': 1}\n",
      "0.781 (+/-0.079) for {'criterion': 'gini', 'max_depth': 10, 'max_features': None, 'n_estimators': 10}\n",
      "0.813 (+/-0.069) for {'criterion': 'gini', 'max_depth': 10, 'max_features': None, 'n_estimators': 100}\n",
      "0.817 (+/-0.070) for {'criterion': 'gini', 'max_depth': 10, 'max_features': None, 'n_estimators': 1000}\n",
      "0.610 (+/-0.083) for {'criterion': 'gini', 'max_depth': 100, 'max_features': 'sqrt', 'n_estimators': 1}\n",
      "0.772 (+/-0.042) for {'criterion': 'gini', 'max_depth': 100, 'max_features': 'sqrt', 'n_estimators': 10}\n",
      "0.838 (+/-0.050) for {'criterion': 'gini', 'max_depth': 100, 'max_features': 'sqrt', 'n_estimators': 100}\n",
      "0.833 (+/-0.058) for {'criterion': 'gini', 'max_depth': 100, 'max_features': 'sqrt', 'n_estimators': 1000}\n",
      "0.597 (+/-0.081) for {'criterion': 'gini', 'max_depth': 100, 'max_features': 'log2', 'n_estimators': 1}\n",
      "0.768 (+/-0.050) for {'criterion': 'gini', 'max_depth': 100, 'max_features': 'log2', 'n_estimators': 10}\n",
      "0.828 (+/-0.072) for {'criterion': 'gini', 'max_depth': 100, 'max_features': 'log2', 'n_estimators': 100}\n",
      "0.838 (+/-0.057) for {'criterion': 'gini', 'max_depth': 100, 'max_features': 'log2', 'n_estimators': 1000}\n",
      "0.645 (+/-0.084) for {'criterion': 'gini', 'max_depth': 100, 'max_features': None, 'n_estimators': 1}\n",
      "0.786 (+/-0.059) for {'criterion': 'gini', 'max_depth': 100, 'max_features': None, 'n_estimators': 10}\n",
      "0.822 (+/-0.067) for {'criterion': 'gini', 'max_depth': 100, 'max_features': None, 'n_estimators': 100}\n",
      "0.827 (+/-0.071) for {'criterion': 'gini', 'max_depth': 100, 'max_features': None, 'n_estimators': 1000}\n",
      "0.594 (+/-0.055) for {'criterion': 'gini', 'max_depth': 1000, 'max_features': 'sqrt', 'n_estimators': 1}\n",
      "0.782 (+/-0.064) for {'criterion': 'gini', 'max_depth': 1000, 'max_features': 'sqrt', 'n_estimators': 10}\n",
      "0.827 (+/-0.042) for {'criterion': 'gini', 'max_depth': 1000, 'max_features': 'sqrt', 'n_estimators': 100}\n",
      "0.839 (+/-0.062) for {'criterion': 'gini', 'max_depth': 1000, 'max_features': 'sqrt', 'n_estimators': 1000}\n",
      "0.587 (+/-0.058) for {'criterion': 'gini', 'max_depth': 1000, 'max_features': 'log2', 'n_estimators': 1}\n",
      "0.761 (+/-0.092) for {'criterion': 'gini', 'max_depth': 1000, 'max_features': 'log2', 'n_estimators': 10}\n",
      "0.828 (+/-0.049) for {'criterion': 'gini', 'max_depth': 1000, 'max_features': 'log2', 'n_estimators': 100}\n",
      "0.835 (+/-0.063) for {'criterion': 'gini', 'max_depth': 1000, 'max_features': 'log2', 'n_estimators': 1000}\n",
      "0.627 (+/-0.056) for {'criterion': 'gini', 'max_depth': 1000, 'max_features': None, 'n_estimators': 1}\n",
      "0.778 (+/-0.054) for {'criterion': 'gini', 'max_depth': 1000, 'max_features': None, 'n_estimators': 10}\n",
      "0.823 (+/-0.063) for {'criterion': 'gini', 'max_depth': 1000, 'max_features': None, 'n_estimators': 100}\n",
      "0.826 (+/-0.070) for {'criterion': 'gini', 'max_depth': 1000, 'max_features': None, 'n_estimators': 1000}\n",
      "0.622 (+/-0.100) for {'criterion': 'entropy', 'max_depth': None, 'max_features': 'sqrt', 'n_estimators': 1}\n",
      "0.782 (+/-0.063) for {'criterion': 'entropy', 'max_depth': None, 'max_features': 'sqrt', 'n_estimators': 10}\n",
      "0.832 (+/-0.060) for {'criterion': 'entropy', 'max_depth': None, 'max_features': 'sqrt', 'n_estimators': 100}\n",
      "0.828 (+/-0.053) for {'criterion': 'entropy', 'max_depth': None, 'max_features': 'sqrt', 'n_estimators': 1000}\n",
      "0.599 (+/-0.099) for {'criterion': 'entropy', 'max_depth': None, 'max_features': 'log2', 'n_estimators': 1}\n",
      "0.777 (+/-0.039) for {'criterion': 'entropy', 'max_depth': None, 'max_features': 'log2', 'n_estimators': 10}\n",
      "0.825 (+/-0.057) for {'criterion': 'entropy', 'max_depth': None, 'max_features': 'log2', 'n_estimators': 100}\n",
      "0.830 (+/-0.065) for {'criterion': 'entropy', 'max_depth': None, 'max_features': 'log2', 'n_estimators': 1000}\n",
      "0.662 (+/-0.066) for {'criterion': 'entropy', 'max_depth': None, 'max_features': None, 'n_estimators': 1}\n",
      "0.779 (+/-0.059) for {'criterion': 'entropy', 'max_depth': None, 'max_features': None, 'n_estimators': 10}\n",
      "0.822 (+/-0.064) for {'criterion': 'entropy', 'max_depth': None, 'max_features': None, 'n_estimators': 100}\n",
      "0.818 (+/-0.078) for {'criterion': 'entropy', 'max_depth': None, 'max_features': None, 'n_estimators': 1000}\n",
      "0.588 (+/-0.066) for {'criterion': 'entropy', 'max_depth': 10, 'max_features': 'sqrt', 'n_estimators': 1}\n",
      "0.778 (+/-0.064) for {'criterion': 'entropy', 'max_depth': 10, 'max_features': 'sqrt', 'n_estimators': 10}\n",
      "0.826 (+/-0.065) for {'criterion': 'entropy', 'max_depth': 10, 'max_features': 'sqrt', 'n_estimators': 100}\n",
      "0.827 (+/-0.054) for {'criterion': 'entropy', 'max_depth': 10, 'max_features': 'sqrt', 'n_estimators': 1000}\n",
      "0.579 (+/-0.115) for {'criterion': 'entropy', 'max_depth': 10, 'max_features': 'log2', 'n_estimators': 1}\n",
      "0.757 (+/-0.078) for {'criterion': 'entropy', 'max_depth': 10, 'max_features': 'log2', 'n_estimators': 10}\n",
      "0.820 (+/-0.057) for {'criterion': 'entropy', 'max_depth': 10, 'max_features': 'log2', 'n_estimators': 100}\n",
      "0.831 (+/-0.068) for {'criterion': 'entropy', 'max_depth': 10, 'max_features': 'log2', 'n_estimators': 1000}\n",
      "0.657 (+/-0.082) for {'criterion': 'entropy', 'max_depth': 10, 'max_features': None, 'n_estimators': 1}\n",
      "0.778 (+/-0.084) for {'criterion': 'entropy', 'max_depth': 10, 'max_features': None, 'n_estimators': 10}\n",
      "0.818 (+/-0.069) for {'criterion': 'entropy', 'max_depth': 10, 'max_features': None, 'n_estimators': 100}\n",
      "0.820 (+/-0.085) for {'criterion': 'entropy', 'max_depth': 10, 'max_features': None, 'n_estimators': 1000}\n",
      "0.603 (+/-0.109) for {'criterion': 'entropy', 'max_depth': 100, 'max_features': 'sqrt', 'n_estimators': 1}\n",
      "0.770 (+/-0.065) for {'criterion': 'entropy', 'max_depth': 100, 'max_features': 'sqrt', 'n_estimators': 10}\n",
      "0.832 (+/-0.072) for {'criterion': 'entropy', 'max_depth': 100, 'max_features': 'sqrt', 'n_estimators': 100}\n",
      "0.831 (+/-0.061) for {'criterion': 'entropy', 'max_depth': 100, 'max_features': 'sqrt', 'n_estimators': 1000}\n",
      "0.603 (+/-0.082) for {'criterion': 'entropy', 'max_depth': 100, 'max_features': 'log2', 'n_estimators': 1}\n",
      "0.775 (+/-0.075) for {'criterion': 'entropy', 'max_depth': 100, 'max_features': 'log2', 'n_estimators': 10}\n",
      "0.818 (+/-0.069) for {'criterion': 'entropy', 'max_depth': 100, 'max_features': 'log2', 'n_estimators': 100}\n",
      "0.830 (+/-0.069) for {'criterion': 'entropy', 'max_depth': 100, 'max_features': 'log2', 'n_estimators': 1000}\n",
      "0.652 (+/-0.098) for {'criterion': 'entropy', 'max_depth': 100, 'max_features': None, 'n_estimators': 1}\n",
      "0.759 (+/-0.081) for {'criterion': 'entropy', 'max_depth': 100, 'max_features': None, 'n_estimators': 10}\n",
      "0.813 (+/-0.056) for {'criterion': 'entropy', 'max_depth': 100, 'max_features': None, 'n_estimators': 100}\n",
      "0.819 (+/-0.087) for {'criterion': 'entropy', 'max_depth': 100, 'max_features': None, 'n_estimators': 1000}\n",
      "0.583 (+/-0.087) for {'criterion': 'entropy', 'max_depth': 1000, 'max_features': 'sqrt', 'n_estimators': 1}\n",
      "0.766 (+/-0.064) for {'criterion': 'entropy', 'max_depth': 1000, 'max_features': 'sqrt', 'n_estimators': 10}\n",
      "0.830 (+/-0.059) for {'criterion': 'entropy', 'max_depth': 1000, 'max_features': 'sqrt', 'n_estimators': 100}\n",
      "0.827 (+/-0.057) for {'criterion': 'entropy', 'max_depth': 1000, 'max_features': 'sqrt', 'n_estimators': 1000}\n",
      "0.590 (+/-0.082) for {'criterion': 'entropy', 'max_depth': 1000, 'max_features': 'log2', 'n_estimators': 1}\n",
      "0.773 (+/-0.051) for {'criterion': 'entropy', 'max_depth': 1000, 'max_features': 'log2', 'n_estimators': 10}\n",
      "0.819 (+/-0.056) for {'criterion': 'entropy', 'max_depth': 1000, 'max_features': 'log2', 'n_estimators': 100}\n",
      "0.832 (+/-0.062) for {'criterion': 'entropy', 'max_depth': 1000, 'max_features': 'log2', 'n_estimators': 1000}\n",
      "0.645 (+/-0.070) for {'criterion': 'entropy', 'max_depth': 1000, 'max_features': None, 'n_estimators': 1}\n",
      "0.790 (+/-0.050) for {'criterion': 'entropy', 'max_depth': 1000, 'max_features': None, 'n_estimators': 10}\n",
      "0.821 (+/-0.085) for {'criterion': 'entropy', 'max_depth': 1000, 'max_features': None, 'n_estimators': 100}\n",
      "0.822 (+/-0.088) for {'criterion': 'entropy', 'max_depth': 1000, 'max_features': None, 'n_estimators': 1000}\n",
      "------------------------------------------------------------------------------------------------------\n"
     ]
    }
   ],
   "source": [
    "print(\"------------------------------------------------------------------------------------------------------\")\n",
    "print()\n",
    "print(\"Best parameters set found on development set: \", clf.best_params_)\n",
    "print()\n",
    "print('Best mean cross-validated score:', clf.best_score_)\n",
    "print()\n",
    "print(\"------------------------------------------------------------------------------------------------------\")\n",
    "print(\"Grid scores for SVM:\")\n",
    "print()\n",
    "means = clf.cv_results_['mean_test_score']\n",
    "stds = clf.cv_results_['std_test_score']\n",
    "for mean, std, params in zip(means, stds, clf.cv_results_['params']):\n",
    "    print(\"%0.3f (+/-%0.03f) for %r\"\n",
    "          % (mean, std * 2, params))\n",
    "print(\"------------------------------------------------------------------------------------------------------\")"
   ]
  },
  {
   "cell_type": "code",
   "execution_count": 6,
   "metadata": {},
   "outputs": [],
   "source": [
    "param_grid = [\n",
    "    {'n_estimators': [600,1000,3000], 'criterion': ['gini'], \\\n",
    "     'max_depth': [1000], 'max_features': ['sqrt'], },\n",
    " ]"
   ]
  },
  {
   "cell_type": "code",
   "execution_count": 7,
   "metadata": {
    "scrolled": true
   },
   "outputs": [
    {
     "ename": "KeyboardInterrupt",
     "evalue": "",
     "output_type": "error",
     "traceback": [
      "\u001b[0;31m---------------------------------------------------------------------------\u001b[0m",
      "\u001b[0;31mKeyboardInterrupt\u001b[0m                         Traceback (most recent call last)",
      "\u001b[0;32m<ipython-input-7-9c52ee6f42ed>\u001b[0m in \u001b[0;36m<module>\u001b[0;34m\u001b[0m\n\u001b[1;32m      1\u001b[0m \u001b[0mclf\u001b[0m \u001b[0;34m=\u001b[0m \u001b[0mGridSearchCV\u001b[0m\u001b[0;34m(\u001b[0m\u001b[0mRandomForestClassifier\u001b[0m\u001b[0;34m(\u001b[0m\u001b[0;34m)\u001b[0m\u001b[0;34m,\u001b[0m \u001b[0mparam_grid\u001b[0m\u001b[0;34m,\u001b[0m \u001b[0mcv\u001b[0m\u001b[0;34m=\u001b[0m\u001b[0;36m10\u001b[0m\u001b[0;34m,\u001b[0m \u001b[0mn_jobs\u001b[0m\u001b[0;34m=\u001b[0m\u001b[0;36m8\u001b[0m\u001b[0;34m)\u001b[0m\u001b[0;34m\u001b[0m\u001b[0;34m\u001b[0m\u001b[0m\n\u001b[0;32m----> 2\u001b[0;31m \u001b[0mclf\u001b[0m\u001b[0;34m.\u001b[0m\u001b[0mfit\u001b[0m\u001b[0;34m(\u001b[0m\u001b[0mX_train\u001b[0m\u001b[0;34m,\u001b[0m \u001b[0my_train\u001b[0m\u001b[0;34m)\u001b[0m\u001b[0;34m\u001b[0m\u001b[0;34m\u001b[0m\u001b[0m\n\u001b[0m",
      "\u001b[0;32m~/miniconda3/envs/kaggle/lib/python3.8/site-packages/sklearn/utils/validation.py\u001b[0m in \u001b[0;36minner_f\u001b[0;34m(*args, **kwargs)\u001b[0m\n\u001b[1;32m     70\u001b[0m                           FutureWarning)\n\u001b[1;32m     71\u001b[0m         \u001b[0mkwargs\u001b[0m\u001b[0;34m.\u001b[0m\u001b[0mupdate\u001b[0m\u001b[0;34m(\u001b[0m\u001b[0;34m{\u001b[0m\u001b[0mk\u001b[0m\u001b[0;34m:\u001b[0m \u001b[0marg\u001b[0m \u001b[0;32mfor\u001b[0m \u001b[0mk\u001b[0m\u001b[0;34m,\u001b[0m \u001b[0marg\u001b[0m \u001b[0;32min\u001b[0m \u001b[0mzip\u001b[0m\u001b[0;34m(\u001b[0m\u001b[0msig\u001b[0m\u001b[0;34m.\u001b[0m\u001b[0mparameters\u001b[0m\u001b[0;34m,\u001b[0m \u001b[0margs\u001b[0m\u001b[0;34m)\u001b[0m\u001b[0;34m}\u001b[0m\u001b[0;34m)\u001b[0m\u001b[0;34m\u001b[0m\u001b[0;34m\u001b[0m\u001b[0m\n\u001b[0;32m---> 72\u001b[0;31m         \u001b[0;32mreturn\u001b[0m \u001b[0mf\u001b[0m\u001b[0;34m(\u001b[0m\u001b[0;34m**\u001b[0m\u001b[0mkwargs\u001b[0m\u001b[0;34m)\u001b[0m\u001b[0;34m\u001b[0m\u001b[0;34m\u001b[0m\u001b[0m\n\u001b[0m\u001b[1;32m     73\u001b[0m     \u001b[0;32mreturn\u001b[0m \u001b[0minner_f\u001b[0m\u001b[0;34m\u001b[0m\u001b[0;34m\u001b[0m\u001b[0m\n\u001b[1;32m     74\u001b[0m \u001b[0;34m\u001b[0m\u001b[0m\n",
      "\u001b[0;32m~/miniconda3/envs/kaggle/lib/python3.8/site-packages/sklearn/model_selection/_search.py\u001b[0m in \u001b[0;36mfit\u001b[0;34m(self, X, y, groups, **fit_params)\u001b[0m\n\u001b[1;32m    734\u001b[0m                 \u001b[0;32mreturn\u001b[0m \u001b[0mresults\u001b[0m\u001b[0;34m\u001b[0m\u001b[0;34m\u001b[0m\u001b[0m\n\u001b[1;32m    735\u001b[0m \u001b[0;34m\u001b[0m\u001b[0m\n\u001b[0;32m--> 736\u001b[0;31m             \u001b[0mself\u001b[0m\u001b[0;34m.\u001b[0m\u001b[0m_run_search\u001b[0m\u001b[0;34m(\u001b[0m\u001b[0mevaluate_candidates\u001b[0m\u001b[0;34m)\u001b[0m\u001b[0;34m\u001b[0m\u001b[0;34m\u001b[0m\u001b[0m\n\u001b[0m\u001b[1;32m    737\u001b[0m \u001b[0;34m\u001b[0m\u001b[0m\n\u001b[1;32m    738\u001b[0m         \u001b[0;31m# For multi-metric evaluation, store the best_index_, best_params_ and\u001b[0m\u001b[0;34m\u001b[0m\u001b[0;34m\u001b[0m\u001b[0;34m\u001b[0m\u001b[0m\n",
      "\u001b[0;32m~/miniconda3/envs/kaggle/lib/python3.8/site-packages/sklearn/model_selection/_search.py\u001b[0m in \u001b[0;36m_run_search\u001b[0;34m(self, evaluate_candidates)\u001b[0m\n\u001b[1;32m   1186\u001b[0m     \u001b[0;32mdef\u001b[0m \u001b[0m_run_search\u001b[0m\u001b[0;34m(\u001b[0m\u001b[0mself\u001b[0m\u001b[0;34m,\u001b[0m \u001b[0mevaluate_candidates\u001b[0m\u001b[0;34m)\u001b[0m\u001b[0;34m:\u001b[0m\u001b[0;34m\u001b[0m\u001b[0;34m\u001b[0m\u001b[0m\n\u001b[1;32m   1187\u001b[0m         \u001b[0;34m\"\"\"Search all candidates in param_grid\"\"\"\u001b[0m\u001b[0;34m\u001b[0m\u001b[0;34m\u001b[0m\u001b[0m\n\u001b[0;32m-> 1188\u001b[0;31m         \u001b[0mevaluate_candidates\u001b[0m\u001b[0;34m(\u001b[0m\u001b[0mParameterGrid\u001b[0m\u001b[0;34m(\u001b[0m\u001b[0mself\u001b[0m\u001b[0;34m.\u001b[0m\u001b[0mparam_grid\u001b[0m\u001b[0;34m)\u001b[0m\u001b[0;34m)\u001b[0m\u001b[0;34m\u001b[0m\u001b[0;34m\u001b[0m\u001b[0m\n\u001b[0m\u001b[1;32m   1189\u001b[0m \u001b[0;34m\u001b[0m\u001b[0m\n\u001b[1;32m   1190\u001b[0m \u001b[0;34m\u001b[0m\u001b[0m\n",
      "\u001b[0;32m~/miniconda3/envs/kaggle/lib/python3.8/site-packages/sklearn/model_selection/_search.py\u001b[0m in \u001b[0;36mevaluate_candidates\u001b[0;34m(candidate_params)\u001b[0m\n\u001b[1;32m    706\u001b[0m                               n_splits, n_candidates, n_candidates * n_splits))\n\u001b[1;32m    707\u001b[0m \u001b[0;34m\u001b[0m\u001b[0m\n\u001b[0;32m--> 708\u001b[0;31m                 out = parallel(delayed(_fit_and_score)(clone(base_estimator),\n\u001b[0m\u001b[1;32m    709\u001b[0m                                                        \u001b[0mX\u001b[0m\u001b[0;34m,\u001b[0m \u001b[0my\u001b[0m\u001b[0;34m,\u001b[0m\u001b[0;34m\u001b[0m\u001b[0;34m\u001b[0m\u001b[0m\n\u001b[1;32m    710\u001b[0m                                                        \u001b[0mtrain\u001b[0m\u001b[0;34m=\u001b[0m\u001b[0mtrain\u001b[0m\u001b[0;34m,\u001b[0m \u001b[0mtest\u001b[0m\u001b[0;34m=\u001b[0m\u001b[0mtest\u001b[0m\u001b[0;34m,\u001b[0m\u001b[0;34m\u001b[0m\u001b[0;34m\u001b[0m\u001b[0m\n",
      "\u001b[0;32m~/miniconda3/envs/kaggle/lib/python3.8/site-packages/joblib/parallel.py\u001b[0m in \u001b[0;36m__call__\u001b[0;34m(self, iterable)\u001b[0m\n\u001b[1;32m   1059\u001b[0m \u001b[0;34m\u001b[0m\u001b[0m\n\u001b[1;32m   1060\u001b[0m             \u001b[0;32mwith\u001b[0m \u001b[0mself\u001b[0m\u001b[0;34m.\u001b[0m\u001b[0m_backend\u001b[0m\u001b[0;34m.\u001b[0m\u001b[0mretrieval_context\u001b[0m\u001b[0;34m(\u001b[0m\u001b[0;34m)\u001b[0m\u001b[0;34m:\u001b[0m\u001b[0;34m\u001b[0m\u001b[0;34m\u001b[0m\u001b[0m\n\u001b[0;32m-> 1061\u001b[0;31m                 \u001b[0mself\u001b[0m\u001b[0;34m.\u001b[0m\u001b[0mretrieve\u001b[0m\u001b[0;34m(\u001b[0m\u001b[0;34m)\u001b[0m\u001b[0;34m\u001b[0m\u001b[0;34m\u001b[0m\u001b[0m\n\u001b[0m\u001b[1;32m   1062\u001b[0m             \u001b[0;31m# Make sure that we get a last message telling us we are done\u001b[0m\u001b[0;34m\u001b[0m\u001b[0;34m\u001b[0m\u001b[0;34m\u001b[0m\u001b[0m\n\u001b[1;32m   1063\u001b[0m             \u001b[0melapsed_time\u001b[0m \u001b[0;34m=\u001b[0m \u001b[0mtime\u001b[0m\u001b[0;34m.\u001b[0m\u001b[0mtime\u001b[0m\u001b[0;34m(\u001b[0m\u001b[0;34m)\u001b[0m \u001b[0;34m-\u001b[0m \u001b[0mself\u001b[0m\u001b[0;34m.\u001b[0m\u001b[0m_start_time\u001b[0m\u001b[0;34m\u001b[0m\u001b[0;34m\u001b[0m\u001b[0m\n",
      "\u001b[0;32m~/miniconda3/envs/kaggle/lib/python3.8/site-packages/joblib/parallel.py\u001b[0m in \u001b[0;36mretrieve\u001b[0;34m(self)\u001b[0m\n\u001b[1;32m    938\u001b[0m             \u001b[0;32mtry\u001b[0m\u001b[0;34m:\u001b[0m\u001b[0;34m\u001b[0m\u001b[0;34m\u001b[0m\u001b[0m\n\u001b[1;32m    939\u001b[0m                 \u001b[0;32mif\u001b[0m \u001b[0mgetattr\u001b[0m\u001b[0;34m(\u001b[0m\u001b[0mself\u001b[0m\u001b[0;34m.\u001b[0m\u001b[0m_backend\u001b[0m\u001b[0;34m,\u001b[0m \u001b[0;34m'supports_timeout'\u001b[0m\u001b[0;34m,\u001b[0m \u001b[0;32mFalse\u001b[0m\u001b[0;34m)\u001b[0m\u001b[0;34m:\u001b[0m\u001b[0;34m\u001b[0m\u001b[0;34m\u001b[0m\u001b[0m\n\u001b[0;32m--> 940\u001b[0;31m                     \u001b[0mself\u001b[0m\u001b[0;34m.\u001b[0m\u001b[0m_output\u001b[0m\u001b[0;34m.\u001b[0m\u001b[0mextend\u001b[0m\u001b[0;34m(\u001b[0m\u001b[0mjob\u001b[0m\u001b[0;34m.\u001b[0m\u001b[0mget\u001b[0m\u001b[0;34m(\u001b[0m\u001b[0mtimeout\u001b[0m\u001b[0;34m=\u001b[0m\u001b[0mself\u001b[0m\u001b[0;34m.\u001b[0m\u001b[0mtimeout\u001b[0m\u001b[0;34m)\u001b[0m\u001b[0;34m)\u001b[0m\u001b[0;34m\u001b[0m\u001b[0;34m\u001b[0m\u001b[0m\n\u001b[0m\u001b[1;32m    941\u001b[0m                 \u001b[0;32melse\u001b[0m\u001b[0;34m:\u001b[0m\u001b[0;34m\u001b[0m\u001b[0;34m\u001b[0m\u001b[0m\n\u001b[1;32m    942\u001b[0m                     \u001b[0mself\u001b[0m\u001b[0;34m.\u001b[0m\u001b[0m_output\u001b[0m\u001b[0;34m.\u001b[0m\u001b[0mextend\u001b[0m\u001b[0;34m(\u001b[0m\u001b[0mjob\u001b[0m\u001b[0;34m.\u001b[0m\u001b[0mget\u001b[0m\u001b[0;34m(\u001b[0m\u001b[0;34m)\u001b[0m\u001b[0;34m)\u001b[0m\u001b[0;34m\u001b[0m\u001b[0;34m\u001b[0m\u001b[0m\n",
      "\u001b[0;32m~/miniconda3/envs/kaggle/lib/python3.8/site-packages/joblib/_parallel_backends.py\u001b[0m in \u001b[0;36mwrap_future_result\u001b[0;34m(future, timeout)\u001b[0m\n\u001b[1;32m    540\u001b[0m         AsyncResults.get from multiprocessing.\"\"\"\n\u001b[1;32m    541\u001b[0m         \u001b[0;32mtry\u001b[0m\u001b[0;34m:\u001b[0m\u001b[0;34m\u001b[0m\u001b[0;34m\u001b[0m\u001b[0m\n\u001b[0;32m--> 542\u001b[0;31m             \u001b[0;32mreturn\u001b[0m \u001b[0mfuture\u001b[0m\u001b[0;34m.\u001b[0m\u001b[0mresult\u001b[0m\u001b[0;34m(\u001b[0m\u001b[0mtimeout\u001b[0m\u001b[0;34m=\u001b[0m\u001b[0mtimeout\u001b[0m\u001b[0;34m)\u001b[0m\u001b[0;34m\u001b[0m\u001b[0;34m\u001b[0m\u001b[0m\n\u001b[0m\u001b[1;32m    543\u001b[0m         \u001b[0;32mexcept\u001b[0m \u001b[0mCfTimeoutError\u001b[0m \u001b[0;32mas\u001b[0m \u001b[0me\u001b[0m\u001b[0;34m:\u001b[0m\u001b[0;34m\u001b[0m\u001b[0;34m\u001b[0m\u001b[0m\n\u001b[1;32m    544\u001b[0m             \u001b[0;32mraise\u001b[0m \u001b[0mTimeoutError\u001b[0m \u001b[0;32mfrom\u001b[0m \u001b[0me\u001b[0m\u001b[0;34m\u001b[0m\u001b[0;34m\u001b[0m\u001b[0m\n",
      "\u001b[0;32m~/miniconda3/envs/kaggle/lib/python3.8/concurrent/futures/_base.py\u001b[0m in \u001b[0;36mresult\u001b[0;34m(self, timeout)\u001b[0m\n\u001b[1;32m    432\u001b[0m                 \u001b[0;32mreturn\u001b[0m \u001b[0mself\u001b[0m\u001b[0;34m.\u001b[0m\u001b[0m__get_result\u001b[0m\u001b[0;34m(\u001b[0m\u001b[0;34m)\u001b[0m\u001b[0;34m\u001b[0m\u001b[0;34m\u001b[0m\u001b[0m\n\u001b[1;32m    433\u001b[0m \u001b[0;34m\u001b[0m\u001b[0m\n\u001b[0;32m--> 434\u001b[0;31m             \u001b[0mself\u001b[0m\u001b[0;34m.\u001b[0m\u001b[0m_condition\u001b[0m\u001b[0;34m.\u001b[0m\u001b[0mwait\u001b[0m\u001b[0;34m(\u001b[0m\u001b[0mtimeout\u001b[0m\u001b[0;34m)\u001b[0m\u001b[0;34m\u001b[0m\u001b[0;34m\u001b[0m\u001b[0m\n\u001b[0m\u001b[1;32m    435\u001b[0m \u001b[0;34m\u001b[0m\u001b[0m\n\u001b[1;32m    436\u001b[0m             \u001b[0;32mif\u001b[0m \u001b[0mself\u001b[0m\u001b[0;34m.\u001b[0m\u001b[0m_state\u001b[0m \u001b[0;32min\u001b[0m \u001b[0;34m[\u001b[0m\u001b[0mCANCELLED\u001b[0m\u001b[0;34m,\u001b[0m \u001b[0mCANCELLED_AND_NOTIFIED\u001b[0m\u001b[0;34m]\u001b[0m\u001b[0;34m:\u001b[0m\u001b[0;34m\u001b[0m\u001b[0;34m\u001b[0m\u001b[0m\n",
      "\u001b[0;32m~/miniconda3/envs/kaggle/lib/python3.8/threading.py\u001b[0m in \u001b[0;36mwait\u001b[0;34m(self, timeout)\u001b[0m\n\u001b[1;32m    300\u001b[0m         \u001b[0;32mtry\u001b[0m\u001b[0;34m:\u001b[0m    \u001b[0;31m# restore state no matter what (e.g., KeyboardInterrupt)\u001b[0m\u001b[0;34m\u001b[0m\u001b[0;34m\u001b[0m\u001b[0m\n\u001b[1;32m    301\u001b[0m             \u001b[0;32mif\u001b[0m \u001b[0mtimeout\u001b[0m \u001b[0;32mis\u001b[0m \u001b[0;32mNone\u001b[0m\u001b[0;34m:\u001b[0m\u001b[0;34m\u001b[0m\u001b[0;34m\u001b[0m\u001b[0m\n\u001b[0;32m--> 302\u001b[0;31m                 \u001b[0mwaiter\u001b[0m\u001b[0;34m.\u001b[0m\u001b[0macquire\u001b[0m\u001b[0;34m(\u001b[0m\u001b[0;34m)\u001b[0m\u001b[0;34m\u001b[0m\u001b[0;34m\u001b[0m\u001b[0m\n\u001b[0m\u001b[1;32m    303\u001b[0m                 \u001b[0mgotit\u001b[0m \u001b[0;34m=\u001b[0m \u001b[0;32mTrue\u001b[0m\u001b[0;34m\u001b[0m\u001b[0;34m\u001b[0m\u001b[0m\n\u001b[1;32m    304\u001b[0m             \u001b[0;32melse\u001b[0m\u001b[0;34m:\u001b[0m\u001b[0;34m\u001b[0m\u001b[0;34m\u001b[0m\u001b[0m\n",
      "\u001b[0;31mKeyboardInterrupt\u001b[0m: "
     ]
    }
   ],
   "source": [
    "clf = GridSearchCV(RandomForestClassifier(), param_grid, cv=10, n_jobs=8)\n",
    "clf.fit(X_train, y_train)"
   ]
  },
  {
   "cell_type": "code",
   "execution_count": 21,
   "metadata": {},
   "outputs": [
    {
     "name": "stdout",
     "output_type": "stream",
     "text": [
      "------------------------------------------------------------------------------------------------------\n",
      "\n",
      "Best parameters set found on development set:  {'criterion': 'gini', 'max_depth': 1000, 'max_features': 'sqrt', 'n_estimators': 600}\n",
      "\n",
      "Best mean cross-validated score: 0.8358333333333332\n",
      "\n",
      "------------------------------------------------------------------------------------------------------\n",
      "Grid scores for SVM:\n",
      "\n",
      "0.836 (+/-0.045) for {'criterion': 'gini', 'max_depth': 1000, 'max_features': 'sqrt', 'n_estimators': 600}\n",
      "0.833 (+/-0.061) for {'criterion': 'gini', 'max_depth': 1000, 'max_features': 'sqrt', 'n_estimators': 1000}\n",
      "0.835 (+/-0.062) for {'criterion': 'gini', 'max_depth': 1000, 'max_features': 'sqrt', 'n_estimators': 3000}\n",
      "------------------------------------------------------------------------------------------------------\n"
     ]
    }
   ],
   "source": [
    "print(\"------------------------------------------------------------------------------------------------------\")\n",
    "print()\n",
    "print(\"Best parameters set found on development set: \", clf.best_params_)\n",
    "print()\n",
    "print('Best mean cross-validated score:', clf.best_score_)\n",
    "print()\n",
    "print(\"------------------------------------------------------------------------------------------------------\")\n",
    "print(\"Grid scores for SVM:\")\n",
    "print()\n",
    "means = clf.cv_results_['mean_test_score']\n",
    "stds = clf.cv_results_['std_test_score']\n",
    "for mean, std, params in zip(means, stds, clf.cv_results_['params']):\n",
    "    print(\"%0.3f (+/-%0.03f) for %r\"\n",
    "          % (mean, std * 2, params))\n",
    "print(\"------------------------------------------------------------------------------------------------------\")"
   ]
  },
  {
   "cell_type": "code",
   "execution_count": null,
   "metadata": {},
   "outputs": [],
   "source": []
  },
  {
   "cell_type": "code",
   "execution_count": null,
   "metadata": {},
   "outputs": [],
   "source": [
    "###########################################\n",
    "###   SVC - Support Vector Classifier   ###\n",
    "###########################################"
   ]
  },
  {
   "cell_type": "code",
   "execution_count": 5,
   "metadata": {},
   "outputs": [
    {
     "name": "stdout",
     "output_type": "stream",
     "text": [
      "0.8541666666666667 [0.825      0.86666667 0.85833333 0.875      0.83333333 0.85833333\n",
      " 0.85833333 0.86666667 0.86666667 0.83333333]\n"
     ]
    }
   ],
   "source": [
    "clf = SVC(kernel='linear', C=1, random_state=399)\n",
    "scores = cross_val_score(clf, X_train, y_train, cv=10, n_jobs=8)\n",
    "print(np.mean(scores), scores)"
   ]
  },
  {
   "cell_type": "code",
   "execution_count": 8,
   "metadata": {},
   "outputs": [
    {
     "name": "stdout",
     "output_type": "stream",
     "text": [
      "0.8799999999999999 [0.88333333 0.9        0.86666667 0.90833333 0.88333333 0.90833333\n",
      " 0.85833333 0.85       0.88333333 0.85833333]\n"
     ]
    }
   ],
   "source": [
    "clf = SVC(kernel='linear', C=1, random_state=399)\n",
    "scores = cross_val_score(clf, X_train, y_train, cv=10, n_jobs=8)\n",
    "print(np.mean(scores), scores)"
   ]
  },
  {
   "cell_type": "code",
   "execution_count": 7,
   "metadata": {},
   "outputs": [
    {
     "name": "stdout",
     "output_type": "stream",
     "text": [
      "0.9811511452718141 [0.98328458 0.98203092 0.98203092 0.97743418 0.97785207 0.98161304\n",
      " 0.98035938 0.98620401 0.97993311 0.98076923]\n"
     ]
    }
   ],
   "source": [
    "clf = SVC(kernel='linear', C=1, random_state=399)\n",
    "scores = cross_val_score(clf, X_train, y_train, cv=10, n_jobs=8)\n",
    "print(np.mean(scores), scores)"
   ]
  },
  {
   "cell_type": "code",
   "execution_count": 6,
   "metadata": {},
   "outputs": [],
   "source": [
    "param_grid = [\n",
    "    {'C': [1, 10, 100, 1000], 'kernel': ['linear']},\n",
    "    {'C': [1, 10, 100, 1000], 'gamma': ['scale', 'auto'], 'kernel': ['rbf']},\n",
    "    {'C': [1, 10, 100, 1000], 'gamma': ['scale', 'auto'], 'degree': [2, 3, 4], 'kernel': ['poly']},\n",
    "    {'C': [1, 10, 100, 1000], 'gamma': ['scale', 'auto'], 'kernel': ['sigmoid']},\n",
    " ]"
   ]
  },
  {
   "cell_type": "code",
   "execution_count": 7,
   "metadata": {},
   "outputs": [
    {
     "data": {
      "text/plain": [
       "GridSearchCV(cv=10, estimator=SVC(), n_jobs=8,\n",
       "             param_grid=[{'C': [1, 10, 100, 1000], 'kernel': ['linear']},\n",
       "                         {'C': [1, 10, 100, 1000], 'gamma': ['scale', 'auto'],\n",
       "                          'kernel': ['rbf']},\n",
       "                         {'C': [1, 10, 100, 1000], 'degree': [2, 3, 4],\n",
       "                          'gamma': ['scale', 'auto'], 'kernel': ['poly']},\n",
       "                         {'C': [1, 10, 100, 1000], 'gamma': ['scale', 'auto'],\n",
       "                          'kernel': ['sigmoid']}])"
      ]
     },
     "execution_count": 7,
     "metadata": {},
     "output_type": "execute_result"
    }
   ],
   "source": [
    "clf = GridSearchCV(SVC(), param_grid, cv=10, n_jobs=8)\n",
    "clf.fit(X_train, y_train)"
   ]
  },
  {
   "cell_type": "code",
   "execution_count": 8,
   "metadata": {},
   "outputs": [
    {
     "name": "stdout",
     "output_type": "stream",
     "text": [
      "------------------------------------------------------------------------------------------------------\n",
      "\n",
      "Best parameters set found on development set:  {'C': 10, 'gamma': 'scale', 'kernel': 'rbf'}\n",
      "\n",
      "Best mean cross-validated score: 0.9883333333333335\n",
      "\n",
      "------------------------------------------------------------------------------------------------------\n",
      "Grid scores for SVM:\n",
      "\n",
      "0.971 (+/-0.009) for {'C': 1, 'kernel': 'linear'}\n",
      "0.972 (+/-0.010) for {'C': 10, 'kernel': 'linear'}\n",
      "0.968 (+/-0.010) for {'C': 100, 'kernel': 'linear'}\n",
      "0.968 (+/-0.009) for {'C': 1000, 'kernel': 'linear'}\n",
      "0.971 (+/-0.007) for {'C': 1, 'gamma': 'scale', 'kernel': 'rbf'}\n",
      "0.971 (+/-0.007) for {'C': 1, 'gamma': 'auto', 'kernel': 'rbf'}\n",
      "0.988 (+/-0.005) for {'C': 10, 'gamma': 'scale', 'kernel': 'rbf'}\n",
      "0.988 (+/-0.005) for {'C': 10, 'gamma': 'auto', 'kernel': 'rbf'}\n",
      "0.988 (+/-0.005) for {'C': 100, 'gamma': 'scale', 'kernel': 'rbf'}\n",
      "0.988 (+/-0.005) for {'C': 100, 'gamma': 'auto', 'kernel': 'rbf'}\n",
      "0.988 (+/-0.005) for {'C': 1000, 'gamma': 'scale', 'kernel': 'rbf'}\n",
      "0.988 (+/-0.005) for {'C': 1000, 'gamma': 'auto', 'kernel': 'rbf'}\n",
      "0.948 (+/-0.011) for {'C': 1, 'degree': 2, 'gamma': 'scale', 'kernel': 'poly'}\n",
      "0.947 (+/-0.010) for {'C': 1, 'degree': 2, 'gamma': 'auto', 'kernel': 'poly'}\n",
      "0.945 (+/-0.013) for {'C': 1, 'degree': 3, 'gamma': 'scale', 'kernel': 'poly'}\n",
      "0.945 (+/-0.012) for {'C': 1, 'degree': 3, 'gamma': 'auto', 'kernel': 'poly'}\n",
      "0.889 (+/-0.023) for {'C': 1, 'degree': 4, 'gamma': 'scale', 'kernel': 'poly'}\n",
      "0.889 (+/-0.023) for {'C': 1, 'degree': 4, 'gamma': 'auto', 'kernel': 'poly'}\n",
      "0.978 (+/-0.007) for {'C': 10, 'degree': 2, 'gamma': 'scale', 'kernel': 'poly'}\n",
      "0.978 (+/-0.007) for {'C': 10, 'degree': 2, 'gamma': 'auto', 'kernel': 'poly'}\n",
      "0.978 (+/-0.009) for {'C': 10, 'degree': 3, 'gamma': 'scale', 'kernel': 'poly'}\n",
      "0.978 (+/-0.009) for {'C': 10, 'degree': 3, 'gamma': 'auto', 'kernel': 'poly'}\n",
      "0.958 (+/-0.011) for {'C': 10, 'degree': 4, 'gamma': 'scale', 'kernel': 'poly'}\n",
      "0.958 (+/-0.011) for {'C': 10, 'degree': 4, 'gamma': 'auto', 'kernel': 'poly'}\n",
      "0.978 (+/-0.007) for {'C': 100, 'degree': 2, 'gamma': 'scale', 'kernel': 'poly'}\n",
      "0.978 (+/-0.007) for {'C': 100, 'degree': 2, 'gamma': 'auto', 'kernel': 'poly'}\n",
      "0.975 (+/-0.006) for {'C': 100, 'degree': 3, 'gamma': 'scale', 'kernel': 'poly'}\n",
      "0.975 (+/-0.006) for {'C': 100, 'degree': 3, 'gamma': 'auto', 'kernel': 'poly'}\n",
      "0.962 (+/-0.011) for {'C': 100, 'degree': 4, 'gamma': 'scale', 'kernel': 'poly'}\n",
      "0.962 (+/-0.011) for {'C': 100, 'degree': 4, 'gamma': 'auto', 'kernel': 'poly'}\n",
      "0.978 (+/-0.007) for {'C': 1000, 'degree': 2, 'gamma': 'scale', 'kernel': 'poly'}\n",
      "0.978 (+/-0.007) for {'C': 1000, 'degree': 2, 'gamma': 'auto', 'kernel': 'poly'}\n",
      "0.975 (+/-0.008) for {'C': 1000, 'degree': 3, 'gamma': 'scale', 'kernel': 'poly'}\n",
      "0.975 (+/-0.008) for {'C': 1000, 'degree': 3, 'gamma': 'auto', 'kernel': 'poly'}\n",
      "0.959 (+/-0.010) for {'C': 1000, 'degree': 4, 'gamma': 'scale', 'kernel': 'poly'}\n",
      "0.959 (+/-0.010) for {'C': 1000, 'degree': 4, 'gamma': 'auto', 'kernel': 'poly'}\n",
      "0.629 (+/-0.028) for {'C': 1, 'gamma': 'scale', 'kernel': 'sigmoid'}\n",
      "0.629 (+/-0.029) for {'C': 1, 'gamma': 'auto', 'kernel': 'sigmoid'}\n",
      "0.593 (+/-0.030) for {'C': 10, 'gamma': 'scale', 'kernel': 'sigmoid'}\n",
      "0.594 (+/-0.031) for {'C': 10, 'gamma': 'auto', 'kernel': 'sigmoid'}\n",
      "0.595 (+/-0.032) for {'C': 100, 'gamma': 'scale', 'kernel': 'sigmoid'}\n",
      "0.594 (+/-0.032) for {'C': 100, 'gamma': 'auto', 'kernel': 'sigmoid'}\n",
      "0.595 (+/-0.025) for {'C': 1000, 'gamma': 'scale', 'kernel': 'sigmoid'}\n",
      "0.594 (+/-0.032) for {'C': 1000, 'gamma': 'auto', 'kernel': 'sigmoid'}\n"
     ]
    }
   ],
   "source": [
    "print(\"------------------------------------------------------------------------------------------------------\")\n",
    "print()\n",
    "print(\"Best parameters set found on development set: \", clf.best_params_)\n",
    "print()\n",
    "print('Best mean cross-validated score:', clf.best_score_)\n",
    "print()\n",
    "print(\"------------------------------------------------------------------------------------------------------\")\n",
    "print(\"Grid scores for SVM:\")\n",
    "print()\n",
    "means = clf.cv_results_['mean_test_score']\n",
    "stds = clf.cv_results_['std_test_score']\n",
    "for mean, std, params in zip(means, stds, clf.cv_results_['params']):\n",
    "    print(\"%0.3f (+/-%0.03f) for %r\"\n",
    "          % (mean, std * 2, params))"
   ]
  },
  {
   "cell_type": "code",
   "execution_count": 12,
   "metadata": {},
   "outputs": [],
   "source": [
    "######################\n",
    "###   Prediction   ###\n",
    "######################"
   ]
  },
  {
   "cell_type": "code",
   "execution_count": 13,
   "metadata": {},
   "outputs": [],
   "source": [
    "# prediction with the best preforming model\n",
    "clf = SVC(kernel='rbf', C=10, gamma='scale', random_state=399)\n",
    "clf.fit(X_train, y_train)\n",
    "pred = clf.predict(X_test)"
   ]
  },
  {
   "cell_type": "code",
   "execution_count": 14,
   "metadata": {},
   "outputs": [],
   "source": [
    "pred = clf.predict(X_test)"
   ]
  },
  {
   "cell_type": "code",
   "execution_count": 17,
   "metadata": {},
   "outputs": [
    {
     "data": {
      "text/plain": [
       "array([[355,   1,   1,  15,   2,  13,   3,   5,   0,   2,   2,   1],\n",
       "       [  4, 372,   0,  18,   2,   0,   1,   0,   0,   3,   0,   0],\n",
       "       [  0,   0, 380,   2,   0,   0,   0,   0,   8,   0,   9,   1],\n",
       "       [ 12,   5,   5, 317,  14,   2,   3,   3,   0,   9,  23,   7],\n",
       "       [  5,   7,   0,  18, 314,   4,  10,  21,   1,   7,  13,   0],\n",
       "       [ 11,   3,   0,  11,   4, 362,   3,   2,   0,   3,   1,   0],\n",
       "       [  1,   0,   0,   6,   3,   6, 374,   2,   0,   2,   1,   5],\n",
       "       [  3,   0,   0,   7,  35,   1,   5, 346,   0,   3,   0,   0],\n",
       "       [  0,   0,   9,   3,   0,   0,   0,   0, 374,   3,   9,   2],\n",
       "       [  0,   2,   0,   3,   2,   1,   0,   3,   0, 372,   3,  14],\n",
       "       [  3,   0,   6,   3,   3,   0,   0,   0,   1,   6, 358,   0],\n",
       "       [  0,   0,   0,   1,   0,   0,   0,   0,   0,   4,   0, 199]])"
      ]
     },
     "execution_count": 17,
     "metadata": {},
     "output_type": "execute_result"
    }
   ],
   "source": [
    "confusion_matrix(y_test, pred)"
   ]
  },
  {
   "cell_type": "code",
   "execution_count": 18,
   "metadata": {},
   "outputs": [
    {
     "data": {
      "text/plain": [
       "0.8994328097731239"
      ]
     },
     "execution_count": 18,
     "metadata": {},
     "output_type": "execute_result"
    }
   ],
   "source": [
    "accuracy_score(y_test, pred)"
   ]
  },
  {
   "cell_type": "code",
   "execution_count": 9,
   "metadata": {},
   "outputs": [],
   "source": [
    "# prediction with the best preforming model\n",
    "clf = SVC(kernel='rbf', C=10, gamma='scale', random_state=399)\n",
    "clf.fit(X_train, y_train)\n",
    "pred = clf.predict(X_test)"
   ]
  },
  {
   "cell_type": "code",
   "execution_count": 10,
   "metadata": {},
   "outputs": [],
   "source": [
    "pred = clf.predict(X_test)"
   ]
  },
  {
   "cell_type": "code",
   "execution_count": 11,
   "metadata": {},
   "outputs": [
    {
     "data": {
      "text/plain": [
       "array([[375,   0,   2,   6,   1,   8,   2,   3,   0,   1,   1,   1],\n",
       "       [  3, 384,   0,   8,   2,   0,   1,   0,   0,   2,   0,   0],\n",
       "       [  0,   0, 379,   3,   1,   1,   0,   0,  13,   0,   3,   0],\n",
       "       [ 12,  12,   5, 320,  14,   2,   3,   6,   0,   9,  14,   3],\n",
       "       [  3,  10,   0,  11, 334,   2,  10,  12,   0,   4,  14,   0],\n",
       "       [ 12,   1,   0,   8,   4, 369,   2,   1,   0,   2,   1,   0],\n",
       "       [  0,   0,   0,   4,   5,   2, 384,   2,   0,   3,   0,   0],\n",
       "       [  1,   1,   0,   1,  20,   0,   1, 374,   0,   0,   2,   0],\n",
       "       [  0,   0,   4,   4,   0,   0,   0,   0, 380,   6,   5,   1],\n",
       "       [  1,   1,   0,   1,   0,   0,   0,   3,   0, 383,   3,   8],\n",
       "       [  3,   0,   1,   2,   4,   0,   0,   0,   0,   1, 369,   0],\n",
       "       [  0,   0,   0,   0,   0,   0,   0,   0,   0,   0,   0, 204]])"
      ]
     },
     "execution_count": 11,
     "metadata": {},
     "output_type": "execute_result"
    }
   ],
   "source": [
    "confusion_matrix(y_test, pred)"
   ]
  },
  {
   "cell_type": "code",
   "execution_count": 12,
   "metadata": {},
   "outputs": [
    {
     "data": {
      "text/plain": [
       "0.9282286212914486"
      ]
     },
     "execution_count": 12,
     "metadata": {},
     "output_type": "execute_result"
    }
   ],
   "source": [
    "accuracy_score(y_test, pred)"
   ]
  },
  {
   "cell_type": "code",
   "execution_count": 8,
   "metadata": {},
   "outputs": [],
   "source": [
    "# prediction with the best preforming model\n",
    "clf = SVC(kernel='rbf', C=10, gamma='scale', random_state=399)\n",
    "clf.fit(X_train, y_train)\n",
    "pred = clf.predict(X_test)"
   ]
  },
  {
   "cell_type": "code",
   "execution_count": 9,
   "metadata": {},
   "outputs": [
    {
     "data": {
      "text/plain": [
       "array([[375,   0,   2,   4,   1,  11,   1,   3,   0,   1,   1,   1],\n",
       "       [  4, 384,   0,   6,   2,   0,   1,   1,   0,   2,   0,   0],\n",
       "       [  0,   0, 385,   2,   1,   2,   0,   0,   6,   1,   3,   0],\n",
       "       [ 17,  12,   6, 319,  15,   2,   1,   6,   1,   4,  15,   2],\n",
       "       [  2,   9,   1,   9, 338,   1,   6,  12,   0,   5,  17,   0],\n",
       "       [ 15,   1,   0,   9,   3, 366,   2,   1,   1,   1,   1,   0],\n",
       "       [  0,   0,   0,   3,   3,   2, 386,   2,   0,   4,   0,   0],\n",
       "       [  1,   0,   0,   3,  19,   0,   4, 366,   0,   1,   6,   0],\n",
       "       [  0,   0,   4,   3,   0,   0,   0,   0, 379,   6,   6,   2],\n",
       "       [  2,   0,   0,   2,   0,   1,   0,   2,   0, 381,   4,   8],\n",
       "       [  3,   0,   1,   0,   5,   0,   0,   0,   0,   0, 371,   0],\n",
       "       [  0,   0,   0,   0,   0,   0,   0,   0,   0,   1,   0, 203]])"
      ]
     },
     "execution_count": 9,
     "metadata": {},
     "output_type": "execute_result"
    }
   ],
   "source": [
    "confusion_matrix(y_test, pred)"
   ]
  },
  {
   "cell_type": "code",
   "execution_count": 10,
   "metadata": {},
   "outputs": [
    {
     "data": {
      "text/plain": [
       "0.9277923211169284"
      ]
     },
     "execution_count": 10,
     "metadata": {},
     "output_type": "execute_result"
    }
   ],
   "source": [
    "accuracy_score(y_test, pred)"
   ]
  },
  {
   "cell_type": "code",
   "execution_count": 11,
   "metadata": {},
   "outputs": [
    {
     "data": {
      "text/plain": [
       "(23927, 99)"
      ]
     },
     "execution_count": 11,
     "metadata": {},
     "output_type": "execute_result"
    }
   ],
   "source": [
    "X_train.shape"
   ]
  },
  {
   "cell_type": "code",
   "execution_count": null,
   "metadata": {},
   "outputs": [],
   "source": []
  }
 ],
 "metadata": {
  "kernelspec": {
   "display_name": "kaggle",
   "language": "python",
   "name": "kaggle"
  },
  "language_info": {
   "codemirror_mode": {
    "name": "ipython",
    "version": 3
   },
   "file_extension": ".py",
   "mimetype": "text/x-python",
   "name": "python",
   "nbconvert_exporter": "python",
   "pygments_lexer": "ipython3",
   "version": "3.8.5"
  }
 },
 "nbformat": 4,
 "nbformat_minor": 4
}
