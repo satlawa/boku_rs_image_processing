{
 "cells": [
  {
   "cell_type": "code",
   "execution_count": 1,
   "metadata": {},
   "outputs": [],
   "source": [
    "# Nice Formatting within Jupyter Notebook\n",
    "%matplotlib inline\n",
    "#from IPython.display import display # Allows multiple displays from a single code-cell\n",
    "\n",
    "# System functionality\n",
    "import sys\n",
    "sys.path.append('..')\n",
    "\n",
    "# Import Here any Additional modules you use. To import utilities we provide, use something like:\n",
    "#   from utils.plotter import plot_hinton\n",
    "\n",
    "# Your Code goes here:\n",
    "#from __future__ import division, print_function # Imports from __future__ since we're running Python 2\n",
    "import os\n",
    "import numpy as np \n",
    "import pandas as pd\n",
    "import matplotlib.pyplot as plt\n",
    "import seaborn as sns\n",
    "import sklearn\n",
    "from sklearn.utils import shuffle\n",
    "from sklearn.model_selection import train_test_split #, KFold\n",
    "from sklearn.linear_model import LogisticRegression, LogisticRegressionCV\n",
    "from sklearn.svm import SVC\n",
    "from sklearn.ensemble import RandomForestClassifier\n",
    "from sklearn.tree import DecisionTreeClassifier\n",
    "from sklearn.naive_bayes import GaussianNB\n",
    "from sklearn.neighbors import KNeighborsClassifier\n",
    "from sklearn.metrics import accuracy_score\n",
    "from sklearn.metrics import confusion_matrix\n",
    "#from sklearn import preprocessing\n",
    "from numpy import unravel_index\n",
    "from matplotlib.colors import ListedColormap\n",
    "from numpy import linspace\n",
    "%matplotlib inline\n",
    "\n",
    "from sklearn.decomposition import PCA\n",
    "from sklearn.discriminant_analysis import LinearDiscriminantAnalysis\n",
    "\n",
    "from sklearn.metrics import log_loss\n",
    "from sklearn.model_selection import KFold\n",
    "from sklearn.preprocessing import StandardScaler\n",
    "from sklearn.neural_network import MLPClassifier\n",
    "from sklearn.model_selection import train_test_split, cross_val_score, GridSearchCV"
   ]
  },
  {
   "cell_type": "code",
   "execution_count": 2,
   "metadata": {},
   "outputs": [
    {
     "name": "stdout",
     "output_type": "stream",
     "text": [
      "Train: number of instances: 1200, number of attributes: 215\n",
      "Test: number of instances: 4584, number of attributes: 101\n"
     ]
    }
   ],
   "source": [
    "#####################\n",
    "###   load data   ###\n",
    "#####################\n",
    "\n",
    "# load datasets\n",
    "data_path = \"/home/philipp/Documents/boku/remote_sensing_and_image_processing/final_ass/train_data_SX.csv\"\n",
    "train = pd.read_csv(data_path, delimiter = ',', index_col=0)\n",
    "data_path = \"/home/philipp/Documents/boku/remote_sensing_and_image_processing/final_ass/test_data.csv\"\n",
    "test = pd.read_csv(data_path, delimiter = ',', index_col=0)\n",
    "\n",
    "train = shuffle(train, random_state=399)\n",
    "\n",
    "X_train = train.drop(['crop_id','geometry'], axis=1).values\n",
    "y_train = train['crop_id'].values\n",
    "X_test = test.drop(['crop_id','geometry'], axis=1).values\n",
    "y_test = test['crop_id'].values\n",
    "\n",
    "print(\"Train: number of instances: {}, number of attributes: {}\".format(train.shape[0], train.shape[1]))\n",
    "print(\"Test: number of instances: {}, number of attributes: {}\".format(test.shape[0], test.shape[1]))"
   ]
  },
  {
   "cell_type": "code",
   "execution_count": 3,
   "metadata": {},
   "outputs": [
    {
     "name": "stdout",
     "output_type": "stream",
     "text": [
      "      crop_id                                     geometry  B02_0322  \\\n",
      "id                                                                     \n",
      "168         2  POINT (634740.5100236891 5339978.909767563)       640   \n",
      "669        10   POINT (624908.0456842275 5335769.90775792)       461   \n",
      "1157       15  POINT (621332.3669208327 5360109.999892802)       609   \n",
      "264         6  POINT (639971.0221898934 5343010.385524059)       532   \n",
      "194         2   POINT (639366.526787769 5338334.476987346)       697   \n",
      "679        10  POINT (620109.7202541821 5354703.312341657)       466   \n",
      "327         3  POINT (632185.2000834884 5348559.848026753)       645   \n",
      "\n",
      "      B03_0322  B04_0322  B05_0322  B06_0322  B07_0322  B08A_0322  B08_0322  \\\n",
      "id                                                                            \n",
      "168        713       923      1054      1199      1347       1503      1457   \n",
      "669        516       651       686       760       833        933       891   \n",
      "1157       742       978      1179      1339      1464       1793      1661   \n",
      "264        625       885      1046      1233      1365       1708      1583   \n",
      "194        737       924      1068      1151      1264       1404      1346   \n",
      "679        559       777       928      1006      1137       1229      1164   \n",
      "327        868       934      1518      2469      2698       2839      2756   \n",
      "\n",
      "      ...  VH_20180824  VV_20180824  VH_20180901  VV_20180901  VH_20180905  \\\n",
      "id    ...                                                                    \n",
      "168   ...   -12.924958   -10.218294   -12.798948    -7.521809   -17.706838   \n",
      "669   ...   -25.261023   -15.990937   -13.437504    -7.096205   -15.853903   \n",
      "1157  ...   -22.088798   -14.457595   -22.702736    -7.921528   -24.970178   \n",
      "264   ...   -18.968170    -9.763803   -13.951127    -7.182708   -16.228565   \n",
      "194   ...   -16.293878    -6.125550   -13.422453    -4.569274   -13.129705   \n",
      "679   ...   -15.935866   -13.194491   -12.893859    -6.488240   -12.762277   \n",
      "327   ...   -22.120230   -10.188121   -19.927488   -13.639358   -15.402356   \n",
      "\n",
      "      VV_20180905  VH_20180913  VV_20180913  VH_20180917  VV_20180917  \n",
      "id                                                                     \n",
      "168     -7.439533   -14.092911    -8.729351   -16.566530   -10.314209  \n",
      "669    -10.244692   -28.977710   -11.084261   -23.540054   -12.346950  \n",
      "1157   -12.102168   -22.536777   -16.479036   -23.422463   -13.746485  \n",
      "264     -7.884663   -19.156654    -9.886529   -22.605681   -14.807762  \n",
      "194     -9.747381   -13.093154    -9.671718   -19.737759    -9.732347  \n",
      "679     -9.650339   -14.665959    -8.790836   -15.572546    -9.124230  \n",
      "327     -5.749215   -21.638028   -12.237001   -25.576052   -15.032330  \n",
      "\n",
      "[7 rows x 215 columns]\n"
     ]
    },
    {
     "data": {
      "text/html": [
       "<div>\n",
       "<style scoped>\n",
       "    .dataframe tbody tr th:only-of-type {\n",
       "        vertical-align: middle;\n",
       "    }\n",
       "\n",
       "    .dataframe tbody tr th {\n",
       "        vertical-align: top;\n",
       "    }\n",
       "\n",
       "    .dataframe thead th {\n",
       "        text-align: right;\n",
       "    }\n",
       "</style>\n",
       "<table border=\"1\" class=\"dataframe\">\n",
       "  <thead>\n",
       "    <tr style=\"text-align: right;\">\n",
       "      <th></th>\n",
       "      <th>crop_id</th>\n",
       "      <th>B02_0322</th>\n",
       "      <th>B03_0322</th>\n",
       "      <th>B04_0322</th>\n",
       "      <th>B05_0322</th>\n",
       "      <th>B06_0322</th>\n",
       "      <th>B07_0322</th>\n",
       "      <th>B08A_0322</th>\n",
       "      <th>B08_0322</th>\n",
       "      <th>B11_0322</th>\n",
       "      <th>...</th>\n",
       "      <th>VH_20180824</th>\n",
       "      <th>VV_20180824</th>\n",
       "      <th>VH_20180901</th>\n",
       "      <th>VV_20180901</th>\n",
       "      <th>VH_20180905</th>\n",
       "      <th>VV_20180905</th>\n",
       "      <th>VH_20180913</th>\n",
       "      <th>VV_20180913</th>\n",
       "      <th>VH_20180917</th>\n",
       "      <th>VV_20180917</th>\n",
       "    </tr>\n",
       "  </thead>\n",
       "  <tbody>\n",
       "    <tr>\n",
       "      <th>count</th>\n",
       "      <td>1200.000000</td>\n",
       "      <td>1200.000000</td>\n",
       "      <td>1200.000000</td>\n",
       "      <td>1200.000000</td>\n",
       "      <td>1200.000000</td>\n",
       "      <td>1200.000000</td>\n",
       "      <td>1200.000000</td>\n",
       "      <td>1200.000000</td>\n",
       "      <td>1200.000000</td>\n",
       "      <td>1200.000000</td>\n",
       "      <td>...</td>\n",
       "      <td>1200.000000</td>\n",
       "      <td>1200.000000</td>\n",
       "      <td>1200.000000</td>\n",
       "      <td>1200.000000</td>\n",
       "      <td>1200.000000</td>\n",
       "      <td>1200.000000</td>\n",
       "      <td>1200.000000</td>\n",
       "      <td>1200.000000</td>\n",
       "      <td>1200.000000</td>\n",
       "      <td>1200.000000</td>\n",
       "    </tr>\n",
       "    <tr>\n",
       "      <th>mean</th>\n",
       "      <td>8.500000</td>\n",
       "      <td>581.880833</td>\n",
       "      <td>708.495833</td>\n",
       "      <td>869.456667</td>\n",
       "      <td>1107.196667</td>\n",
       "      <td>1406.018333</td>\n",
       "      <td>1541.455833</td>\n",
       "      <td>1708.319167</td>\n",
       "      <td>1626.284167</td>\n",
       "      <td>2085.293333</td>\n",
       "      <td>...</td>\n",
       "      <td>-21.057349</td>\n",
       "      <td>-12.514461</td>\n",
       "      <td>-15.676784</td>\n",
       "      <td>-8.235546</td>\n",
       "      <td>-17.978829</td>\n",
       "      <td>-9.398661</td>\n",
       "      <td>-23.232206</td>\n",
       "      <td>-12.331709</td>\n",
       "      <td>-22.225848</td>\n",
       "      <td>-12.670772</td>\n",
       "    </tr>\n",
       "    <tr>\n",
       "      <th>std</th>\n",
       "      <td>4.892506</td>\n",
       "      <td>112.002018</td>\n",
       "      <td>145.255491</td>\n",
       "      <td>193.444519</td>\n",
       "      <td>232.888240</td>\n",
       "      <td>493.603601</td>\n",
       "      <td>548.194337</td>\n",
       "      <td>570.986702</td>\n",
       "      <td>570.295898</td>\n",
       "      <td>393.887780</td>\n",
       "      <td>...</td>\n",
       "      <td>4.801779</td>\n",
       "      <td>3.227872</td>\n",
       "      <td>3.239966</td>\n",
       "      <td>2.454739</td>\n",
       "      <td>4.053307</td>\n",
       "      <td>2.694878</td>\n",
       "      <td>7.064837</td>\n",
       "      <td>2.979832</td>\n",
       "      <td>4.947382</td>\n",
       "      <td>2.882676</td>\n",
       "    </tr>\n",
       "    <tr>\n",
       "      <th>min</th>\n",
       "      <td>1.000000</td>\n",
       "      <td>314.000000</td>\n",
       "      <td>323.000000</td>\n",
       "      <td>401.000000</td>\n",
       "      <td>491.000000</td>\n",
       "      <td>555.000000</td>\n",
       "      <td>664.000000</td>\n",
       "      <td>744.000000</td>\n",
       "      <td>670.000000</td>\n",
       "      <td>1024.000000</td>\n",
       "      <td>...</td>\n",
       "      <td>-47.360827</td>\n",
       "      <td>-26.088645</td>\n",
       "      <td>-28.093690</td>\n",
       "      <td>-18.262707</td>\n",
       "      <td>-47.377829</td>\n",
       "      <td>-18.701451</td>\n",
       "      <td>-49.906834</td>\n",
       "      <td>-23.226203</td>\n",
       "      <td>-47.336408</td>\n",
       "      <td>-22.106770</td>\n",
       "    </tr>\n",
       "    <tr>\n",
       "      <th>25%</th>\n",
       "      <td>4.500000</td>\n",
       "      <td>512.000000</td>\n",
       "      <td>616.750000</td>\n",
       "      <td>746.750000</td>\n",
       "      <td>943.750000</td>\n",
       "      <td>1073.750000</td>\n",
       "      <td>1170.750000</td>\n",
       "      <td>1323.000000</td>\n",
       "      <td>1252.500000</td>\n",
       "      <td>1828.500000</td>\n",
       "      <td>...</td>\n",
       "      <td>-24.000311</td>\n",
       "      <td>-14.523640</td>\n",
       "      <td>-17.495173</td>\n",
       "      <td>-9.802562</td>\n",
       "      <td>-20.173758</td>\n",
       "      <td>-11.066298</td>\n",
       "      <td>-26.230068</td>\n",
       "      <td>-14.240687</td>\n",
       "      <td>-24.970871</td>\n",
       "      <td>-14.627623</td>\n",
       "    </tr>\n",
       "    <tr>\n",
       "      <th>50%</th>\n",
       "      <td>9.000000</td>\n",
       "      <td>568.000000</td>\n",
       "      <td>692.000000</td>\n",
       "      <td>844.000000</td>\n",
       "      <td>1096.000000</td>\n",
       "      <td>1273.000000</td>\n",
       "      <td>1395.500000</td>\n",
       "      <td>1564.500000</td>\n",
       "      <td>1472.500000</td>\n",
       "      <td>2121.000000</td>\n",
       "      <td>...</td>\n",
       "      <td>-20.769847</td>\n",
       "      <td>-12.466210</td>\n",
       "      <td>-15.292160</td>\n",
       "      <td>-8.152490</td>\n",
       "      <td>-17.457946</td>\n",
       "      <td>-9.327234</td>\n",
       "      <td>-22.207835</td>\n",
       "      <td>-12.367720</td>\n",
       "      <td>-22.004615</td>\n",
       "      <td>-12.807948</td>\n",
       "    </tr>\n",
       "    <tr>\n",
       "      <th>75%</th>\n",
       "      <td>12.250000</td>\n",
       "      <td>634.250000</td>\n",
       "      <td>780.250000</td>\n",
       "      <td>967.250000</td>\n",
       "      <td>1242.000000</td>\n",
       "      <td>1611.250000</td>\n",
       "      <td>1755.250000</td>\n",
       "      <td>1924.250000</td>\n",
       "      <td>1838.750000</td>\n",
       "      <td>2352.500000</td>\n",
       "      <td>...</td>\n",
       "      <td>-17.515438</td>\n",
       "      <td>-10.396693</td>\n",
       "      <td>-13.384850</td>\n",
       "      <td>-6.661032</td>\n",
       "      <td>-15.237383</td>\n",
       "      <td>-7.643698</td>\n",
       "      <td>-18.282779</td>\n",
       "      <td>-10.308123</td>\n",
       "      <td>-18.769907</td>\n",
       "      <td>-10.811282</td>\n",
       "    </tr>\n",
       "    <tr>\n",
       "      <th>max</th>\n",
       "      <td>16.000000</td>\n",
       "      <td>1219.000000</td>\n",
       "      <td>1407.000000</td>\n",
       "      <td>1831.000000</td>\n",
       "      <td>2074.000000</td>\n",
       "      <td>3734.000000</td>\n",
       "      <td>4204.000000</td>\n",
       "      <td>4436.000000</td>\n",
       "      <td>4372.000000</td>\n",
       "      <td>3885.000000</td>\n",
       "      <td>...</td>\n",
       "      <td>-11.186590</td>\n",
       "      <td>-2.475107</td>\n",
       "      <td>-8.402266</td>\n",
       "      <td>3.603084</td>\n",
       "      <td>-10.440328</td>\n",
       "      <td>1.809863</td>\n",
       "      <td>-11.211261</td>\n",
       "      <td>-1.111857</td>\n",
       "      <td>-10.877446</td>\n",
       "      <td>-0.035265</td>\n",
       "    </tr>\n",
       "  </tbody>\n",
       "</table>\n",
       "<p>8 rows × 214 columns</p>\n",
       "</div>"
      ],
      "text/plain": [
       "           crop_id     B02_0322     B03_0322     B04_0322     B05_0322  \\\n",
       "count  1200.000000  1200.000000  1200.000000  1200.000000  1200.000000   \n",
       "mean      8.500000   581.880833   708.495833   869.456667  1107.196667   \n",
       "std       4.892506   112.002018   145.255491   193.444519   232.888240   \n",
       "min       1.000000   314.000000   323.000000   401.000000   491.000000   \n",
       "25%       4.500000   512.000000   616.750000   746.750000   943.750000   \n",
       "50%       9.000000   568.000000   692.000000   844.000000  1096.000000   \n",
       "75%      12.250000   634.250000   780.250000   967.250000  1242.000000   \n",
       "max      16.000000  1219.000000  1407.000000  1831.000000  2074.000000   \n",
       "\n",
       "          B06_0322     B07_0322    B08A_0322     B08_0322     B11_0322  ...  \\\n",
       "count  1200.000000  1200.000000  1200.000000  1200.000000  1200.000000  ...   \n",
       "mean   1406.018333  1541.455833  1708.319167  1626.284167  2085.293333  ...   \n",
       "std     493.603601   548.194337   570.986702   570.295898   393.887780  ...   \n",
       "min     555.000000   664.000000   744.000000   670.000000  1024.000000  ...   \n",
       "25%    1073.750000  1170.750000  1323.000000  1252.500000  1828.500000  ...   \n",
       "50%    1273.000000  1395.500000  1564.500000  1472.500000  2121.000000  ...   \n",
       "75%    1611.250000  1755.250000  1924.250000  1838.750000  2352.500000  ...   \n",
       "max    3734.000000  4204.000000  4436.000000  4372.000000  3885.000000  ...   \n",
       "\n",
       "       VH_20180824  VV_20180824  VH_20180901  VV_20180901  VH_20180905  \\\n",
       "count  1200.000000  1200.000000  1200.000000  1200.000000  1200.000000   \n",
       "mean    -21.057349   -12.514461   -15.676784    -8.235546   -17.978829   \n",
       "std       4.801779     3.227872     3.239966     2.454739     4.053307   \n",
       "min     -47.360827   -26.088645   -28.093690   -18.262707   -47.377829   \n",
       "25%     -24.000311   -14.523640   -17.495173    -9.802562   -20.173758   \n",
       "50%     -20.769847   -12.466210   -15.292160    -8.152490   -17.457946   \n",
       "75%     -17.515438   -10.396693   -13.384850    -6.661032   -15.237383   \n",
       "max     -11.186590    -2.475107    -8.402266     3.603084   -10.440328   \n",
       "\n",
       "       VV_20180905  VH_20180913  VV_20180913  VH_20180917  VV_20180917  \n",
       "count  1200.000000  1200.000000  1200.000000  1200.000000  1200.000000  \n",
       "mean     -9.398661   -23.232206   -12.331709   -22.225848   -12.670772  \n",
       "std       2.694878     7.064837     2.979832     4.947382     2.882676  \n",
       "min     -18.701451   -49.906834   -23.226203   -47.336408   -22.106770  \n",
       "25%     -11.066298   -26.230068   -14.240687   -24.970871   -14.627623  \n",
       "50%      -9.327234   -22.207835   -12.367720   -22.004615   -12.807948  \n",
       "75%      -7.643698   -18.282779   -10.308123   -18.769907   -10.811282  \n",
       "max       1.809863   -11.211261    -1.111857   -10.877446    -0.035265  \n",
       "\n",
       "[8 rows x 214 columns]"
      ]
     },
     "execution_count": 3,
     "metadata": {},
     "output_type": "execute_result"
    }
   ],
   "source": [
    "##########################\n",
    "###   exploring data   ###\n",
    "##########################\n",
    "\n",
    "print(train.head(7))\n",
    "\n",
    "train.describe()"
   ]
  },
  {
   "cell_type": "code",
   "execution_count": 4,
   "metadata": {},
   "outputs": [],
   "source": [
    "############################\n",
    "###   standardize data   ###\n",
    "############################\n",
    "\n",
    "scaler = StandardScaler()\n",
    "scaler.fit(X_train)\n",
    "\n",
    "X_train = scaler.transform(X_train)\n",
    "#X_test = scaler.transform(X_test)"
   ]
  },
  {
   "cell_type": "code",
   "execution_count": null,
   "metadata": {},
   "outputs": [],
   "source": [
    "##########################\n",
    "##########################\n",
    "###                    ###\n",
    "###   Classification   ###\n",
    "###                    ###\n",
    "##########################\n",
    "##########################"
   ]
  },
  {
   "cell_type": "code",
   "execution_count": null,
   "metadata": {},
   "outputs": [],
   "source": [
    "##########################################\n",
    "###   RFC - Random Forest Classifier   ###\n",
    "##########################################"
   ]
  },
  {
   "cell_type": "code",
   "execution_count": 9,
   "metadata": {},
   "outputs": [
    {
     "name": "stdout",
     "output_type": "stream",
     "text": [
      "0.7816666666666667 [0.775      0.80833333 0.81666667 0.775      0.775      0.75833333\n",
      " 0.81666667 0.75       0.79166667 0.75      ]\n"
     ]
    }
   ],
   "source": [
    "clf = RandomForestClassifier(n_estimators=10, max_depth=None, min_samples_split=2, random_state=399, n_jobs=8)\n",
    "scores = cross_val_score(clf, X_train, y_train, cv=10)\n",
    "print(np.mean(scores), scores)"
   ]
  },
  {
   "cell_type": "code",
   "execution_count": 6,
   "metadata": {},
   "outputs": [
    {
     "name": "stdout",
     "output_type": "stream",
     "text": [
      "0.9662308509909756 [0.97033013 0.96698705 0.96155453 0.9653155  0.96030088 0.96573339\n",
      " 0.96782282 0.96906355 0.96948161 0.96571906]\n"
     ]
    }
   ],
   "source": [
    "clf = RandomForestClassifier(n_estimators=10, max_depth=None, min_samples_split=2, random_state=399, n_jobs=8)\n",
    "scores = cross_val_score(clf, X_train, y_train, cv=10)\n",
    "print(np.mean(scores), scores)"
   ]
  },
  {
   "cell_type": "code",
   "execution_count": 10,
   "metadata": {},
   "outputs": [],
   "source": [
    "param_grid = [\n",
    "    {'n_estimators': [1, 10, 100, 1000], 'criterion': ['gini', 'entropy'], \\\n",
    "     'max_depth': [None, 10, 100, 1000], 'max_features': ['sqrt', 'log2', None], },\n",
    " ]"
   ]
  },
  {
   "cell_type": "code",
   "execution_count": 11,
   "metadata": {},
   "outputs": [
    {
     "data": {
      "text/plain": [
       "GridSearchCV(cv=10, estimator=RandomForestClassifier(), n_jobs=8,\n",
       "             param_grid=[{'criterion': ['gini', 'entropy'],\n",
       "                          'max_depth': [None, 10, 100, 1000],\n",
       "                          'max_features': ['sqrt', 'log2', None],\n",
       "                          'n_estimators': [1, 10, 100, 1000]}])"
      ]
     },
     "execution_count": 11,
     "metadata": {},
     "output_type": "execute_result"
    }
   ],
   "source": [
    "clf = GridSearchCV(RandomForestClassifier(), param_grid, cv=10, n_jobs=8)\n",
    "clf.fit(X_train, y_train)"
   ]
  },
  {
   "cell_type": "code",
   "execution_count": 12,
   "metadata": {
    "scrolled": true
   },
   "outputs": [
    {
     "name": "stdout",
     "output_type": "stream",
     "text": [
      "------------------------------------------------------------------------------------------------------\n",
      "\n",
      "Best parameters set found on development set:  {'criterion': 'gini', 'max_depth': 1000, 'max_features': 'sqrt', 'n_estimators': 1000}\n",
      "\n",
      "Best mean cross-validated score: 0.8391666666666666\n",
      "\n",
      "------------------------------------------------------------------------------------------------------\n",
      "Grid scores for SVM:\n",
      "\n",
      "0.600 (+/-0.076) for {'criterion': 'gini', 'max_depth': None, 'max_features': 'sqrt', 'n_estimators': 1}\n",
      "0.773 (+/-0.043) for {'criterion': 'gini', 'max_depth': None, 'max_features': 'sqrt', 'n_estimators': 10}\n",
      "0.824 (+/-0.053) for {'criterion': 'gini', 'max_depth': None, 'max_features': 'sqrt', 'n_estimators': 100}\n",
      "0.837 (+/-0.061) for {'criterion': 'gini', 'max_depth': None, 'max_features': 'sqrt', 'n_estimators': 1000}\n",
      "0.592 (+/-0.095) for {'criterion': 'gini', 'max_depth': None, 'max_features': 'log2', 'n_estimators': 1}\n",
      "0.774 (+/-0.051) for {'criterion': 'gini', 'max_depth': None, 'max_features': 'log2', 'n_estimators': 10}\n",
      "0.829 (+/-0.072) for {'criterion': 'gini', 'max_depth': None, 'max_features': 'log2', 'n_estimators': 100}\n",
      "0.836 (+/-0.060) for {'criterion': 'gini', 'max_depth': None, 'max_features': 'log2', 'n_estimators': 1000}\n",
      "0.633 (+/-0.048) for {'criterion': 'gini', 'max_depth': None, 'max_features': None, 'n_estimators': 1}\n",
      "0.777 (+/-0.069) for {'criterion': 'gini', 'max_depth': None, 'max_features': None, 'n_estimators': 10}\n",
      "0.820 (+/-0.071) for {'criterion': 'gini', 'max_depth': None, 'max_features': None, 'n_estimators': 100}\n",
      "0.821 (+/-0.073) for {'criterion': 'gini', 'max_depth': None, 'max_features': None, 'n_estimators': 1000}\n",
      "0.583 (+/-0.079) for {'criterion': 'gini', 'max_depth': 10, 'max_features': 'sqrt', 'n_estimators': 1}\n",
      "0.784 (+/-0.075) for {'criterion': 'gini', 'max_depth': 10, 'max_features': 'sqrt', 'n_estimators': 10}\n",
      "0.821 (+/-0.071) for {'criterion': 'gini', 'max_depth': 10, 'max_features': 'sqrt', 'n_estimators': 100}\n",
      "0.831 (+/-0.060) for {'criterion': 'gini', 'max_depth': 10, 'max_features': 'sqrt', 'n_estimators': 1000}\n",
      "0.573 (+/-0.078) for {'criterion': 'gini', 'max_depth': 10, 'max_features': 'log2', 'n_estimators': 1}\n",
      "0.772 (+/-0.059) for {'criterion': 'gini', 'max_depth': 10, 'max_features': 'log2', 'n_estimators': 10}\n",
      "0.832 (+/-0.072) for {'criterion': 'gini', 'max_depth': 10, 'max_features': 'log2', 'n_estimators': 100}\n",
      "0.831 (+/-0.074) for {'criterion': 'gini', 'max_depth': 10, 'max_features': 'log2', 'n_estimators': 1000}\n",
      "0.640 (+/-0.081) for {'criterion': 'gini', 'max_depth': 10, 'max_features': None, 'n_estimators': 1}\n",
      "0.781 (+/-0.079) for {'criterion': 'gini', 'max_depth': 10, 'max_features': None, 'n_estimators': 10}\n",
      "0.813 (+/-0.069) for {'criterion': 'gini', 'max_depth': 10, 'max_features': None, 'n_estimators': 100}\n",
      "0.817 (+/-0.070) for {'criterion': 'gini', 'max_depth': 10, 'max_features': None, 'n_estimators': 1000}\n",
      "0.610 (+/-0.083) for {'criterion': 'gini', 'max_depth': 100, 'max_features': 'sqrt', 'n_estimators': 1}\n",
      "0.772 (+/-0.042) for {'criterion': 'gini', 'max_depth': 100, 'max_features': 'sqrt', 'n_estimators': 10}\n",
      "0.838 (+/-0.050) for {'criterion': 'gini', 'max_depth': 100, 'max_features': 'sqrt', 'n_estimators': 100}\n",
      "0.833 (+/-0.058) for {'criterion': 'gini', 'max_depth': 100, 'max_features': 'sqrt', 'n_estimators': 1000}\n",
      "0.597 (+/-0.081) for {'criterion': 'gini', 'max_depth': 100, 'max_features': 'log2', 'n_estimators': 1}\n",
      "0.768 (+/-0.050) for {'criterion': 'gini', 'max_depth': 100, 'max_features': 'log2', 'n_estimators': 10}\n",
      "0.828 (+/-0.072) for {'criterion': 'gini', 'max_depth': 100, 'max_features': 'log2', 'n_estimators': 100}\n",
      "0.838 (+/-0.057) for {'criterion': 'gini', 'max_depth': 100, 'max_features': 'log2', 'n_estimators': 1000}\n",
      "0.645 (+/-0.084) for {'criterion': 'gini', 'max_depth': 100, 'max_features': None, 'n_estimators': 1}\n",
      "0.786 (+/-0.059) for {'criterion': 'gini', 'max_depth': 100, 'max_features': None, 'n_estimators': 10}\n",
      "0.822 (+/-0.067) for {'criterion': 'gini', 'max_depth': 100, 'max_features': None, 'n_estimators': 100}\n",
      "0.827 (+/-0.071) for {'criterion': 'gini', 'max_depth': 100, 'max_features': None, 'n_estimators': 1000}\n",
      "0.594 (+/-0.055) for {'criterion': 'gini', 'max_depth': 1000, 'max_features': 'sqrt', 'n_estimators': 1}\n",
      "0.782 (+/-0.064) for {'criterion': 'gini', 'max_depth': 1000, 'max_features': 'sqrt', 'n_estimators': 10}\n",
      "0.827 (+/-0.042) for {'criterion': 'gini', 'max_depth': 1000, 'max_features': 'sqrt', 'n_estimators': 100}\n",
      "0.839 (+/-0.062) for {'criterion': 'gini', 'max_depth': 1000, 'max_features': 'sqrt', 'n_estimators': 1000}\n",
      "0.587 (+/-0.058) for {'criterion': 'gini', 'max_depth': 1000, 'max_features': 'log2', 'n_estimators': 1}\n",
      "0.761 (+/-0.092) for {'criterion': 'gini', 'max_depth': 1000, 'max_features': 'log2', 'n_estimators': 10}\n",
      "0.828 (+/-0.049) for {'criterion': 'gini', 'max_depth': 1000, 'max_features': 'log2', 'n_estimators': 100}\n",
      "0.835 (+/-0.063) for {'criterion': 'gini', 'max_depth': 1000, 'max_features': 'log2', 'n_estimators': 1000}\n",
      "0.627 (+/-0.056) for {'criterion': 'gini', 'max_depth': 1000, 'max_features': None, 'n_estimators': 1}\n",
      "0.778 (+/-0.054) for {'criterion': 'gini', 'max_depth': 1000, 'max_features': None, 'n_estimators': 10}\n",
      "0.823 (+/-0.063) for {'criterion': 'gini', 'max_depth': 1000, 'max_features': None, 'n_estimators': 100}\n",
      "0.826 (+/-0.070) for {'criterion': 'gini', 'max_depth': 1000, 'max_features': None, 'n_estimators': 1000}\n",
      "0.622 (+/-0.100) for {'criterion': 'entropy', 'max_depth': None, 'max_features': 'sqrt', 'n_estimators': 1}\n",
      "0.782 (+/-0.063) for {'criterion': 'entropy', 'max_depth': None, 'max_features': 'sqrt', 'n_estimators': 10}\n",
      "0.832 (+/-0.060) for {'criterion': 'entropy', 'max_depth': None, 'max_features': 'sqrt', 'n_estimators': 100}\n",
      "0.828 (+/-0.053) for {'criterion': 'entropy', 'max_depth': None, 'max_features': 'sqrt', 'n_estimators': 1000}\n",
      "0.599 (+/-0.099) for {'criterion': 'entropy', 'max_depth': None, 'max_features': 'log2', 'n_estimators': 1}\n",
      "0.777 (+/-0.039) for {'criterion': 'entropy', 'max_depth': None, 'max_features': 'log2', 'n_estimators': 10}\n",
      "0.825 (+/-0.057) for {'criterion': 'entropy', 'max_depth': None, 'max_features': 'log2', 'n_estimators': 100}\n",
      "0.830 (+/-0.065) for {'criterion': 'entropy', 'max_depth': None, 'max_features': 'log2', 'n_estimators': 1000}\n",
      "0.662 (+/-0.066) for {'criterion': 'entropy', 'max_depth': None, 'max_features': None, 'n_estimators': 1}\n",
      "0.779 (+/-0.059) for {'criterion': 'entropy', 'max_depth': None, 'max_features': None, 'n_estimators': 10}\n",
      "0.822 (+/-0.064) for {'criterion': 'entropy', 'max_depth': None, 'max_features': None, 'n_estimators': 100}\n",
      "0.818 (+/-0.078) for {'criterion': 'entropy', 'max_depth': None, 'max_features': None, 'n_estimators': 1000}\n",
      "0.588 (+/-0.066) for {'criterion': 'entropy', 'max_depth': 10, 'max_features': 'sqrt', 'n_estimators': 1}\n",
      "0.778 (+/-0.064) for {'criterion': 'entropy', 'max_depth': 10, 'max_features': 'sqrt', 'n_estimators': 10}\n",
      "0.826 (+/-0.065) for {'criterion': 'entropy', 'max_depth': 10, 'max_features': 'sqrt', 'n_estimators': 100}\n",
      "0.827 (+/-0.054) for {'criterion': 'entropy', 'max_depth': 10, 'max_features': 'sqrt', 'n_estimators': 1000}\n",
      "0.579 (+/-0.115) for {'criterion': 'entropy', 'max_depth': 10, 'max_features': 'log2', 'n_estimators': 1}\n",
      "0.757 (+/-0.078) for {'criterion': 'entropy', 'max_depth': 10, 'max_features': 'log2', 'n_estimators': 10}\n",
      "0.820 (+/-0.057) for {'criterion': 'entropy', 'max_depth': 10, 'max_features': 'log2', 'n_estimators': 100}\n",
      "0.831 (+/-0.068) for {'criterion': 'entropy', 'max_depth': 10, 'max_features': 'log2', 'n_estimators': 1000}\n",
      "0.657 (+/-0.082) for {'criterion': 'entropy', 'max_depth': 10, 'max_features': None, 'n_estimators': 1}\n",
      "0.778 (+/-0.084) for {'criterion': 'entropy', 'max_depth': 10, 'max_features': None, 'n_estimators': 10}\n",
      "0.818 (+/-0.069) for {'criterion': 'entropy', 'max_depth': 10, 'max_features': None, 'n_estimators': 100}\n",
      "0.820 (+/-0.085) for {'criterion': 'entropy', 'max_depth': 10, 'max_features': None, 'n_estimators': 1000}\n",
      "0.603 (+/-0.109) for {'criterion': 'entropy', 'max_depth': 100, 'max_features': 'sqrt', 'n_estimators': 1}\n",
      "0.770 (+/-0.065) for {'criterion': 'entropy', 'max_depth': 100, 'max_features': 'sqrt', 'n_estimators': 10}\n",
      "0.832 (+/-0.072) for {'criterion': 'entropy', 'max_depth': 100, 'max_features': 'sqrt', 'n_estimators': 100}\n",
      "0.831 (+/-0.061) for {'criterion': 'entropy', 'max_depth': 100, 'max_features': 'sqrt', 'n_estimators': 1000}\n",
      "0.603 (+/-0.082) for {'criterion': 'entropy', 'max_depth': 100, 'max_features': 'log2', 'n_estimators': 1}\n",
      "0.775 (+/-0.075) for {'criterion': 'entropy', 'max_depth': 100, 'max_features': 'log2', 'n_estimators': 10}\n",
      "0.818 (+/-0.069) for {'criterion': 'entropy', 'max_depth': 100, 'max_features': 'log2', 'n_estimators': 100}\n",
      "0.830 (+/-0.069) for {'criterion': 'entropy', 'max_depth': 100, 'max_features': 'log2', 'n_estimators': 1000}\n",
      "0.652 (+/-0.098) for {'criterion': 'entropy', 'max_depth': 100, 'max_features': None, 'n_estimators': 1}\n",
      "0.759 (+/-0.081) for {'criterion': 'entropy', 'max_depth': 100, 'max_features': None, 'n_estimators': 10}\n",
      "0.813 (+/-0.056) for {'criterion': 'entropy', 'max_depth': 100, 'max_features': None, 'n_estimators': 100}\n",
      "0.819 (+/-0.087) for {'criterion': 'entropy', 'max_depth': 100, 'max_features': None, 'n_estimators': 1000}\n",
      "0.583 (+/-0.087) for {'criterion': 'entropy', 'max_depth': 1000, 'max_features': 'sqrt', 'n_estimators': 1}\n",
      "0.766 (+/-0.064) for {'criterion': 'entropy', 'max_depth': 1000, 'max_features': 'sqrt', 'n_estimators': 10}\n",
      "0.830 (+/-0.059) for {'criterion': 'entropy', 'max_depth': 1000, 'max_features': 'sqrt', 'n_estimators': 100}\n",
      "0.827 (+/-0.057) for {'criterion': 'entropy', 'max_depth': 1000, 'max_features': 'sqrt', 'n_estimators': 1000}\n",
      "0.590 (+/-0.082) for {'criterion': 'entropy', 'max_depth': 1000, 'max_features': 'log2', 'n_estimators': 1}\n",
      "0.773 (+/-0.051) for {'criterion': 'entropy', 'max_depth': 1000, 'max_features': 'log2', 'n_estimators': 10}\n",
      "0.819 (+/-0.056) for {'criterion': 'entropy', 'max_depth': 1000, 'max_features': 'log2', 'n_estimators': 100}\n",
      "0.832 (+/-0.062) for {'criterion': 'entropy', 'max_depth': 1000, 'max_features': 'log2', 'n_estimators': 1000}\n",
      "0.645 (+/-0.070) for {'criterion': 'entropy', 'max_depth': 1000, 'max_features': None, 'n_estimators': 1}\n",
      "0.790 (+/-0.050) for {'criterion': 'entropy', 'max_depth': 1000, 'max_features': None, 'n_estimators': 10}\n",
      "0.821 (+/-0.085) for {'criterion': 'entropy', 'max_depth': 1000, 'max_features': None, 'n_estimators': 100}\n",
      "0.822 (+/-0.088) for {'criterion': 'entropy', 'max_depth': 1000, 'max_features': None, 'n_estimators': 1000}\n",
      "------------------------------------------------------------------------------------------------------\n"
     ]
    }
   ],
   "source": [
    "print(\"------------------------------------------------------------------------------------------------------\")\n",
    "print()\n",
    "print(\"Best parameters set found on development set: \", clf.best_params_)\n",
    "print()\n",
    "print('Best mean cross-validated score:', clf.best_score_)\n",
    "print()\n",
    "print(\"------------------------------------------------------------------------------------------------------\")\n",
    "print(\"Grid scores for SVM:\")\n",
    "print()\n",
    "means = clf.cv_results_['mean_test_score']\n",
    "stds = clf.cv_results_['std_test_score']\n",
    "for mean, std, params in zip(means, stds, clf.cv_results_['params']):\n",
    "    print(\"%0.3f (+/-%0.03f) for %r\"\n",
    "          % (mean, std * 2, params))\n",
    "print(\"------------------------------------------------------------------------------------------------------\")"
   ]
  },
  {
   "cell_type": "code",
   "execution_count": 6,
   "metadata": {},
   "outputs": [],
   "source": [
    "param_grid = [\n",
    "    {'n_estimators': [600,1000,3000], 'criterion': ['gini'], \\\n",
    "     'max_depth': [1000], 'max_features': ['sqrt'], },\n",
    " ]"
   ]
  },
  {
   "cell_type": "code",
   "execution_count": 7,
   "metadata": {
    "scrolled": true
   },
   "outputs": [
    {
     "ename": "KeyboardInterrupt",
     "evalue": "",
     "output_type": "error",
     "traceback": [
      "\u001b[0;31m---------------------------------------------------------------------------\u001b[0m",
      "\u001b[0;31mKeyboardInterrupt\u001b[0m                         Traceback (most recent call last)",
      "\u001b[0;32m<ipython-input-7-9c52ee6f42ed>\u001b[0m in \u001b[0;36m<module>\u001b[0;34m\u001b[0m\n\u001b[1;32m      1\u001b[0m \u001b[0mclf\u001b[0m \u001b[0;34m=\u001b[0m \u001b[0mGridSearchCV\u001b[0m\u001b[0;34m(\u001b[0m\u001b[0mRandomForestClassifier\u001b[0m\u001b[0;34m(\u001b[0m\u001b[0;34m)\u001b[0m\u001b[0;34m,\u001b[0m \u001b[0mparam_grid\u001b[0m\u001b[0;34m,\u001b[0m \u001b[0mcv\u001b[0m\u001b[0;34m=\u001b[0m\u001b[0;36m10\u001b[0m\u001b[0;34m,\u001b[0m \u001b[0mn_jobs\u001b[0m\u001b[0;34m=\u001b[0m\u001b[0;36m8\u001b[0m\u001b[0;34m)\u001b[0m\u001b[0;34m\u001b[0m\u001b[0;34m\u001b[0m\u001b[0m\n\u001b[0;32m----> 2\u001b[0;31m \u001b[0mclf\u001b[0m\u001b[0;34m.\u001b[0m\u001b[0mfit\u001b[0m\u001b[0;34m(\u001b[0m\u001b[0mX_train\u001b[0m\u001b[0;34m,\u001b[0m \u001b[0my_train\u001b[0m\u001b[0;34m)\u001b[0m\u001b[0;34m\u001b[0m\u001b[0;34m\u001b[0m\u001b[0m\n\u001b[0m",
      "\u001b[0;32m~/miniconda3/envs/kaggle/lib/python3.8/site-packages/sklearn/utils/validation.py\u001b[0m in \u001b[0;36minner_f\u001b[0;34m(*args, **kwargs)\u001b[0m\n\u001b[1;32m     70\u001b[0m                           FutureWarning)\n\u001b[1;32m     71\u001b[0m         \u001b[0mkwargs\u001b[0m\u001b[0;34m.\u001b[0m\u001b[0mupdate\u001b[0m\u001b[0;34m(\u001b[0m\u001b[0;34m{\u001b[0m\u001b[0mk\u001b[0m\u001b[0;34m:\u001b[0m \u001b[0marg\u001b[0m \u001b[0;32mfor\u001b[0m \u001b[0mk\u001b[0m\u001b[0;34m,\u001b[0m \u001b[0marg\u001b[0m \u001b[0;32min\u001b[0m \u001b[0mzip\u001b[0m\u001b[0;34m(\u001b[0m\u001b[0msig\u001b[0m\u001b[0;34m.\u001b[0m\u001b[0mparameters\u001b[0m\u001b[0;34m,\u001b[0m \u001b[0margs\u001b[0m\u001b[0;34m)\u001b[0m\u001b[0;34m}\u001b[0m\u001b[0;34m)\u001b[0m\u001b[0;34m\u001b[0m\u001b[0;34m\u001b[0m\u001b[0m\n\u001b[0;32m---> 72\u001b[0;31m         \u001b[0;32mreturn\u001b[0m \u001b[0mf\u001b[0m\u001b[0;34m(\u001b[0m\u001b[0;34m**\u001b[0m\u001b[0mkwargs\u001b[0m\u001b[0;34m)\u001b[0m\u001b[0;34m\u001b[0m\u001b[0;34m\u001b[0m\u001b[0m\n\u001b[0m\u001b[1;32m     73\u001b[0m     \u001b[0;32mreturn\u001b[0m \u001b[0minner_f\u001b[0m\u001b[0;34m\u001b[0m\u001b[0;34m\u001b[0m\u001b[0m\n\u001b[1;32m     74\u001b[0m \u001b[0;34m\u001b[0m\u001b[0m\n",
      "\u001b[0;32m~/miniconda3/envs/kaggle/lib/python3.8/site-packages/sklearn/model_selection/_search.py\u001b[0m in \u001b[0;36mfit\u001b[0;34m(self, X, y, groups, **fit_params)\u001b[0m\n\u001b[1;32m    734\u001b[0m                 \u001b[0;32mreturn\u001b[0m \u001b[0mresults\u001b[0m\u001b[0;34m\u001b[0m\u001b[0;34m\u001b[0m\u001b[0m\n\u001b[1;32m    735\u001b[0m \u001b[0;34m\u001b[0m\u001b[0m\n\u001b[0;32m--> 736\u001b[0;31m             \u001b[0mself\u001b[0m\u001b[0;34m.\u001b[0m\u001b[0m_run_search\u001b[0m\u001b[0;34m(\u001b[0m\u001b[0mevaluate_candidates\u001b[0m\u001b[0;34m)\u001b[0m\u001b[0;34m\u001b[0m\u001b[0;34m\u001b[0m\u001b[0m\n\u001b[0m\u001b[1;32m    737\u001b[0m \u001b[0;34m\u001b[0m\u001b[0m\n\u001b[1;32m    738\u001b[0m         \u001b[0;31m# For multi-metric evaluation, store the best_index_, best_params_ and\u001b[0m\u001b[0;34m\u001b[0m\u001b[0;34m\u001b[0m\u001b[0;34m\u001b[0m\u001b[0m\n",
      "\u001b[0;32m~/miniconda3/envs/kaggle/lib/python3.8/site-packages/sklearn/model_selection/_search.py\u001b[0m in \u001b[0;36m_run_search\u001b[0;34m(self, evaluate_candidates)\u001b[0m\n\u001b[1;32m   1186\u001b[0m     \u001b[0;32mdef\u001b[0m \u001b[0m_run_search\u001b[0m\u001b[0;34m(\u001b[0m\u001b[0mself\u001b[0m\u001b[0;34m,\u001b[0m \u001b[0mevaluate_candidates\u001b[0m\u001b[0;34m)\u001b[0m\u001b[0;34m:\u001b[0m\u001b[0;34m\u001b[0m\u001b[0;34m\u001b[0m\u001b[0m\n\u001b[1;32m   1187\u001b[0m         \u001b[0;34m\"\"\"Search all candidates in param_grid\"\"\"\u001b[0m\u001b[0;34m\u001b[0m\u001b[0;34m\u001b[0m\u001b[0m\n\u001b[0;32m-> 1188\u001b[0;31m         \u001b[0mevaluate_candidates\u001b[0m\u001b[0;34m(\u001b[0m\u001b[0mParameterGrid\u001b[0m\u001b[0;34m(\u001b[0m\u001b[0mself\u001b[0m\u001b[0;34m.\u001b[0m\u001b[0mparam_grid\u001b[0m\u001b[0;34m)\u001b[0m\u001b[0;34m)\u001b[0m\u001b[0;34m\u001b[0m\u001b[0;34m\u001b[0m\u001b[0m\n\u001b[0m\u001b[1;32m   1189\u001b[0m \u001b[0;34m\u001b[0m\u001b[0m\n\u001b[1;32m   1190\u001b[0m \u001b[0;34m\u001b[0m\u001b[0m\n",
      "\u001b[0;32m~/miniconda3/envs/kaggle/lib/python3.8/site-packages/sklearn/model_selection/_search.py\u001b[0m in \u001b[0;36mevaluate_candidates\u001b[0;34m(candidate_params)\u001b[0m\n\u001b[1;32m    706\u001b[0m                               n_splits, n_candidates, n_candidates * n_splits))\n\u001b[1;32m    707\u001b[0m \u001b[0;34m\u001b[0m\u001b[0m\n\u001b[0;32m--> 708\u001b[0;31m                 out = parallel(delayed(_fit_and_score)(clone(base_estimator),\n\u001b[0m\u001b[1;32m    709\u001b[0m                                                        \u001b[0mX\u001b[0m\u001b[0;34m,\u001b[0m \u001b[0my\u001b[0m\u001b[0;34m,\u001b[0m\u001b[0;34m\u001b[0m\u001b[0;34m\u001b[0m\u001b[0m\n\u001b[1;32m    710\u001b[0m                                                        \u001b[0mtrain\u001b[0m\u001b[0;34m=\u001b[0m\u001b[0mtrain\u001b[0m\u001b[0;34m,\u001b[0m \u001b[0mtest\u001b[0m\u001b[0;34m=\u001b[0m\u001b[0mtest\u001b[0m\u001b[0;34m,\u001b[0m\u001b[0;34m\u001b[0m\u001b[0;34m\u001b[0m\u001b[0m\n",
      "\u001b[0;32m~/miniconda3/envs/kaggle/lib/python3.8/site-packages/joblib/parallel.py\u001b[0m in \u001b[0;36m__call__\u001b[0;34m(self, iterable)\u001b[0m\n\u001b[1;32m   1059\u001b[0m \u001b[0;34m\u001b[0m\u001b[0m\n\u001b[1;32m   1060\u001b[0m             \u001b[0;32mwith\u001b[0m \u001b[0mself\u001b[0m\u001b[0;34m.\u001b[0m\u001b[0m_backend\u001b[0m\u001b[0;34m.\u001b[0m\u001b[0mretrieval_context\u001b[0m\u001b[0;34m(\u001b[0m\u001b[0;34m)\u001b[0m\u001b[0;34m:\u001b[0m\u001b[0;34m\u001b[0m\u001b[0;34m\u001b[0m\u001b[0m\n\u001b[0;32m-> 1061\u001b[0;31m                 \u001b[0mself\u001b[0m\u001b[0;34m.\u001b[0m\u001b[0mretrieve\u001b[0m\u001b[0;34m(\u001b[0m\u001b[0;34m)\u001b[0m\u001b[0;34m\u001b[0m\u001b[0;34m\u001b[0m\u001b[0m\n\u001b[0m\u001b[1;32m   1062\u001b[0m             \u001b[0;31m# Make sure that we get a last message telling us we are done\u001b[0m\u001b[0;34m\u001b[0m\u001b[0;34m\u001b[0m\u001b[0;34m\u001b[0m\u001b[0m\n\u001b[1;32m   1063\u001b[0m             \u001b[0melapsed_time\u001b[0m \u001b[0;34m=\u001b[0m \u001b[0mtime\u001b[0m\u001b[0;34m.\u001b[0m\u001b[0mtime\u001b[0m\u001b[0;34m(\u001b[0m\u001b[0;34m)\u001b[0m \u001b[0;34m-\u001b[0m \u001b[0mself\u001b[0m\u001b[0;34m.\u001b[0m\u001b[0m_start_time\u001b[0m\u001b[0;34m\u001b[0m\u001b[0;34m\u001b[0m\u001b[0m\n",
      "\u001b[0;32m~/miniconda3/envs/kaggle/lib/python3.8/site-packages/joblib/parallel.py\u001b[0m in \u001b[0;36mretrieve\u001b[0;34m(self)\u001b[0m\n\u001b[1;32m    938\u001b[0m             \u001b[0;32mtry\u001b[0m\u001b[0;34m:\u001b[0m\u001b[0;34m\u001b[0m\u001b[0;34m\u001b[0m\u001b[0m\n\u001b[1;32m    939\u001b[0m                 \u001b[0;32mif\u001b[0m \u001b[0mgetattr\u001b[0m\u001b[0;34m(\u001b[0m\u001b[0mself\u001b[0m\u001b[0;34m.\u001b[0m\u001b[0m_backend\u001b[0m\u001b[0;34m,\u001b[0m \u001b[0;34m'supports_timeout'\u001b[0m\u001b[0;34m,\u001b[0m \u001b[0;32mFalse\u001b[0m\u001b[0;34m)\u001b[0m\u001b[0;34m:\u001b[0m\u001b[0;34m\u001b[0m\u001b[0;34m\u001b[0m\u001b[0m\n\u001b[0;32m--> 940\u001b[0;31m                     \u001b[0mself\u001b[0m\u001b[0;34m.\u001b[0m\u001b[0m_output\u001b[0m\u001b[0;34m.\u001b[0m\u001b[0mextend\u001b[0m\u001b[0;34m(\u001b[0m\u001b[0mjob\u001b[0m\u001b[0;34m.\u001b[0m\u001b[0mget\u001b[0m\u001b[0;34m(\u001b[0m\u001b[0mtimeout\u001b[0m\u001b[0;34m=\u001b[0m\u001b[0mself\u001b[0m\u001b[0;34m.\u001b[0m\u001b[0mtimeout\u001b[0m\u001b[0;34m)\u001b[0m\u001b[0;34m)\u001b[0m\u001b[0;34m\u001b[0m\u001b[0;34m\u001b[0m\u001b[0m\n\u001b[0m\u001b[1;32m    941\u001b[0m                 \u001b[0;32melse\u001b[0m\u001b[0;34m:\u001b[0m\u001b[0;34m\u001b[0m\u001b[0;34m\u001b[0m\u001b[0m\n\u001b[1;32m    942\u001b[0m                     \u001b[0mself\u001b[0m\u001b[0;34m.\u001b[0m\u001b[0m_output\u001b[0m\u001b[0;34m.\u001b[0m\u001b[0mextend\u001b[0m\u001b[0;34m(\u001b[0m\u001b[0mjob\u001b[0m\u001b[0;34m.\u001b[0m\u001b[0mget\u001b[0m\u001b[0;34m(\u001b[0m\u001b[0;34m)\u001b[0m\u001b[0;34m)\u001b[0m\u001b[0;34m\u001b[0m\u001b[0;34m\u001b[0m\u001b[0m\n",
      "\u001b[0;32m~/miniconda3/envs/kaggle/lib/python3.8/site-packages/joblib/_parallel_backends.py\u001b[0m in \u001b[0;36mwrap_future_result\u001b[0;34m(future, timeout)\u001b[0m\n\u001b[1;32m    540\u001b[0m         AsyncResults.get from multiprocessing.\"\"\"\n\u001b[1;32m    541\u001b[0m         \u001b[0;32mtry\u001b[0m\u001b[0;34m:\u001b[0m\u001b[0;34m\u001b[0m\u001b[0;34m\u001b[0m\u001b[0m\n\u001b[0;32m--> 542\u001b[0;31m             \u001b[0;32mreturn\u001b[0m \u001b[0mfuture\u001b[0m\u001b[0;34m.\u001b[0m\u001b[0mresult\u001b[0m\u001b[0;34m(\u001b[0m\u001b[0mtimeout\u001b[0m\u001b[0;34m=\u001b[0m\u001b[0mtimeout\u001b[0m\u001b[0;34m)\u001b[0m\u001b[0;34m\u001b[0m\u001b[0;34m\u001b[0m\u001b[0m\n\u001b[0m\u001b[1;32m    543\u001b[0m         \u001b[0;32mexcept\u001b[0m \u001b[0mCfTimeoutError\u001b[0m \u001b[0;32mas\u001b[0m \u001b[0me\u001b[0m\u001b[0;34m:\u001b[0m\u001b[0;34m\u001b[0m\u001b[0;34m\u001b[0m\u001b[0m\n\u001b[1;32m    544\u001b[0m             \u001b[0;32mraise\u001b[0m \u001b[0mTimeoutError\u001b[0m \u001b[0;32mfrom\u001b[0m \u001b[0me\u001b[0m\u001b[0;34m\u001b[0m\u001b[0;34m\u001b[0m\u001b[0m\n",
      "\u001b[0;32m~/miniconda3/envs/kaggle/lib/python3.8/concurrent/futures/_base.py\u001b[0m in \u001b[0;36mresult\u001b[0;34m(self, timeout)\u001b[0m\n\u001b[1;32m    432\u001b[0m                 \u001b[0;32mreturn\u001b[0m \u001b[0mself\u001b[0m\u001b[0;34m.\u001b[0m\u001b[0m__get_result\u001b[0m\u001b[0;34m(\u001b[0m\u001b[0;34m)\u001b[0m\u001b[0;34m\u001b[0m\u001b[0;34m\u001b[0m\u001b[0m\n\u001b[1;32m    433\u001b[0m \u001b[0;34m\u001b[0m\u001b[0m\n\u001b[0;32m--> 434\u001b[0;31m             \u001b[0mself\u001b[0m\u001b[0;34m.\u001b[0m\u001b[0m_condition\u001b[0m\u001b[0;34m.\u001b[0m\u001b[0mwait\u001b[0m\u001b[0;34m(\u001b[0m\u001b[0mtimeout\u001b[0m\u001b[0;34m)\u001b[0m\u001b[0;34m\u001b[0m\u001b[0;34m\u001b[0m\u001b[0m\n\u001b[0m\u001b[1;32m    435\u001b[0m \u001b[0;34m\u001b[0m\u001b[0m\n\u001b[1;32m    436\u001b[0m             \u001b[0;32mif\u001b[0m \u001b[0mself\u001b[0m\u001b[0;34m.\u001b[0m\u001b[0m_state\u001b[0m \u001b[0;32min\u001b[0m \u001b[0;34m[\u001b[0m\u001b[0mCANCELLED\u001b[0m\u001b[0;34m,\u001b[0m \u001b[0mCANCELLED_AND_NOTIFIED\u001b[0m\u001b[0;34m]\u001b[0m\u001b[0;34m:\u001b[0m\u001b[0;34m\u001b[0m\u001b[0;34m\u001b[0m\u001b[0m\n",
      "\u001b[0;32m~/miniconda3/envs/kaggle/lib/python3.8/threading.py\u001b[0m in \u001b[0;36mwait\u001b[0;34m(self, timeout)\u001b[0m\n\u001b[1;32m    300\u001b[0m         \u001b[0;32mtry\u001b[0m\u001b[0;34m:\u001b[0m    \u001b[0;31m# restore state no matter what (e.g., KeyboardInterrupt)\u001b[0m\u001b[0;34m\u001b[0m\u001b[0;34m\u001b[0m\u001b[0m\n\u001b[1;32m    301\u001b[0m             \u001b[0;32mif\u001b[0m \u001b[0mtimeout\u001b[0m \u001b[0;32mis\u001b[0m \u001b[0;32mNone\u001b[0m\u001b[0;34m:\u001b[0m\u001b[0;34m\u001b[0m\u001b[0;34m\u001b[0m\u001b[0m\n\u001b[0;32m--> 302\u001b[0;31m                 \u001b[0mwaiter\u001b[0m\u001b[0;34m.\u001b[0m\u001b[0macquire\u001b[0m\u001b[0;34m(\u001b[0m\u001b[0;34m)\u001b[0m\u001b[0;34m\u001b[0m\u001b[0;34m\u001b[0m\u001b[0m\n\u001b[0m\u001b[1;32m    303\u001b[0m                 \u001b[0mgotit\u001b[0m \u001b[0;34m=\u001b[0m \u001b[0;32mTrue\u001b[0m\u001b[0;34m\u001b[0m\u001b[0;34m\u001b[0m\u001b[0m\n\u001b[1;32m    304\u001b[0m             \u001b[0;32melse\u001b[0m\u001b[0;34m:\u001b[0m\u001b[0;34m\u001b[0m\u001b[0;34m\u001b[0m\u001b[0m\n",
      "\u001b[0;31mKeyboardInterrupt\u001b[0m: "
     ]
    }
   ],
   "source": [
    "clf = GridSearchCV(RandomForestClassifier(), param_grid, cv=10, n_jobs=8)\n",
    "clf.fit(X_train, y_train)"
   ]
  },
  {
   "cell_type": "code",
   "execution_count": 21,
   "metadata": {},
   "outputs": [
    {
     "name": "stdout",
     "output_type": "stream",
     "text": [
      "------------------------------------------------------------------------------------------------------\n",
      "\n",
      "Best parameters set found on development set:  {'criterion': 'gini', 'max_depth': 1000, 'max_features': 'sqrt', 'n_estimators': 600}\n",
      "\n",
      "Best mean cross-validated score: 0.8358333333333332\n",
      "\n",
      "------------------------------------------------------------------------------------------------------\n",
      "Grid scores for SVM:\n",
      "\n",
      "0.836 (+/-0.045) for {'criterion': 'gini', 'max_depth': 1000, 'max_features': 'sqrt', 'n_estimators': 600}\n",
      "0.833 (+/-0.061) for {'criterion': 'gini', 'max_depth': 1000, 'max_features': 'sqrt', 'n_estimators': 1000}\n",
      "0.835 (+/-0.062) for {'criterion': 'gini', 'max_depth': 1000, 'max_features': 'sqrt', 'n_estimators': 3000}\n",
      "------------------------------------------------------------------------------------------------------\n"
     ]
    }
   ],
   "source": [
    "print(\"------------------------------------------------------------------------------------------------------\")\n",
    "print()\n",
    "print(\"Best parameters set found on development set: \", clf.best_params_)\n",
    "print()\n",
    "print('Best mean cross-validated score:', clf.best_score_)\n",
    "print()\n",
    "print(\"------------------------------------------------------------------------------------------------------\")\n",
    "print(\"Grid scores for SVM:\")\n",
    "print()\n",
    "means = clf.cv_results_['mean_test_score']\n",
    "stds = clf.cv_results_['std_test_score']\n",
    "for mean, std, params in zip(means, stds, clf.cv_results_['params']):\n",
    "    print(\"%0.3f (+/-%0.03f) for %r\"\n",
    "          % (mean, std * 2, params))\n",
    "print(\"------------------------------------------------------------------------------------------------------\")"
   ]
  },
  {
   "cell_type": "code",
   "execution_count": null,
   "metadata": {},
   "outputs": [],
   "source": []
  },
  {
   "cell_type": "code",
   "execution_count": null,
   "metadata": {},
   "outputs": [],
   "source": [
    "###########################################\n",
    "###   SVC - Support Vector Classifier   ###\n",
    "###########################################"
   ]
  },
  {
   "cell_type": "code",
   "execution_count": 5,
   "metadata": {},
   "outputs": [
    {
     "name": "stdout",
     "output_type": "stream",
     "text": [
      "0.8541666666666667 [0.825      0.86666667 0.85833333 0.875      0.83333333 0.85833333\n",
      " 0.85833333 0.86666667 0.86666667 0.83333333]\n"
     ]
    }
   ],
   "source": [
    "clf = SVC(kernel='linear', C=1, random_state=399)\n",
    "scores = cross_val_score(clf, X_train, y_train, cv=10, n_jobs=8)\n",
    "print(np.mean(scores), scores)"
   ]
  },
  {
   "cell_type": "code",
   "execution_count": 8,
   "metadata": {},
   "outputs": [
    {
     "name": "stdout",
     "output_type": "stream",
     "text": [
      "0.8799999999999999 [0.88333333 0.9        0.86666667 0.90833333 0.88333333 0.90833333\n",
      " 0.85833333 0.85       0.88333333 0.85833333]\n"
     ]
    }
   ],
   "source": [
    "clf = SVC(kernel='linear', C=1, random_state=399)\n",
    "scores = cross_val_score(clf, X_train, y_train, cv=10, n_jobs=8)\n",
    "print(np.mean(scores), scores)"
   ]
  },
  {
   "cell_type": "code",
   "execution_count": 7,
   "metadata": {},
   "outputs": [
    {
     "name": "stdout",
     "output_type": "stream",
     "text": [
      "0.9811511452718141 [0.98328458 0.98203092 0.98203092 0.97743418 0.97785207 0.98161304\n",
      " 0.98035938 0.98620401 0.97993311 0.98076923]\n"
     ]
    }
   ],
   "source": [
    "clf = SVC(kernel='linear', C=1, random_state=399)\n",
    "scores = cross_val_score(clf, X_train, y_train, cv=10, n_jobs=8)\n",
    "print(np.mean(scores), scores)"
   ]
  },
  {
   "cell_type": "code",
   "execution_count": 5,
   "metadata": {},
   "outputs": [
    {
     "name": "stdout",
     "output_type": "stream",
     "text": [
      "0.8883333333333334 [0.89166667 0.89166667 0.89166667 0.90833333 0.9        0.89166667\n",
      " 0.875      0.89166667 0.9        0.84166667]\n"
     ]
    }
   ],
   "source": [
    "clf = SVC(kernel='linear', C=1, random_state=399)\n",
    "scores = cross_val_score(clf, X_train, y_train, cv=10, n_jobs=8)\n",
    "print(np.mean(scores), scores)"
   ]
  },
  {
   "cell_type": "code",
   "execution_count": 6,
   "metadata": {},
   "outputs": [],
   "source": [
    "param_grid = [\n",
    "    {'C': [1, 10, 100, 1000], 'kernel': ['linear']},\n",
    "    {'C': [1, 10, 100, 1000], 'gamma': ['scale', 'auto'], 'kernel': ['rbf']},\n",
    "    {'C': [1, 10, 100, 1000], 'gamma': ['scale', 'auto'], 'degree': [2, 3, 4], 'kernel': ['poly']},\n",
    "    {'C': [1, 10, 100, 1000], 'gamma': ['scale', 'auto'], 'kernel': ['sigmoid']},\n",
    " ]"
   ]
  },
  {
   "cell_type": "code",
   "execution_count": 7,
   "metadata": {},
   "outputs": [
    {
     "data": {
      "text/plain": [
       "GridSearchCV(cv=10, estimator=SVC(), n_jobs=8,\n",
       "             param_grid=[{'C': [1, 10, 100, 1000], 'kernel': ['linear']},\n",
       "                         {'C': [1, 10, 100, 1000], 'gamma': ['scale', 'auto'],\n",
       "                          'kernel': ['rbf']},\n",
       "                         {'C': [1, 10, 100, 1000], 'degree': [2, 3, 4],\n",
       "                          'gamma': ['scale', 'auto'], 'kernel': ['poly']},\n",
       "                         {'C': [1, 10, 100, 1000], 'gamma': ['scale', 'auto'],\n",
       "                          'kernel': ['sigmoid']}])"
      ]
     },
     "execution_count": 7,
     "metadata": {},
     "output_type": "execute_result"
    }
   ],
   "source": [
    "clf = GridSearchCV(SVC(), param_grid, cv=10, n_jobs=8)\n",
    "clf.fit(X_train, y_train)"
   ]
  },
  {
   "cell_type": "code",
   "execution_count": 8,
   "metadata": {},
   "outputs": [
    {
     "name": "stdout",
     "output_type": "stream",
     "text": [
      "------------------------------------------------------------------------------------------------------\n",
      "\n",
      "Best parameters set found on development set:  {'C': 10, 'gamma': 'scale', 'kernel': 'rbf'}\n",
      "\n",
      "Best mean cross-validated score: 0.9883333333333335\n",
      "\n",
      "------------------------------------------------------------------------------------------------------\n",
      "Grid scores for SVM:\n",
      "\n",
      "0.971 (+/-0.009) for {'C': 1, 'kernel': 'linear'}\n",
      "0.972 (+/-0.010) for {'C': 10, 'kernel': 'linear'}\n",
      "0.968 (+/-0.010) for {'C': 100, 'kernel': 'linear'}\n",
      "0.968 (+/-0.009) for {'C': 1000, 'kernel': 'linear'}\n",
      "0.971 (+/-0.007) for {'C': 1, 'gamma': 'scale', 'kernel': 'rbf'}\n",
      "0.971 (+/-0.007) for {'C': 1, 'gamma': 'auto', 'kernel': 'rbf'}\n",
      "0.988 (+/-0.005) for {'C': 10, 'gamma': 'scale', 'kernel': 'rbf'}\n",
      "0.988 (+/-0.005) for {'C': 10, 'gamma': 'auto', 'kernel': 'rbf'}\n",
      "0.988 (+/-0.005) for {'C': 100, 'gamma': 'scale', 'kernel': 'rbf'}\n",
      "0.988 (+/-0.005) for {'C': 100, 'gamma': 'auto', 'kernel': 'rbf'}\n",
      "0.988 (+/-0.005) for {'C': 1000, 'gamma': 'scale', 'kernel': 'rbf'}\n",
      "0.988 (+/-0.005) for {'C': 1000, 'gamma': 'auto', 'kernel': 'rbf'}\n",
      "0.948 (+/-0.011) for {'C': 1, 'degree': 2, 'gamma': 'scale', 'kernel': 'poly'}\n",
      "0.947 (+/-0.010) for {'C': 1, 'degree': 2, 'gamma': 'auto', 'kernel': 'poly'}\n",
      "0.945 (+/-0.013) for {'C': 1, 'degree': 3, 'gamma': 'scale', 'kernel': 'poly'}\n",
      "0.945 (+/-0.012) for {'C': 1, 'degree': 3, 'gamma': 'auto', 'kernel': 'poly'}\n",
      "0.889 (+/-0.023) for {'C': 1, 'degree': 4, 'gamma': 'scale', 'kernel': 'poly'}\n",
      "0.889 (+/-0.023) for {'C': 1, 'degree': 4, 'gamma': 'auto', 'kernel': 'poly'}\n",
      "0.978 (+/-0.007) for {'C': 10, 'degree': 2, 'gamma': 'scale', 'kernel': 'poly'}\n",
      "0.978 (+/-0.007) for {'C': 10, 'degree': 2, 'gamma': 'auto', 'kernel': 'poly'}\n",
      "0.978 (+/-0.009) for {'C': 10, 'degree': 3, 'gamma': 'scale', 'kernel': 'poly'}\n",
      "0.978 (+/-0.009) for {'C': 10, 'degree': 3, 'gamma': 'auto', 'kernel': 'poly'}\n",
      "0.958 (+/-0.011) for {'C': 10, 'degree': 4, 'gamma': 'scale', 'kernel': 'poly'}\n",
      "0.958 (+/-0.011) for {'C': 10, 'degree': 4, 'gamma': 'auto', 'kernel': 'poly'}\n",
      "0.978 (+/-0.007) for {'C': 100, 'degree': 2, 'gamma': 'scale', 'kernel': 'poly'}\n",
      "0.978 (+/-0.007) for {'C': 100, 'degree': 2, 'gamma': 'auto', 'kernel': 'poly'}\n",
      "0.975 (+/-0.006) for {'C': 100, 'degree': 3, 'gamma': 'scale', 'kernel': 'poly'}\n",
      "0.975 (+/-0.006) for {'C': 100, 'degree': 3, 'gamma': 'auto', 'kernel': 'poly'}\n",
      "0.962 (+/-0.011) for {'C': 100, 'degree': 4, 'gamma': 'scale', 'kernel': 'poly'}\n",
      "0.962 (+/-0.011) for {'C': 100, 'degree': 4, 'gamma': 'auto', 'kernel': 'poly'}\n",
      "0.978 (+/-0.007) for {'C': 1000, 'degree': 2, 'gamma': 'scale', 'kernel': 'poly'}\n",
      "0.978 (+/-0.007) for {'C': 1000, 'degree': 2, 'gamma': 'auto', 'kernel': 'poly'}\n",
      "0.975 (+/-0.008) for {'C': 1000, 'degree': 3, 'gamma': 'scale', 'kernel': 'poly'}\n",
      "0.975 (+/-0.008) for {'C': 1000, 'degree': 3, 'gamma': 'auto', 'kernel': 'poly'}\n",
      "0.959 (+/-0.010) for {'C': 1000, 'degree': 4, 'gamma': 'scale', 'kernel': 'poly'}\n",
      "0.959 (+/-0.010) for {'C': 1000, 'degree': 4, 'gamma': 'auto', 'kernel': 'poly'}\n",
      "0.629 (+/-0.028) for {'C': 1, 'gamma': 'scale', 'kernel': 'sigmoid'}\n",
      "0.629 (+/-0.029) for {'C': 1, 'gamma': 'auto', 'kernel': 'sigmoid'}\n",
      "0.593 (+/-0.030) for {'C': 10, 'gamma': 'scale', 'kernel': 'sigmoid'}\n",
      "0.594 (+/-0.031) for {'C': 10, 'gamma': 'auto', 'kernel': 'sigmoid'}\n",
      "0.595 (+/-0.032) for {'C': 100, 'gamma': 'scale', 'kernel': 'sigmoid'}\n",
      "0.594 (+/-0.032) for {'C': 100, 'gamma': 'auto', 'kernel': 'sigmoid'}\n",
      "0.595 (+/-0.025) for {'C': 1000, 'gamma': 'scale', 'kernel': 'sigmoid'}\n",
      "0.594 (+/-0.032) for {'C': 1000, 'gamma': 'auto', 'kernel': 'sigmoid'}\n"
     ]
    }
   ],
   "source": [
    "print(\"------------------------------------------------------------------------------------------------------\")\n",
    "print()\n",
    "print(\"Best parameters set found on development set: \", clf.best_params_)\n",
    "print()\n",
    "print('Best mean cross-validated score:', clf.best_score_)\n",
    "print()\n",
    "print(\"------------------------------------------------------------------------------------------------------\")\n",
    "print(\"Grid scores for SVM:\")\n",
    "print()\n",
    "means = clf.cv_results_['mean_test_score']\n",
    "stds = clf.cv_results_['std_test_score']\n",
    "for mean, std, params in zip(means, stds, clf.cv_results_['params']):\n",
    "    print(\"%0.3f (+/-%0.03f) for %r\"\n",
    "          % (mean, std * 2, params))"
   ]
  },
  {
   "cell_type": "code",
   "execution_count": 12,
   "metadata": {},
   "outputs": [],
   "source": [
    "######################\n",
    "###   Prediction   ###\n",
    "######################"
   ]
  },
  {
   "cell_type": "code",
   "execution_count": 13,
   "metadata": {},
   "outputs": [],
   "source": [
    "# prediction with the best preforming model\n",
    "clf = SVC(kernel='rbf', C=10, gamma='scale', random_state=399)\n",
    "clf.fit(X_train, y_train)\n",
    "pred = clf.predict(X_test)"
   ]
  },
  {
   "cell_type": "code",
   "execution_count": 14,
   "metadata": {},
   "outputs": [],
   "source": [
    "pred = clf.predict(X_test)"
   ]
  },
  {
   "cell_type": "code",
   "execution_count": 17,
   "metadata": {},
   "outputs": [
    {
     "data": {
      "text/plain": [
       "array([[355,   1,   1,  15,   2,  13,   3,   5,   0,   2,   2,   1],\n",
       "       [  4, 372,   0,  18,   2,   0,   1,   0,   0,   3,   0,   0],\n",
       "       [  0,   0, 380,   2,   0,   0,   0,   0,   8,   0,   9,   1],\n",
       "       [ 12,   5,   5, 317,  14,   2,   3,   3,   0,   9,  23,   7],\n",
       "       [  5,   7,   0,  18, 314,   4,  10,  21,   1,   7,  13,   0],\n",
       "       [ 11,   3,   0,  11,   4, 362,   3,   2,   0,   3,   1,   0],\n",
       "       [  1,   0,   0,   6,   3,   6, 374,   2,   0,   2,   1,   5],\n",
       "       [  3,   0,   0,   7,  35,   1,   5, 346,   0,   3,   0,   0],\n",
       "       [  0,   0,   9,   3,   0,   0,   0,   0, 374,   3,   9,   2],\n",
       "       [  0,   2,   0,   3,   2,   1,   0,   3,   0, 372,   3,  14],\n",
       "       [  3,   0,   6,   3,   3,   0,   0,   0,   1,   6, 358,   0],\n",
       "       [  0,   0,   0,   1,   0,   0,   0,   0,   0,   4,   0, 199]])"
      ]
     },
     "execution_count": 17,
     "metadata": {},
     "output_type": "execute_result"
    }
   ],
   "source": [
    "confusion_matrix(y_test, pred)"
   ]
  },
  {
   "cell_type": "code",
   "execution_count": 18,
   "metadata": {},
   "outputs": [
    {
     "data": {
      "text/plain": [
       "0.8994328097731239"
      ]
     },
     "execution_count": 18,
     "metadata": {},
     "output_type": "execute_result"
    }
   ],
   "source": [
    "accuracy_score(y_test, pred)"
   ]
  },
  {
   "cell_type": "code",
   "execution_count": 9,
   "metadata": {},
   "outputs": [],
   "source": [
    "# prediction with the best preforming model\n",
    "clf = SVC(kernel='rbf', C=10, gamma='scale', random_state=399)\n",
    "clf.fit(X_train, y_train)\n",
    "pred = clf.predict(X_test)"
   ]
  },
  {
   "cell_type": "code",
   "execution_count": 10,
   "metadata": {},
   "outputs": [],
   "source": [
    "pred = clf.predict(X_test)"
   ]
  },
  {
   "cell_type": "code",
   "execution_count": 11,
   "metadata": {},
   "outputs": [
    {
     "data": {
      "text/plain": [
       "array([[375,   0,   2,   6,   1,   8,   2,   3,   0,   1,   1,   1],\n",
       "       [  3, 384,   0,   8,   2,   0,   1,   0,   0,   2,   0,   0],\n",
       "       [  0,   0, 379,   3,   1,   1,   0,   0,  13,   0,   3,   0],\n",
       "       [ 12,  12,   5, 320,  14,   2,   3,   6,   0,   9,  14,   3],\n",
       "       [  3,  10,   0,  11, 334,   2,  10,  12,   0,   4,  14,   0],\n",
       "       [ 12,   1,   0,   8,   4, 369,   2,   1,   0,   2,   1,   0],\n",
       "       [  0,   0,   0,   4,   5,   2, 384,   2,   0,   3,   0,   0],\n",
       "       [  1,   1,   0,   1,  20,   0,   1, 374,   0,   0,   2,   0],\n",
       "       [  0,   0,   4,   4,   0,   0,   0,   0, 380,   6,   5,   1],\n",
       "       [  1,   1,   0,   1,   0,   0,   0,   3,   0, 383,   3,   8],\n",
       "       [  3,   0,   1,   2,   4,   0,   0,   0,   0,   1, 369,   0],\n",
       "       [  0,   0,   0,   0,   0,   0,   0,   0,   0,   0,   0, 204]])"
      ]
     },
     "execution_count": 11,
     "metadata": {},
     "output_type": "execute_result"
    }
   ],
   "source": [
    "confusion_matrix(y_test, pred)"
   ]
  },
  {
   "cell_type": "code",
   "execution_count": 12,
   "metadata": {},
   "outputs": [
    {
     "data": {
      "text/plain": [
       "0.9282286212914486"
      ]
     },
     "execution_count": 12,
     "metadata": {},
     "output_type": "execute_result"
    }
   ],
   "source": [
    "accuracy_score(y_test, pred)"
   ]
  },
  {
   "cell_type": "code",
   "execution_count": 8,
   "metadata": {},
   "outputs": [],
   "source": [
    "# prediction with the best preforming model\n",
    "clf = SVC(kernel='rbf', C=10, gamma='scale', random_state=399)\n",
    "clf.fit(X_train, y_train)\n",
    "pred = clf.predict(X_test)"
   ]
  },
  {
   "cell_type": "code",
   "execution_count": 9,
   "metadata": {},
   "outputs": [
    {
     "data": {
      "text/plain": [
       "array([[375,   0,   2,   4,   1,  11,   1,   3,   0,   1,   1,   1],\n",
       "       [  4, 384,   0,   6,   2,   0,   1,   1,   0,   2,   0,   0],\n",
       "       [  0,   0, 385,   2,   1,   2,   0,   0,   6,   1,   3,   0],\n",
       "       [ 17,  12,   6, 319,  15,   2,   1,   6,   1,   4,  15,   2],\n",
       "       [  2,   9,   1,   9, 338,   1,   6,  12,   0,   5,  17,   0],\n",
       "       [ 15,   1,   0,   9,   3, 366,   2,   1,   1,   1,   1,   0],\n",
       "       [  0,   0,   0,   3,   3,   2, 386,   2,   0,   4,   0,   0],\n",
       "       [  1,   0,   0,   3,  19,   0,   4, 366,   0,   1,   6,   0],\n",
       "       [  0,   0,   4,   3,   0,   0,   0,   0, 379,   6,   6,   2],\n",
       "       [  2,   0,   0,   2,   0,   1,   0,   2,   0, 381,   4,   8],\n",
       "       [  3,   0,   1,   0,   5,   0,   0,   0,   0,   0, 371,   0],\n",
       "       [  0,   0,   0,   0,   0,   0,   0,   0,   0,   1,   0, 203]])"
      ]
     },
     "execution_count": 9,
     "metadata": {},
     "output_type": "execute_result"
    }
   ],
   "source": [
    "confusion_matrix(y_test, pred)"
   ]
  },
  {
   "cell_type": "code",
   "execution_count": 10,
   "metadata": {},
   "outputs": [
    {
     "data": {
      "text/plain": [
       "0.9277923211169284"
      ]
     },
     "execution_count": 10,
     "metadata": {},
     "output_type": "execute_result"
    }
   ],
   "source": [
    "accuracy_score(y_test, pred)"
   ]
  },
  {
   "cell_type": "code",
   "execution_count": 11,
   "metadata": {},
   "outputs": [
    {
     "data": {
      "text/plain": [
       "(23927, 99)"
      ]
     },
     "execution_count": 11,
     "metadata": {},
     "output_type": "execute_result"
    }
   ],
   "source": [
    "X_train.shape"
   ]
  },
  {
   "cell_type": "code",
   "execution_count": null,
   "metadata": {},
   "outputs": [],
   "source": []
  }
 ],
 "metadata": {
  "kernelspec": {
   "display_name": "kaggle",
   "language": "python",
   "name": "kaggle"
  },
  "language_info": {
   "codemirror_mode": {
    "name": "ipython",
    "version": 3
   },
   "file_extension": ".py",
   "mimetype": "text/x-python",
   "name": "python",
   "nbconvert_exporter": "python",
   "pygments_lexer": "ipython3",
   "version": "3.8.5"
  }
 },
 "nbformat": 4,
 "nbformat_minor": 4
}
