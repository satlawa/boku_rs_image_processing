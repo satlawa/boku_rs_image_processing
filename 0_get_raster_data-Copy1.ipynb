{
 "cells": [
  {
   "cell_type": "code",
   "execution_count": 1,
   "metadata": {},
   "outputs": [],
   "source": [
    "import ee\n",
    "\n",
    "# Initialize the Earth Engine module.\n",
    "ee.Initialize()"
   ]
  },
  {
   "cell_type": "code",
   "execution_count": 2,
   "metadata": {},
   "outputs": [],
   "source": [
    "\n",
    "aoi = ee.Geometry.Polygon([[16.423269379713, 48.484524861983],\n",
    "                          [16.423269379713, 48.125585982779],\n",
    "                          [16.979571008400, 48.125585982779],\n",
    "                          [16.979571008400, 48.484524861983]])"
   ]
  },
  {
   "cell_type": "code",
   "execution_count": null,
   "metadata": {},
   "outputs": [],
   "source": [
    "#################################\n",
    "### export Sentinel 2A images ###\n",
    "#################################"
   ]
  },
  {
   "cell_type": "code",
   "execution_count": 16,
   "metadata": {},
   "outputs": [],
   "source": [
    "# filter sentinel 2A dataset\n",
    "sen2_ic = ee.ImageCollection(ee.ImageCollection('COPERNICUS/S2_SR')\n",
    "                       .filterBounds(aoi) \n",
    "                       .filterDate(ee.Date('2018-06-16'), ee.Date('2018-06-18'))\n",
    "                       .sort('GRANULE_ID', False))"
   ]
  },
  {
   "cell_type": "code",
   "execution_count": 17,
   "metadata": {},
   "outputs": [],
   "source": [
    "imageS2 = ee.Image(sen2_ic.first()).clip(aoi).select('B.*')"
   ]
  },
  {
   "cell_type": "code",
   "execution_count": 18,
   "metadata": {},
   "outputs": [
    {
     "data": {
      "text/plain": [
       "['B1', 'B2', 'B3', 'B4', 'B5', 'B6', 'B7', 'B8', 'B8A', 'B9', 'B11', 'B12']"
      ]
     },
     "execution_count": 18,
     "metadata": {},
     "output_type": "execute_result"
    }
   ],
   "source": [
    "# list band names\n",
    "imageS2.bandNames().getInfo()"
   ]
  },
  {
   "cell_type": "code",
   "execution_count": 24,
   "metadata": {},
   "outputs": [],
   "source": [
    "# download via google drive\n",
    "task = ee.batch.Export.image.toDrive(image=imageS2,\n",
    "                                     description='sentinel2_20180617_march',\n",
    "                                     region=aoi,\n",
    "                                     fileNamePrefix='export_march',\n",
    "                                     crs='EPSG:32633',\n",
    "                                     fileFormat='GeoTIFF',\n",
    "                                     maxPixels=1800000000)\n",
    "task.start()"
   ]
  },
  {
   "cell_type": "code",
   "execution_count": 55,
   "metadata": {},
   "outputs": [
    {
     "data": {
      "text/plain": [
       "{'state': 'COMPLETED',\n",
       " 'description': 'sentinel2_20180617_march',\n",
       " 'creation_timestamp_ms': 1623319731152,\n",
       " 'update_timestamp_ms': 1623320883928,\n",
       " 'start_timestamp_ms': 1623319751698,\n",
       " 'task_type': 'EXPORT_IMAGE',\n",
       " 'destination_uris': ['https://drive.google.com/',\n",
       "  'https://drive.google.com/',\n",
       "  'https://drive.google.com/',\n",
       "  'https://drive.google.com/',\n",
       "  'https://drive.google.com/',\n",
       "  'https://drive.google.com/',\n",
       "  'https://drive.google.com/',\n",
       "  'https://drive.google.com/',\n",
       "  'https://drive.google.com/',\n",
       "  'https://drive.google.com/',\n",
       "  'https://drive.google.com/',\n",
       "  'https://drive.google.com/',\n",
       "  'https://drive.google.com/',\n",
       "  'https://drive.google.com/',\n",
       "  'https://drive.google.com/',\n",
       "  'https://drive.google.com/'],\n",
       " 'attempt': 1,\n",
       " 'id': 'RFN3B4JSR2NEXFPADOV7AWO5',\n",
       " 'name': 'projects/earthengine-legacy/operations/RFN3B4JSR2NEXFPADOV7AWO5'}"
      ]
     },
     "execution_count": 55,
     "metadata": {},
     "output_type": "execute_result"
    }
   ],
   "source": [
    "task.status()"
   ]
  },
  {
   "cell_type": "code",
   "execution_count": null,
   "metadata": {},
   "outputs": [],
   "source": [
    "#################################\n",
    "### export Sentinel 1 GND ###\n",
    "#################################"
   ]
  },
  {
   "cell_type": "code",
   "execution_count": 3,
   "metadata": {},
   "outputs": [],
   "source": [
    "# Next, we filter the S1 archive to get an image over the aoi acquired sometime in August, 2020. \n",
    "# Any old image will do fine, so we won't bother to specify the orbit number or whether we want\n",
    "# the ASCENDING or DESCENDING node\n",
    "imageS1 = ee.Image(ee.ImageCollection('COPERNICUS/S1_GRD') \n",
    "                       .filterBounds(aoi) \n",
    "                       .filterDate(ee.Date('2018-04-17'), ee.Date('2018-04-21')) \n",
    "                       .first() \n",
    "                       .clip(aoi))\n",
    "#.sort('GRANULE_ID', False))"
   ]
  },
  {
   "cell_type": "code",
   "execution_count": 4,
   "metadata": {},
   "outputs": [
    {
     "data": {
      "text/plain": [
       "['VV', 'VH', 'angle']"
      ]
     },
     "execution_count": 4,
     "metadata": {},
     "output_type": "execute_result"
    }
   ],
   "source": [
    "imageS1.bandNames().getInfo()"
   ]
  },
  {
   "cell_type": "code",
   "execution_count": 5,
   "metadata": {
    "scrolled": true
   },
   "outputs": [
    {
     "data": {
      "text/plain": [
       "{'type': 'Image',\n",
       " 'bands': [{'id': 'VV',\n",
       "   'data_type': {'type': 'PixelType', 'precision': 'double'},\n",
       "   'dimensions': [4215, 4082],\n",
       "   'origin': [7737, 12110],\n",
       "   'crs': 'EPSG:32633',\n",
       "   'crs_transform': [10, 0, 527792.7758107622, 0, -10, 5493149.891424081]},\n",
       "  {'id': 'VH',\n",
       "   'data_type': {'type': 'PixelType', 'precision': 'double'},\n",
       "   'dimensions': [4215, 4082],\n",
       "   'origin': [7737, 12110],\n",
       "   'crs': 'EPSG:32633',\n",
       "   'crs_transform': [10, 0, 527792.7758107622, 0, -10, 5493149.891424081]},\n",
       "  {'id': 'angle',\n",
       "   'data_type': {'type': 'PixelType', 'precision': 'float'},\n",
       "   'dimensions': [4, 4],\n",
       "   'origin': [11, 4],\n",
       "   'crs': 'EPSG:32633',\n",
       "   'crs_transform': [-12950.15147327166,\n",
       "    -2856.47758146713,\n",
       "    811134.9369330469,\n",
       "    1824.3846291070804,\n",
       "    -20176.168274845928,\n",
       "    5448220.278710495]}],\n",
       " 'id': 'COPERNICUS/S1_GRD/S1A_IW_GRDH_1SDV_20180420T050133_20180420T050158_021546_025215_0C31',\n",
       " 'version': 1624115775572816,\n",
       " 'properties': {'GRD_Post_Processing_start': 1524208469260,\n",
       "  'sliceNumber': 8,\n",
       "  'GRD_Post_Processing_facility_name': 'Copernicus S1 Core Ground Segment - UPA',\n",
       "  'resolution': 'H',\n",
       "  'SLC_Processing_facility_name': 'Copernicus S1 Core Ground Segment - UPA',\n",
       "  'system:footprint': {'type': 'Polygon',\n",
       "   'coordinates': [[[16.423269379712995, 48.125585982779],\n",
       "     [16.9795710084, 48.125585982779],\n",
       "     [16.979571008400004, 48.484524861983],\n",
       "     [16.423269379712995, 48.484524861983],\n",
       "     [16.423269379712995, 48.125585982779]]]},\n",
       "  'familyName': 'SENTINEL-1',\n",
       "  'segmentStartTime': 1524200314600,\n",
       "  'missionDataTakeID': 152085,\n",
       "  'GRD_Post_Processing_facility_country': 'United Kingdom',\n",
       "  'nssdcIdentifier': '2014-016A',\n",
       "  'productClass': 'S',\n",
       "  'phaseIdentifier': 1,\n",
       "  'orbitProperties_pass': 'DESCENDING',\n",
       "  'relativeOrbitNumber_stop': 124,\n",
       "  'SLC_Processing_facility_site': 'Airbus DS-Newport',\n",
       "  'GRD_Post_Processing_stop': 1524209095000,\n",
       "  'system:time_start': 1524200493000,\n",
       "  'instrumentMode': 'IW',\n",
       "  'totalSlices': 19,\n",
       "  'SLC_Processing_stop': 1524208874000,\n",
       "  'startTimeANX': 2154713,\n",
       "  'SLC_Processing_start': 1524208585000,\n",
       "  'resolution_meters': 10,\n",
       "  'instrumentSwath': 'IW',\n",
       "  'relativeOrbitNumber_start': 124,\n",
       "  'productTimelinessCategory': 'Fast-24h',\n",
       "  'SLC_Processing_software_name': 'Sentinel-1 IPF',\n",
       "  'sliceProductFlag': 'true',\n",
       "  'S1TBX_Calibration_vers': '6.0.4',\n",
       "  'orbitNumber_start': 21546,\n",
       "  'GRD_Post_Processing_facility_site': 'Airbus DS-Newport',\n",
       "  'instrument': 'Synthetic Aperture Radar',\n",
       "  'GRD_Post_Processing_software_name': 'Sentinel-1 IPF',\n",
       "  'platform_number': 'A',\n",
       "  'S1TBX_SAR_Processing_vers': '6.0.4',\n",
       "  'productType': 'GRD',\n",
       "  'orbitProperties_ascendingNodeTime': 1524198338590,\n",
       "  'stopTimeANX': 2179712,\n",
       "  'productComposition': 'Slice',\n",
       "  'productClassDescription': 'SAR Standard L1 Product',\n",
       "  'GRD_Post_Processing_software_version': '002.90',\n",
       "  'SLC_Processing_software_version': '002.90',\n",
       "  'orbitNumber_stop': 21546,\n",
       "  'instrumentConfigurationID': 6,\n",
       "  'system:asset_size': 4070569403,\n",
       "  'cycleNumber': 137,\n",
       "  'system:index': 'S1A_IW_GRDH_1SDV_20180420T050133_20180420T050158_021546_025215_0C31',\n",
       "  'SNAP_Graph_Processing_Framework_GPF_vers': '6.0.4',\n",
       "  'SLC_Processing_facility_org': 'ESA',\n",
       "  'SLC_Processing_facility_country': 'United Kingdom',\n",
       "  'GRD_Post_Processing_facility_org': 'ESA',\n",
       "  'transmitterReceiverPolarisation': ['VV', 'VH']}}"
      ]
     },
     "execution_count": 5,
     "metadata": {},
     "output_type": "execute_result"
    }
   ],
   "source": [
    "imageS1.getInfo()"
   ]
  },
  {
   "cell_type": "code",
   "execution_count": 6,
   "metadata": {},
   "outputs": [],
   "source": [
    "# download via google drive\n",
    "task = ee.batch.Export.image.toDrive(image=imageS1.select('VH'),\n",
    "                                     description='sentinel1_20180420_march_descending',\n",
    "                                     region=aoi,\n",
    "                                     fileNamePrefix='S1_20180420_march_d',\n",
    "                                     crs='EPSG:32633',\n",
    "                                     fileFormat='GeoTIFF',\n",
    "                                     maxPixels=1800000000)\n",
    "task.start()"
   ]
  },
  {
   "cell_type": "code",
   "execution_count": 7,
   "metadata": {},
   "outputs": [
    {
     "data": {
      "text/plain": [
       "{'state': 'READY',\n",
       " 'description': 'sentinel1_20180420_march_descending',\n",
       " 'creation_timestamp_ms': 1624117499975,\n",
       " 'update_timestamp_ms': 1624117499975,\n",
       " 'start_timestamp_ms': 0,\n",
       " 'task_type': 'EXPORT_IMAGE',\n",
       " 'id': '3VLMTTAGZTJ7YUQ6VQARPZ64',\n",
       " 'name': 'projects/earthengine-legacy/operations/3VLMTTAGZTJ7YUQ6VQARPZ64'}"
      ]
     },
     "execution_count": 7,
     "metadata": {},
     "output_type": "execute_result"
    }
   ],
   "source": [
    "task.status()"
   ]
  },
  {
   "cell_type": "code",
   "execution_count": null,
   "metadata": {},
   "outputs": [],
   "source": []
  },
  {
   "cell_type": "code",
   "execution_count": null,
   "metadata": {},
   "outputs": [],
   "source": []
  },
  {
   "cell_type": "code",
   "execution_count": null,
   "metadata": {},
   "outputs": [],
   "source": [
    "# specify extend\n",
    "geoJSON = {\n",
    "  \"type\": \"FeatureCollection\",\n",
    "  \"features\": [\n",
    "    {\n",
    "      \"type\": \"Feature\",\n",
    "      \"properties\": {},\n",
    "      \"geometry\": {\n",
    "        \"type\": \"Polygon\",\n",
    "        \"coordinates\": [\n",
    "          [\n",
    "            [\n",
    "              16.423269379713,\n",
    "              48.484524861983\n",
    "            ],\n",
    "            [\n",
    "              16.423269379713,\n",
    "              48.125585982779\n",
    "            ],\n",
    "            [\n",
    "              16.423269379713,\n",
    "              48.125585982779\n",
    "            ],\n",
    "            [\n",
    "              16.423269379713,\n",
    "              48.484524861983\n",
    "            ],\n",
    "            [\n",
    "              16.423269379713,\n",
    "              48.484524861983\n",
    "            ]\n",
    "          ]\n",
    "        ]\n",
    "      }\n",
    "    }\n",
    "  ]\n",
    "}\n",
    "\n",
    "# get coordinates\n",
    "coords = geoJSON['features'][0]['geometry']['coordinates']\n",
    "# create ee.Geometry()\n",
    "aoi = ee.Geometry.Polygon(coords)"
   ]
  },
  {
   "cell_type": "code",
   "execution_count": null,
   "metadata": {},
   "outputs": [],
   "source": []
  },
  {
   "cell_type": "code",
   "execution_count": 26,
   "metadata": {},
   "outputs": [],
   "source": [
    "x = [[369,   1,   1,  18,   2,   1,   4,   1,   0,   1,   1,   1],\n",
    "       [  2, 381,   0,  15,   2,   0,   0,   0,   0,   0,   0,   0],\n",
    "       [  0,   0, 391,   6,   0,   0,   0,   0,   0,   0,   2,   1],\n",
    "       [  5,   6,   6, 336,   9,   0,   2,   0,   2,   8,  20,   6],\n",
    "       [  2,  14,   0,   8, 335,   3,   7,  16,   0,   0,  15,   0],\n",
    "       [  2,   7,   0,  18,   3, 364,   2,   2,   0,   0,   0,   2],\n",
    "       [  0,   0,   0,   6,   3,   3, 382,   4,   0,   0,   0,   2],\n",
    "       [  1,   1,   0,   4,  14,   3,   8, 367,   0,   0,   2,   0],\n",
    "       [  0,   0,   0,   2,   0,   0,   0,   0, 388,   0,  10,   0],\n",
    "       [  0,   0,   1,   4,   0,   0,   0,   3,   0, 387,   3,   2],\n",
    "       [  3,   0,   0,   1,   3,   0,   0,   0,   0,   3, 370,   0],\n",
    "       [  0,   0,   0,   0,   0,   0,   0,   0,   0,   0,   0, 204]]"
   ]
  },
  {
   "cell_type": "code",
   "execution_count": 32,
   "metadata": {},
   "outputs": [],
   "source": [
    "x = [[376,   0,   2,  10,   1,   6,   2,   2,   0,   0,   0,   1],\n",
    "       [  4, 389,   0,   5,   2,   0,   0,   0,   0,   0,   0,   0],\n",
    "       [  0,   0, 396,   2,   0,   0,   0,   0,   0,   1,   1,   0],\n",
    "       [  6,   7,   6, 345,   7,   0,   1,   1,   2,   6,  16,   3],\n",
    "       [  0,  11,   0,   5, 355,   1,   9,   5,   0,   0,  14,   0],\n",
    "       [  5,   2,   0,   9,   2, 381,   0,   0,   0,   0,   0,   1],\n",
    "       [  1,   0,   0,   2,   1,   4, 392,   0,   0,   0,   0,   0],\n",
    "       [  1,   0,   0,   1,   7,   0,   1, 389,   0,   0,   1,   0],\n",
    "       [  0,   0,   0,   0,   0,   0,   0,   0, 396,   0,   4,   0],\n",
    "       [  0,   0,   0,   0,   0,   0,   0,   2,   0, 394,   3,   1],\n",
    "       [  3,   0,   0,   1,   4,   0,   0,   0,   0,   0, 372,   0],\n",
    "       [  0,   0,   0,   0,   0,   0,   0,   0,   0,   0,   0, 204]]"
   ]
  },
  {
   "cell_type": "code",
   "execution_count": 5,
   "metadata": {},
   "outputs": [
    {
     "name": "stdout",
     "output_type": "stream",
     "text": [
      "369 & 1 & 1 & 18 & 2 & 1 & 4 & 1 & 0 & 1 & 1 & 1 \\\\\n",
      "2 & 381 & 0 & 15 & 2 & 0 & 0 & 0 & 0 & 0 & 0 & 0 \\\\\n",
      "0 & 0 & 391 & 6 & 0 & 0 & 0 & 0 & 0 & 0 & 2 & 1 \\\\\n",
      "5 & 6 & 6 & 336 & 9 & 0 & 2 & 0 & 2 & 8 & 20 & 6 \\\\\n",
      "2 & 14 & 0 & 8 & 335 & 3 & 7 & 16 & 0 & 0 & 15 & 0 \\\\\n",
      "2 & 7 & 0 & 18 & 3 & 364 & 2 & 2 & 0 & 0 & 0 & 2 \\\\\n",
      "0 & 0 & 0 & 6 & 3 & 3 & 382 & 4 & 0 & 0 & 0 & 2 \\\\\n",
      "1 & 1 & 0 & 4 & 14 & 3 & 8 & 367 & 0 & 0 & 2 & 0 \\\\\n",
      "0 & 0 & 0 & 2 & 0 & 0 & 0 & 0 & 388 & 0 & 10 & 0 \\\\\n",
      "0 & 0 & 1 & 4 & 0 & 0 & 0 & 3 & 0 & 387 & 3 & 2 \\\\\n",
      "3 & 0 & 0 & 1 & 3 & 0 & 0 & 0 & 0 & 3 & 370 & 0 \\\\\n",
      "0 & 0 & 0 & 0 & 0 & 0 & 0 & 0 & 0 & 0 & 0 & 204 \\\\\n"
     ]
    }
   ],
   "source": [
    "l = len(x)\n",
    "for xs in x:\n",
    "    string = ''\n",
    "    for i, xss in enumerate(xs):\n",
    "        if i < l-1:\n",
    "            string = string + str(xss) + ' & '\n",
    "        else:\n",
    "            string = string + str(xss) + ' \\\\\\\\'\n",
    "    print(string)"
   ]
  },
  {
   "cell_type": "code",
   "execution_count": 8,
   "metadata": {},
   "outputs": [],
   "source": [
    "import numpy as np"
   ]
  },
  {
   "cell_type": "code",
   "execution_count": 33,
   "metadata": {},
   "outputs": [],
   "source": [
    "x = np.array(x)"
   ]
  },
  {
   "cell_type": "code",
   "execution_count": 34,
   "metadata": {},
   "outputs": [
    {
     "data": {
      "text/plain": [
       "array([396, 409, 404, 380, 379, 392, 405, 399, 398, 401, 411, 210])"
      ]
     },
     "execution_count": 34,
     "metadata": {},
     "output_type": "execute_result"
    }
   ],
   "source": [
    "x.sum(axis=0)"
   ]
  },
  {
   "cell_type": "code",
   "execution_count": 35,
   "metadata": {},
   "outputs": [
    {
     "data": {
      "text/plain": [
       "array([400, 400, 400, 400, 400, 400, 400, 400, 400, 400, 380, 204])"
      ]
     },
     "execution_count": 35,
     "metadata": {},
     "output_type": "execute_result"
    }
   ],
   "source": [
    "x.sum(axis=1)"
   ]
  },
  {
   "cell_type": "code",
   "execution_count": 36,
   "metadata": {},
   "outputs": [
    {
     "data": {
      "text/plain": [
       "array([0.94 , 0.972, 0.99 , 0.862, 0.888, 0.952, 0.98 , 0.972, 0.99 ,\n",
       "       0.985, 0.979, 1.   ])"
      ]
     },
     "execution_count": 36,
     "metadata": {},
     "output_type": "execute_result"
    }
   ],
   "source": [
    "np.round(x.max(axis=1)/x.sum(axis=1),3)"
   ]
  },
  {
   "cell_type": "code",
   "execution_count": 37,
   "metadata": {},
   "outputs": [
    {
     "data": {
      "text/plain": [
       "array([0.949, 0.951, 0.98 , 0.908, 0.937, 0.972, 0.968, 0.975, 0.995,\n",
       "       0.983, 0.905, 0.971])"
      ]
     },
     "execution_count": 37,
     "metadata": {},
     "output_type": "execute_result"
    }
   ],
   "source": [
    "np.round(x.max(axis=0)/x.sum(axis=0),3)"
   ]
  },
  {
   "cell_type": "code",
   "execution_count": null,
   "metadata": {},
   "outputs": [],
   "source": []
  },
  {
   "cell_type": "code",
   "execution_count": 38,
   "metadata": {},
   "outputs": [],
   "source": [
    "import matplotlib.pyplot as plt"
   ]
  },
  {
   "cell_type": "code",
   "execution_count": null,
   "metadata": {},
   "outputs": [],
   "source": [
    "plt.scatter(x, y, s=area1, marker='^', c=c)\n",
    "plt.scatter(x, y, s=area2, marker='o', c=c)\n",
    "# Show the boundary between the regions:\n",
    "theta = np.arange(0, np.pi / 2, 0.01)\n",
    "plt.plot(r0 * np.cos(theta), r0 * np.sin(theta))\n",
    "\n",
    "plt.show()"
   ]
  },
  {
   "cell_type": "code",
   "execution_count": 45,
   "metadata": {},
   "outputs": [],
   "source": [
    "y = np.array([[0.688, 0.855, 0.886, 0.881, 0.889, 0.914, 0.917],\n",
    "[0.661, 0.860, 0.899, 0.890, 0.899, 0.932, 0.932],\n",
    "[0.766, 0.968, 0.993, 0.981, 0.993, 0.996, 0.996],\n",
    "[0.703, 0.908, 0.931, 0.928, 0.933, 0.956, 0.957]])"
   ]
  },
  {
   "cell_type": "code",
   "execution_count": 46,
   "metadata": {},
   "outputs": [],
   "source": [
    "x = np.array(['LAI', 'S1', 'S2', 'LAI+S1', 'LAI+S2', 'S1+S2', 'All'])"
   ]
  },
  {
   "cell_type": "code",
   "execution_count": 59,
   "metadata": {},
   "outputs": [
    {
     "data": {
      "image/png": "[encoded data removed]",
      "text/plain": [
       "<Figure size 432x288 with 1 Axes>"
      ]
     },
     "metadata": {
      "needs_background": "light"
     },
     "output_type": "display_data"
    }
   ],
   "source": [
    "plt.scatter(x, y[0], marker='2', c='#1f77b4', label=\"original - cross validation\")\n",
    "plt.scatter(x, y[1], marker='.', c='#1f77b4', label=\"original - test\")\n",
    "plt.scatter(x, y[2], marker='2', c='#ff7f0e', label=\"extended - cross validation\")\n",
    "plt.scatter(x, y[3], marker='.', c='#ff7f0e', label=\"extended - test\")\n",
    "\n",
    "plt.ylabel(\"Overall Accuracy\")\n",
    "plt.legend(loc='lower right')\n",
    "\n",
    "plt.show()"
   ]
  },
  {
   "cell_type": "code",
   "execution_count": 66,
   "metadata": {},
   "outputs": [
    {
     "data": {
      "image/png": "[encoded data removed]",
      "text/plain": [
       "<Figure size 432x288 with 1 Axes>"
      ]
     },
     "metadata": {
      "needs_background": "light"
     },
     "output_type": "display_data"
    }
   ],
   "source": [
    "fig, ax = plt.subplots()\n",
    "ax.scatter(x, y[0], marker='2', c='#1f77b4', label=\"original - cross validation\")\n",
    "ax.scatter(x, y[1], marker='.', c='#1f77b4', label=\"original - test\")\n",
    "ax.scatter(x, y[2], marker='2', c='#2ca02c', label=\"extended - cross validation\")\n",
    "ax.scatter(x, y[3], marker='.', c='#2ca02c', label=\"extended - test\")\n",
    "\n",
    "ax.spines['top'].set_visible(False)\n",
    "ax.spines['right'].set_visible(False)\n",
    "\n",
    "ax.spines['left'].set_visible(False)\n",
    "\n",
    "\n",
    "plt.ylabel(\"Overall Accuracy\")\n",
    "ax.legend(loc='lower right',frameon = False)\n",
    "\n",
    "plt.savefig('books_read.png', dpi=300)"
   ]
  },
  {
   "cell_type": "code",
   "execution_count": null,
   "metadata": {},
   "outputs": [],
   "source": []
  }
 ],
 "metadata": {
  "kernelspec": {
   "display_name": "googleee",
   "language": "python",
   "name": "googleee"
  },
  "language_info": {
   "codemirror_mode": {
    "name": "ipython",
    "version": 3
   },
   "file_extension": ".py",
   "mimetype": "text/x-python",
   "name": "python",
   "nbconvert_exporter": "python",
   "pygments_lexer": "ipython3",
   "version": "3.9.4"
  }
 },
 "nbformat": 4,
 "nbformat_minor": 4
}
